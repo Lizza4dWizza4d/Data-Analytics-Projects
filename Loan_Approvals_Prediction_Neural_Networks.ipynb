{
  "nbformat": 4,
  "nbformat_minor": 0,
  "metadata": {
    "colab": {
      "provenance": []
    },
    "kernelspec": {
      "name": "python3",
      "display_name": "Python 3"
    },
    "language_info": {
      "name": "python"
    }
  },
  "cells": [
    {
      "cell_type": "markdown",
      "source": [
        "# Hypothetical Problem:"
      ],
      "metadata": {
        "id": "lVyDPIcZS5qF"
      }
    },
    {
      "cell_type": "markdown",
      "source": [
        "#### I have chosen to work for a financial services (Banking or Non-Banking Financial institution) that provides lending services to its customers. As a data scientist, I have been given the task of predicting whether a customer will be completing the E-signing of the loan they applied for, i.e. whether their loan application will be accepted or not, with the help of data collected on the customers, such as their age, income, employment status, existing debt, risk scores etc.\n",
        "#### Importance :  It is important for banks and other financial institutions to pick the right customers when extending loans. When targetting customers for offering lending services, promotional rates and additional tertiary services that the bank also indulges in, having a better idea of which customers may ultimately be approved for a loan after thorough checks and procedural flow gives an added advantage to the financial service marketing wing of the banks.\n",
        "#### Benefits from predicting which customers are likely to be able to complete the loan e-signing procedure : Lending is one of the most vital sources of income for a financial institution and the most heavily targetted for expansion, an inability to target the right customers in a timely manner may lead to extra costs incurred in marketting the product for the banks and a knowledge of the right customers based on a few analysed metrics can significantly reduce these costs as well as increase penetration in the market. A rudimentary analysis can also help in building backwards analysis of which customer segments to target and how, what interest rates to choose based on a customer's vulnerability, income stability and other obligations.\n",
        "#### The relevant data may be collected from the information filled out by borrowers while applying for loans or via online forms. For our purpose, we have taken a credit Financial dataset from the opensource website kaggle (https://www.kaggle.com/datasets/yashpaloswal/esigning-of-loanbased-on-financial-history/data)\n",
        "#### Formulating the problem as a machine learning task : The problem at hand is a classification task to predict whether a loan applicant will be able to complete the e-signing process for loan approval. To do this I will clean the dataset chosen (given), run data preprocessing tasks on it to make it more comfortable for my machine learning model to learn from, I will be running a neural network algorithm and tweaking the various parameters used in building and training the model to get the best results for our task at hand."
      ],
      "metadata": {
        "id": "Tb9EltswPzsm"
      }
    },
    {
      "cell_type": "markdown",
      "source": [
        "# Importing the libraries"
      ],
      "metadata": {
        "id": "__Cw7n3zSU93"
      }
    },
    {
      "cell_type": "code",
      "execution_count": null,
      "metadata": {
        "id": "crwNKtXHPuBf"
      },
      "outputs": [],
      "source": [
        "import pandas as pd\n",
        "import numpy as np\n",
        "import sklearn.model_selection\n",
        "import sklearn.compose\n",
        "import seaborn as sns\n",
        "from matplotlib import pyplot as plt\n",
        "import plotly.graph_objects as go\n",
        "from sklearn.preprocessing import StandardScaler, MinMaxScaler\n",
        "from sklearn.preprocessing import OneHotEncoder\n",
        "\n",
        "import tensorflow as tf\n",
        "from keras.layers import Dense, BatchNormalization, Dropout\n",
        "from sklearn.metrics import accuracy_score, precision_score, recall_score, f1_score, classification_report, confusion_matrix"
      ]
    },
    {
      "cell_type": "markdown",
      "source": [
        "# Loading the dataset"
      ],
      "metadata": {
        "id": "akZxML6LS87D"
      }
    },
    {
      "cell_type": "code",
      "source": [
        "df = pd.read_csv(\"Financial-Data.csv\")\n",
        "df.head()"
      ],
      "metadata": {
        "colab": {
          "base_uri": "https://localhost:8080/",
          "height": 256
        },
        "id": "iXWLXEboS-df",
        "outputId": "d090ed47-ed13-40f0-cac0-673c22fe6c36"
      },
      "execution_count": null,
      "outputs": [
        {
          "output_type": "execute_result",
          "data": {
            "text/plain": [
              "   Entry_id  age  pay_schedule  home_owner  income  months_employed  \\\n",
              "0   7629673   40     bi-weekly           1    3135                0   \n",
              "1   3560428   61        weekly           0    3180                0   \n",
              "2   6934997   23        weekly           0    1540                6   \n",
              "3   5682812   40     bi-weekly           0    5230                0   \n",
              "4   5335819   33  semi-monthly           0    3590                0   \n",
              "\n",
              "   years_employed  current_address_year  personal_account_m  \\\n",
              "0               3                     3                   6   \n",
              "1               6                     3                   2   \n",
              "2               0                     0                   7   \n",
              "3               6                     1                   2   \n",
              "4               5                     2                   2   \n",
              "\n",
              "   personal_account_y  ...  amount_requested  risk_score  risk_score_2  \\\n",
              "0                   2  ...               550       36200      0.737398   \n",
              "1                   7  ...               600       30150      0.738510   \n",
              "2                   1  ...               450       34550      0.642993   \n",
              "3                   7  ...               700       42150      0.665224   \n",
              "4                   8  ...              1100       53850      0.617361   \n",
              "\n",
              "   risk_score_3  risk_score_4  risk_score_5  ext_quality_score  \\\n",
              "0      0.903517      0.487712      0.515977           0.580918   \n",
              "1      0.881027      0.713423      0.826402           0.730720   \n",
              "2      0.766554      0.595018      0.762284           0.531712   \n",
              "3      0.960832      0.767828      0.778831           0.792552   \n",
              "4      0.857560      0.613487      0.665523           0.744634   \n",
              "\n",
              "   ext_quality_score_2  inquiries_last_month  e_signed  \n",
              "0             0.380918                    10         1  \n",
              "1             0.630720                     9         0  \n",
              "2             0.531712                     7         0  \n",
              "3             0.592552                     8         1  \n",
              "4             0.744634                    12         0  \n",
              "\n",
              "[5 rows x 21 columns]"
            ],
            "text/html": [
              "\n",
              "  <div id=\"df-db6f92ac-3316-470d-b0b2-e48b05196d53\" class=\"colab-df-container\">\n",
              "    <div>\n",
              "<style scoped>\n",
              "    .dataframe tbody tr th:only-of-type {\n",
              "        vertical-align: middle;\n",
              "    }\n",
              "\n",
              "    .dataframe tbody tr th {\n",
              "        vertical-align: top;\n",
              "    }\n",
              "\n",
              "    .dataframe thead th {\n",
              "        text-align: right;\n",
              "    }\n",
              "</style>\n",
              "<table border=\"1\" class=\"dataframe\">\n",
              "  <thead>\n",
              "    <tr style=\"text-align: right;\">\n",
              "      <th></th>\n",
              "      <th>Entry_id</th>\n",
              "      <th>age</th>\n",
              "      <th>pay_schedule</th>\n",
              "      <th>home_owner</th>\n",
              "      <th>income</th>\n",
              "      <th>months_employed</th>\n",
              "      <th>years_employed</th>\n",
              "      <th>current_address_year</th>\n",
              "      <th>personal_account_m</th>\n",
              "      <th>personal_account_y</th>\n",
              "      <th>...</th>\n",
              "      <th>amount_requested</th>\n",
              "      <th>risk_score</th>\n",
              "      <th>risk_score_2</th>\n",
              "      <th>risk_score_3</th>\n",
              "      <th>risk_score_4</th>\n",
              "      <th>risk_score_5</th>\n",
              "      <th>ext_quality_score</th>\n",
              "      <th>ext_quality_score_2</th>\n",
              "      <th>inquiries_last_month</th>\n",
              "      <th>e_signed</th>\n",
              "    </tr>\n",
              "  </thead>\n",
              "  <tbody>\n",
              "    <tr>\n",
              "      <th>0</th>\n",
              "      <td>7629673</td>\n",
              "      <td>40</td>\n",
              "      <td>bi-weekly</td>\n",
              "      <td>1</td>\n",
              "      <td>3135</td>\n",
              "      <td>0</td>\n",
              "      <td>3</td>\n",
              "      <td>3</td>\n",
              "      <td>6</td>\n",
              "      <td>2</td>\n",
              "      <td>...</td>\n",
              "      <td>550</td>\n",
              "      <td>36200</td>\n",
              "      <td>0.737398</td>\n",
              "      <td>0.903517</td>\n",
              "      <td>0.487712</td>\n",
              "      <td>0.515977</td>\n",
              "      <td>0.580918</td>\n",
              "      <td>0.380918</td>\n",
              "      <td>10</td>\n",
              "      <td>1</td>\n",
              "    </tr>\n",
              "    <tr>\n",
              "      <th>1</th>\n",
              "      <td>3560428</td>\n",
              "      <td>61</td>\n",
              "      <td>weekly</td>\n",
              "      <td>0</td>\n",
              "      <td>3180</td>\n",
              "      <td>0</td>\n",
              "      <td>6</td>\n",
              "      <td>3</td>\n",
              "      <td>2</td>\n",
              "      <td>7</td>\n",
              "      <td>...</td>\n",
              "      <td>600</td>\n",
              "      <td>30150</td>\n",
              "      <td>0.738510</td>\n",
              "      <td>0.881027</td>\n",
              "      <td>0.713423</td>\n",
              "      <td>0.826402</td>\n",
              "      <td>0.730720</td>\n",
              "      <td>0.630720</td>\n",
              "      <td>9</td>\n",
              "      <td>0</td>\n",
              "    </tr>\n",
              "    <tr>\n",
              "      <th>2</th>\n",
              "      <td>6934997</td>\n",
              "      <td>23</td>\n",
              "      <td>weekly</td>\n",
              "      <td>0</td>\n",
              "      <td>1540</td>\n",
              "      <td>6</td>\n",
              "      <td>0</td>\n",
              "      <td>0</td>\n",
              "      <td>7</td>\n",
              "      <td>1</td>\n",
              "      <td>...</td>\n",
              "      <td>450</td>\n",
              "      <td>34550</td>\n",
              "      <td>0.642993</td>\n",
              "      <td>0.766554</td>\n",
              "      <td>0.595018</td>\n",
              "      <td>0.762284</td>\n",
              "      <td>0.531712</td>\n",
              "      <td>0.531712</td>\n",
              "      <td>7</td>\n",
              "      <td>0</td>\n",
              "    </tr>\n",
              "    <tr>\n",
              "      <th>3</th>\n",
              "      <td>5682812</td>\n",
              "      <td>40</td>\n",
              "      <td>bi-weekly</td>\n",
              "      <td>0</td>\n",
              "      <td>5230</td>\n",
              "      <td>0</td>\n",
              "      <td>6</td>\n",
              "      <td>1</td>\n",
              "      <td>2</td>\n",
              "      <td>7</td>\n",
              "      <td>...</td>\n",
              "      <td>700</td>\n",
              "      <td>42150</td>\n",
              "      <td>0.665224</td>\n",
              "      <td>0.960832</td>\n",
              "      <td>0.767828</td>\n",
              "      <td>0.778831</td>\n",
              "      <td>0.792552</td>\n",
              "      <td>0.592552</td>\n",
              "      <td>8</td>\n",
              "      <td>1</td>\n",
              "    </tr>\n",
              "    <tr>\n",
              "      <th>4</th>\n",
              "      <td>5335819</td>\n",
              "      <td>33</td>\n",
              "      <td>semi-monthly</td>\n",
              "      <td>0</td>\n",
              "      <td>3590</td>\n",
              "      <td>0</td>\n",
              "      <td>5</td>\n",
              "      <td>2</td>\n",
              "      <td>2</td>\n",
              "      <td>8</td>\n",
              "      <td>...</td>\n",
              "      <td>1100</td>\n",
              "      <td>53850</td>\n",
              "      <td>0.617361</td>\n",
              "      <td>0.857560</td>\n",
              "      <td>0.613487</td>\n",
              "      <td>0.665523</td>\n",
              "      <td>0.744634</td>\n",
              "      <td>0.744634</td>\n",
              "      <td>12</td>\n",
              "      <td>0</td>\n",
              "    </tr>\n",
              "  </tbody>\n",
              "</table>\n",
              "<p>5 rows × 21 columns</p>\n",
              "</div>\n",
              "    <div class=\"colab-df-buttons\">\n",
              "\n",
              "  <div class=\"colab-df-container\">\n",
              "    <button class=\"colab-df-convert\" onclick=\"convertToInteractive('df-db6f92ac-3316-470d-b0b2-e48b05196d53')\"\n",
              "            title=\"Convert this dataframe to an interactive table.\"\n",
              "            style=\"display:none;\">\n",
              "\n",
              "  <svg xmlns=\"http://www.w3.org/2000/svg\" height=\"24px\" viewBox=\"0 -960 960 960\">\n",
              "    <path d=\"M120-120v-720h720v720H120Zm60-500h600v-160H180v160Zm220 220h160v-160H400v160Zm0 220h160v-160H400v160ZM180-400h160v-160H180v160Zm440 0h160v-160H620v160ZM180-180h160v-160H180v160Zm440 0h160v-160H620v160Z\"/>\n",
              "  </svg>\n",
              "    </button>\n",
              "\n",
              "  <style>\n",
              "    .colab-df-container {\n",
              "      display:flex;\n",
              "      gap: 12px;\n",
              "    }\n",
              "\n",
              "    .colab-df-convert {\n",
              "      background-color: #E8F0FE;\n",
              "      border: none;\n",
              "      border-radius: 50%;\n",
              "      cursor: pointer;\n",
              "      display: none;\n",
              "      fill: #1967D2;\n",
              "      height: 32px;\n",
              "      padding: 0 0 0 0;\n",
              "      width: 32px;\n",
              "    }\n",
              "\n",
              "    .colab-df-convert:hover {\n",
              "      background-color: #E2EBFA;\n",
              "      box-shadow: 0px 1px 2px rgba(60, 64, 67, 0.3), 0px 1px 3px 1px rgba(60, 64, 67, 0.15);\n",
              "      fill: #174EA6;\n",
              "    }\n",
              "\n",
              "    .colab-df-buttons div {\n",
              "      margin-bottom: 4px;\n",
              "    }\n",
              "\n",
              "    [theme=dark] .colab-df-convert {\n",
              "      background-color: #3B4455;\n",
              "      fill: #D2E3FC;\n",
              "    }\n",
              "\n",
              "    [theme=dark] .colab-df-convert:hover {\n",
              "      background-color: #434B5C;\n",
              "      box-shadow: 0px 1px 3px 1px rgba(0, 0, 0, 0.15);\n",
              "      filter: drop-shadow(0px 1px 2px rgba(0, 0, 0, 0.3));\n",
              "      fill: #FFFFFF;\n",
              "    }\n",
              "  </style>\n",
              "\n",
              "    <script>\n",
              "      const buttonEl =\n",
              "        document.querySelector('#df-db6f92ac-3316-470d-b0b2-e48b05196d53 button.colab-df-convert');\n",
              "      buttonEl.style.display =\n",
              "        google.colab.kernel.accessAllowed ? 'block' : 'none';\n",
              "\n",
              "      async function convertToInteractive(key) {\n",
              "        const element = document.querySelector('#df-db6f92ac-3316-470d-b0b2-e48b05196d53');\n",
              "        const dataTable =\n",
              "          await google.colab.kernel.invokeFunction('convertToInteractive',\n",
              "                                                    [key], {});\n",
              "        if (!dataTable) return;\n",
              "\n",
              "        const docLinkHtml = 'Like what you see? Visit the ' +\n",
              "          '<a target=\"_blank\" href=https://colab.research.google.com/notebooks/data_table.ipynb>data table notebook</a>'\n",
              "          + ' to learn more about interactive tables.';\n",
              "        element.innerHTML = '';\n",
              "        dataTable['output_type'] = 'display_data';\n",
              "        await google.colab.output.renderOutput(dataTable, element);\n",
              "        const docLink = document.createElement('div');\n",
              "        docLink.innerHTML = docLinkHtml;\n",
              "        element.appendChild(docLink);\n",
              "      }\n",
              "    </script>\n",
              "  </div>\n",
              "\n",
              "\n",
              "<div id=\"df-e1a238a3-7e59-4636-b2e5-5e62f7bf0a6c\">\n",
              "  <button class=\"colab-df-quickchart\" onclick=\"quickchart('df-e1a238a3-7e59-4636-b2e5-5e62f7bf0a6c')\"\n",
              "            title=\"Suggest charts\"\n",
              "            style=\"display:none;\">\n",
              "\n",
              "<svg xmlns=\"http://www.w3.org/2000/svg\" height=\"24px\"viewBox=\"0 0 24 24\"\n",
              "     width=\"24px\">\n",
              "    <g>\n",
              "        <path d=\"M19 3H5c-1.1 0-2 .9-2 2v14c0 1.1.9 2 2 2h14c1.1 0 2-.9 2-2V5c0-1.1-.9-2-2-2zM9 17H7v-7h2v7zm4 0h-2V7h2v10zm4 0h-2v-4h2v4z\"/>\n",
              "    </g>\n",
              "</svg>\n",
              "  </button>\n",
              "\n",
              "<style>\n",
              "  .colab-df-quickchart {\n",
              "      --bg-color: #E8F0FE;\n",
              "      --fill-color: #1967D2;\n",
              "      --hover-bg-color: #E2EBFA;\n",
              "      --hover-fill-color: #174EA6;\n",
              "      --disabled-fill-color: #AAA;\n",
              "      --disabled-bg-color: #DDD;\n",
              "  }\n",
              "\n",
              "  [theme=dark] .colab-df-quickchart {\n",
              "      --bg-color: #3B4455;\n",
              "      --fill-color: #D2E3FC;\n",
              "      --hover-bg-color: #434B5C;\n",
              "      --hover-fill-color: #FFFFFF;\n",
              "      --disabled-bg-color: #3B4455;\n",
              "      --disabled-fill-color: #666;\n",
              "  }\n",
              "\n",
              "  .colab-df-quickchart {\n",
              "    background-color: var(--bg-color);\n",
              "    border: none;\n",
              "    border-radius: 50%;\n",
              "    cursor: pointer;\n",
              "    display: none;\n",
              "    fill: var(--fill-color);\n",
              "    height: 32px;\n",
              "    padding: 0;\n",
              "    width: 32px;\n",
              "  }\n",
              "\n",
              "  .colab-df-quickchart:hover {\n",
              "    background-color: var(--hover-bg-color);\n",
              "    box-shadow: 0 1px 2px rgba(60, 64, 67, 0.3), 0 1px 3px 1px rgba(60, 64, 67, 0.15);\n",
              "    fill: var(--button-hover-fill-color);\n",
              "  }\n",
              "\n",
              "  .colab-df-quickchart-complete:disabled,\n",
              "  .colab-df-quickchart-complete:disabled:hover {\n",
              "    background-color: var(--disabled-bg-color);\n",
              "    fill: var(--disabled-fill-color);\n",
              "    box-shadow: none;\n",
              "  }\n",
              "\n",
              "  .colab-df-spinner {\n",
              "    border: 2px solid var(--fill-color);\n",
              "    border-color: transparent;\n",
              "    border-bottom-color: var(--fill-color);\n",
              "    animation:\n",
              "      spin 1s steps(1) infinite;\n",
              "  }\n",
              "\n",
              "  @keyframes spin {\n",
              "    0% {\n",
              "      border-color: transparent;\n",
              "      border-bottom-color: var(--fill-color);\n",
              "      border-left-color: var(--fill-color);\n",
              "    }\n",
              "    20% {\n",
              "      border-color: transparent;\n",
              "      border-left-color: var(--fill-color);\n",
              "      border-top-color: var(--fill-color);\n",
              "    }\n",
              "    30% {\n",
              "      border-color: transparent;\n",
              "      border-left-color: var(--fill-color);\n",
              "      border-top-color: var(--fill-color);\n",
              "      border-right-color: var(--fill-color);\n",
              "    }\n",
              "    40% {\n",
              "      border-color: transparent;\n",
              "      border-right-color: var(--fill-color);\n",
              "      border-top-color: var(--fill-color);\n",
              "    }\n",
              "    60% {\n",
              "      border-color: transparent;\n",
              "      border-right-color: var(--fill-color);\n",
              "    }\n",
              "    80% {\n",
              "      border-color: transparent;\n",
              "      border-right-color: var(--fill-color);\n",
              "      border-bottom-color: var(--fill-color);\n",
              "    }\n",
              "    90% {\n",
              "      border-color: transparent;\n",
              "      border-bottom-color: var(--fill-color);\n",
              "    }\n",
              "  }\n",
              "</style>\n",
              "\n",
              "  <script>\n",
              "    async function quickchart(key) {\n",
              "      const quickchartButtonEl =\n",
              "        document.querySelector('#' + key + ' button');\n",
              "      quickchartButtonEl.disabled = true;  // To prevent multiple clicks.\n",
              "      quickchartButtonEl.classList.add('colab-df-spinner');\n",
              "      try {\n",
              "        const charts = await google.colab.kernel.invokeFunction(\n",
              "            'suggestCharts', [key], {});\n",
              "      } catch (error) {\n",
              "        console.error('Error during call to suggestCharts:', error);\n",
              "      }\n",
              "      quickchartButtonEl.classList.remove('colab-df-spinner');\n",
              "      quickchartButtonEl.classList.add('colab-df-quickchart-complete');\n",
              "    }\n",
              "    (() => {\n",
              "      let quickchartButtonEl =\n",
              "        document.querySelector('#df-e1a238a3-7e59-4636-b2e5-5e62f7bf0a6c button');\n",
              "      quickchartButtonEl.style.display =\n",
              "        google.colab.kernel.accessAllowed ? 'block' : 'none';\n",
              "    })();\n",
              "  </script>\n",
              "</div>\n",
              "    </div>\n",
              "  </div>\n"
            ]
          },
          "metadata": {},
          "execution_count": 251
        }
      ]
    },
    {
      "cell_type": "markdown",
      "source": [
        "#### The Entry_id column is irrelevant to our problem here as it only serves as a numerical list, we will remove this column from the entire dataframe to not confuse our model later on"
      ],
      "metadata": {
        "id": "3wU4QCqYTitv"
      }
    },
    {
      "cell_type": "code",
      "source": [
        "df = df.drop(['Entry_id'], axis=1)\n",
        "df.head()"
      ],
      "metadata": {
        "colab": {
          "base_uri": "https://localhost:8080/",
          "height": 226
        },
        "id": "BCWydAP3TvYf",
        "outputId": "e33095a6-472c-4706-af1a-bde7e1be32ce"
      },
      "execution_count": null,
      "outputs": [
        {
          "output_type": "execute_result",
          "data": {
            "text/plain": [
              "   age  pay_schedule  home_owner  income  months_employed  years_employed  \\\n",
              "0   40     bi-weekly           1    3135                0               3   \n",
              "1   61        weekly           0    3180                0               6   \n",
              "2   23        weekly           0    1540                6               0   \n",
              "3   40     bi-weekly           0    5230                0               6   \n",
              "4   33  semi-monthly           0    3590                0               5   \n",
              "\n",
              "   current_address_year  personal_account_m  personal_account_y  has_debt  \\\n",
              "0                     3                   6                   2         1   \n",
              "1                     3                   2                   7         1   \n",
              "2                     0                   7                   1         1   \n",
              "3                     1                   2                   7         1   \n",
              "4                     2                   2                   8         1   \n",
              "\n",
              "   amount_requested  risk_score  risk_score_2  risk_score_3  risk_score_4  \\\n",
              "0               550       36200      0.737398      0.903517      0.487712   \n",
              "1               600       30150      0.738510      0.881027      0.713423   \n",
              "2               450       34550      0.642993      0.766554      0.595018   \n",
              "3               700       42150      0.665224      0.960832      0.767828   \n",
              "4              1100       53850      0.617361      0.857560      0.613487   \n",
              "\n",
              "   risk_score_5  ext_quality_score  ext_quality_score_2  inquiries_last_month  \\\n",
              "0      0.515977           0.580918             0.380918                    10   \n",
              "1      0.826402           0.730720             0.630720                     9   \n",
              "2      0.762284           0.531712             0.531712                     7   \n",
              "3      0.778831           0.792552             0.592552                     8   \n",
              "4      0.665523           0.744634             0.744634                    12   \n",
              "\n",
              "   e_signed  \n",
              "0         1  \n",
              "1         0  \n",
              "2         0  \n",
              "3         1  \n",
              "4         0  "
            ],
            "text/html": [
              "\n",
              "  <div id=\"df-f28ae1d2-9c43-4a84-8e1b-636af5219077\" class=\"colab-df-container\">\n",
              "    <div>\n",
              "<style scoped>\n",
              "    .dataframe tbody tr th:only-of-type {\n",
              "        vertical-align: middle;\n",
              "    }\n",
              "\n",
              "    .dataframe tbody tr th {\n",
              "        vertical-align: top;\n",
              "    }\n",
              "\n",
              "    .dataframe thead th {\n",
              "        text-align: right;\n",
              "    }\n",
              "</style>\n",
              "<table border=\"1\" class=\"dataframe\">\n",
              "  <thead>\n",
              "    <tr style=\"text-align: right;\">\n",
              "      <th></th>\n",
              "      <th>age</th>\n",
              "      <th>pay_schedule</th>\n",
              "      <th>home_owner</th>\n",
              "      <th>income</th>\n",
              "      <th>months_employed</th>\n",
              "      <th>years_employed</th>\n",
              "      <th>current_address_year</th>\n",
              "      <th>personal_account_m</th>\n",
              "      <th>personal_account_y</th>\n",
              "      <th>has_debt</th>\n",
              "      <th>amount_requested</th>\n",
              "      <th>risk_score</th>\n",
              "      <th>risk_score_2</th>\n",
              "      <th>risk_score_3</th>\n",
              "      <th>risk_score_4</th>\n",
              "      <th>risk_score_5</th>\n",
              "      <th>ext_quality_score</th>\n",
              "      <th>ext_quality_score_2</th>\n",
              "      <th>inquiries_last_month</th>\n",
              "      <th>e_signed</th>\n",
              "    </tr>\n",
              "  </thead>\n",
              "  <tbody>\n",
              "    <tr>\n",
              "      <th>0</th>\n",
              "      <td>40</td>\n",
              "      <td>bi-weekly</td>\n",
              "      <td>1</td>\n",
              "      <td>3135</td>\n",
              "      <td>0</td>\n",
              "      <td>3</td>\n",
              "      <td>3</td>\n",
              "      <td>6</td>\n",
              "      <td>2</td>\n",
              "      <td>1</td>\n",
              "      <td>550</td>\n",
              "      <td>36200</td>\n",
              "      <td>0.737398</td>\n",
              "      <td>0.903517</td>\n",
              "      <td>0.487712</td>\n",
              "      <td>0.515977</td>\n",
              "      <td>0.580918</td>\n",
              "      <td>0.380918</td>\n",
              "      <td>10</td>\n",
              "      <td>1</td>\n",
              "    </tr>\n",
              "    <tr>\n",
              "      <th>1</th>\n",
              "      <td>61</td>\n",
              "      <td>weekly</td>\n",
              "      <td>0</td>\n",
              "      <td>3180</td>\n",
              "      <td>0</td>\n",
              "      <td>6</td>\n",
              "      <td>3</td>\n",
              "      <td>2</td>\n",
              "      <td>7</td>\n",
              "      <td>1</td>\n",
              "      <td>600</td>\n",
              "      <td>30150</td>\n",
              "      <td>0.738510</td>\n",
              "      <td>0.881027</td>\n",
              "      <td>0.713423</td>\n",
              "      <td>0.826402</td>\n",
              "      <td>0.730720</td>\n",
              "      <td>0.630720</td>\n",
              "      <td>9</td>\n",
              "      <td>0</td>\n",
              "    </tr>\n",
              "    <tr>\n",
              "      <th>2</th>\n",
              "      <td>23</td>\n",
              "      <td>weekly</td>\n",
              "      <td>0</td>\n",
              "      <td>1540</td>\n",
              "      <td>6</td>\n",
              "      <td>0</td>\n",
              "      <td>0</td>\n",
              "      <td>7</td>\n",
              "      <td>1</td>\n",
              "      <td>1</td>\n",
              "      <td>450</td>\n",
              "      <td>34550</td>\n",
              "      <td>0.642993</td>\n",
              "      <td>0.766554</td>\n",
              "      <td>0.595018</td>\n",
              "      <td>0.762284</td>\n",
              "      <td>0.531712</td>\n",
              "      <td>0.531712</td>\n",
              "      <td>7</td>\n",
              "      <td>0</td>\n",
              "    </tr>\n",
              "    <tr>\n",
              "      <th>3</th>\n",
              "      <td>40</td>\n",
              "      <td>bi-weekly</td>\n",
              "      <td>0</td>\n",
              "      <td>5230</td>\n",
              "      <td>0</td>\n",
              "      <td>6</td>\n",
              "      <td>1</td>\n",
              "      <td>2</td>\n",
              "      <td>7</td>\n",
              "      <td>1</td>\n",
              "      <td>700</td>\n",
              "      <td>42150</td>\n",
              "      <td>0.665224</td>\n",
              "      <td>0.960832</td>\n",
              "      <td>0.767828</td>\n",
              "      <td>0.778831</td>\n",
              "      <td>0.792552</td>\n",
              "      <td>0.592552</td>\n",
              "      <td>8</td>\n",
              "      <td>1</td>\n",
              "    </tr>\n",
              "    <tr>\n",
              "      <th>4</th>\n",
              "      <td>33</td>\n",
              "      <td>semi-monthly</td>\n",
              "      <td>0</td>\n",
              "      <td>3590</td>\n",
              "      <td>0</td>\n",
              "      <td>5</td>\n",
              "      <td>2</td>\n",
              "      <td>2</td>\n",
              "      <td>8</td>\n",
              "      <td>1</td>\n",
              "      <td>1100</td>\n",
              "      <td>53850</td>\n",
              "      <td>0.617361</td>\n",
              "      <td>0.857560</td>\n",
              "      <td>0.613487</td>\n",
              "      <td>0.665523</td>\n",
              "      <td>0.744634</td>\n",
              "      <td>0.744634</td>\n",
              "      <td>12</td>\n",
              "      <td>0</td>\n",
              "    </tr>\n",
              "  </tbody>\n",
              "</table>\n",
              "</div>\n",
              "    <div class=\"colab-df-buttons\">\n",
              "\n",
              "  <div class=\"colab-df-container\">\n",
              "    <button class=\"colab-df-convert\" onclick=\"convertToInteractive('df-f28ae1d2-9c43-4a84-8e1b-636af5219077')\"\n",
              "            title=\"Convert this dataframe to an interactive table.\"\n",
              "            style=\"display:none;\">\n",
              "\n",
              "  <svg xmlns=\"http://www.w3.org/2000/svg\" height=\"24px\" viewBox=\"0 -960 960 960\">\n",
              "    <path d=\"M120-120v-720h720v720H120Zm60-500h600v-160H180v160Zm220 220h160v-160H400v160Zm0 220h160v-160H400v160ZM180-400h160v-160H180v160Zm440 0h160v-160H620v160ZM180-180h160v-160H180v160Zm440 0h160v-160H620v160Z\"/>\n",
              "  </svg>\n",
              "    </button>\n",
              "\n",
              "  <style>\n",
              "    .colab-df-container {\n",
              "      display:flex;\n",
              "      gap: 12px;\n",
              "    }\n",
              "\n",
              "    .colab-df-convert {\n",
              "      background-color: #E8F0FE;\n",
              "      border: none;\n",
              "      border-radius: 50%;\n",
              "      cursor: pointer;\n",
              "      display: none;\n",
              "      fill: #1967D2;\n",
              "      height: 32px;\n",
              "      padding: 0 0 0 0;\n",
              "      width: 32px;\n",
              "    }\n",
              "\n",
              "    .colab-df-convert:hover {\n",
              "      background-color: #E2EBFA;\n",
              "      box-shadow: 0px 1px 2px rgba(60, 64, 67, 0.3), 0px 1px 3px 1px rgba(60, 64, 67, 0.15);\n",
              "      fill: #174EA6;\n",
              "    }\n",
              "\n",
              "    .colab-df-buttons div {\n",
              "      margin-bottom: 4px;\n",
              "    }\n",
              "\n",
              "    [theme=dark] .colab-df-convert {\n",
              "      background-color: #3B4455;\n",
              "      fill: #D2E3FC;\n",
              "    }\n",
              "\n",
              "    [theme=dark] .colab-df-convert:hover {\n",
              "      background-color: #434B5C;\n",
              "      box-shadow: 0px 1px 3px 1px rgba(0, 0, 0, 0.15);\n",
              "      filter: drop-shadow(0px 1px 2px rgba(0, 0, 0, 0.3));\n",
              "      fill: #FFFFFF;\n",
              "    }\n",
              "  </style>\n",
              "\n",
              "    <script>\n",
              "      const buttonEl =\n",
              "        document.querySelector('#df-f28ae1d2-9c43-4a84-8e1b-636af5219077 button.colab-df-convert');\n",
              "      buttonEl.style.display =\n",
              "        google.colab.kernel.accessAllowed ? 'block' : 'none';\n",
              "\n",
              "      async function convertToInteractive(key) {\n",
              "        const element = document.querySelector('#df-f28ae1d2-9c43-4a84-8e1b-636af5219077');\n",
              "        const dataTable =\n",
              "          await google.colab.kernel.invokeFunction('convertToInteractive',\n",
              "                                                    [key], {});\n",
              "        if (!dataTable) return;\n",
              "\n",
              "        const docLinkHtml = 'Like what you see? Visit the ' +\n",
              "          '<a target=\"_blank\" href=https://colab.research.google.com/notebooks/data_table.ipynb>data table notebook</a>'\n",
              "          + ' to learn more about interactive tables.';\n",
              "        element.innerHTML = '';\n",
              "        dataTable['output_type'] = 'display_data';\n",
              "        await google.colab.output.renderOutput(dataTable, element);\n",
              "        const docLink = document.createElement('div');\n",
              "        docLink.innerHTML = docLinkHtml;\n",
              "        element.appendChild(docLink);\n",
              "      }\n",
              "    </script>\n",
              "  </div>\n",
              "\n",
              "\n",
              "<div id=\"df-15548627-da44-474f-b498-4fbf8f4b073d\">\n",
              "  <button class=\"colab-df-quickchart\" onclick=\"quickchart('df-15548627-da44-474f-b498-4fbf8f4b073d')\"\n",
              "            title=\"Suggest charts\"\n",
              "            style=\"display:none;\">\n",
              "\n",
              "<svg xmlns=\"http://www.w3.org/2000/svg\" height=\"24px\"viewBox=\"0 0 24 24\"\n",
              "     width=\"24px\">\n",
              "    <g>\n",
              "        <path d=\"M19 3H5c-1.1 0-2 .9-2 2v14c0 1.1.9 2 2 2h14c1.1 0 2-.9 2-2V5c0-1.1-.9-2-2-2zM9 17H7v-7h2v7zm4 0h-2V7h2v10zm4 0h-2v-4h2v4z\"/>\n",
              "    </g>\n",
              "</svg>\n",
              "  </button>\n",
              "\n",
              "<style>\n",
              "  .colab-df-quickchart {\n",
              "      --bg-color: #E8F0FE;\n",
              "      --fill-color: #1967D2;\n",
              "      --hover-bg-color: #E2EBFA;\n",
              "      --hover-fill-color: #174EA6;\n",
              "      --disabled-fill-color: #AAA;\n",
              "      --disabled-bg-color: #DDD;\n",
              "  }\n",
              "\n",
              "  [theme=dark] .colab-df-quickchart {\n",
              "      --bg-color: #3B4455;\n",
              "      --fill-color: #D2E3FC;\n",
              "      --hover-bg-color: #434B5C;\n",
              "      --hover-fill-color: #FFFFFF;\n",
              "      --disabled-bg-color: #3B4455;\n",
              "      --disabled-fill-color: #666;\n",
              "  }\n",
              "\n",
              "  .colab-df-quickchart {\n",
              "    background-color: var(--bg-color);\n",
              "    border: none;\n",
              "    border-radius: 50%;\n",
              "    cursor: pointer;\n",
              "    display: none;\n",
              "    fill: var(--fill-color);\n",
              "    height: 32px;\n",
              "    padding: 0;\n",
              "    width: 32px;\n",
              "  }\n",
              "\n",
              "  .colab-df-quickchart:hover {\n",
              "    background-color: var(--hover-bg-color);\n",
              "    box-shadow: 0 1px 2px rgba(60, 64, 67, 0.3), 0 1px 3px 1px rgba(60, 64, 67, 0.15);\n",
              "    fill: var(--button-hover-fill-color);\n",
              "  }\n",
              "\n",
              "  .colab-df-quickchart-complete:disabled,\n",
              "  .colab-df-quickchart-complete:disabled:hover {\n",
              "    background-color: var(--disabled-bg-color);\n",
              "    fill: var(--disabled-fill-color);\n",
              "    box-shadow: none;\n",
              "  }\n",
              "\n",
              "  .colab-df-spinner {\n",
              "    border: 2px solid var(--fill-color);\n",
              "    border-color: transparent;\n",
              "    border-bottom-color: var(--fill-color);\n",
              "    animation:\n",
              "      spin 1s steps(1) infinite;\n",
              "  }\n",
              "\n",
              "  @keyframes spin {\n",
              "    0% {\n",
              "      border-color: transparent;\n",
              "      border-bottom-color: var(--fill-color);\n",
              "      border-left-color: var(--fill-color);\n",
              "    }\n",
              "    20% {\n",
              "      border-color: transparent;\n",
              "      border-left-color: var(--fill-color);\n",
              "      border-top-color: var(--fill-color);\n",
              "    }\n",
              "    30% {\n",
              "      border-color: transparent;\n",
              "      border-left-color: var(--fill-color);\n",
              "      border-top-color: var(--fill-color);\n",
              "      border-right-color: var(--fill-color);\n",
              "    }\n",
              "    40% {\n",
              "      border-color: transparent;\n",
              "      border-right-color: var(--fill-color);\n",
              "      border-top-color: var(--fill-color);\n",
              "    }\n",
              "    60% {\n",
              "      border-color: transparent;\n",
              "      border-right-color: var(--fill-color);\n",
              "    }\n",
              "    80% {\n",
              "      border-color: transparent;\n",
              "      border-right-color: var(--fill-color);\n",
              "      border-bottom-color: var(--fill-color);\n",
              "    }\n",
              "    90% {\n",
              "      border-color: transparent;\n",
              "      border-bottom-color: var(--fill-color);\n",
              "    }\n",
              "  }\n",
              "</style>\n",
              "\n",
              "  <script>\n",
              "    async function quickchart(key) {\n",
              "      const quickchartButtonEl =\n",
              "        document.querySelector('#' + key + ' button');\n",
              "      quickchartButtonEl.disabled = true;  // To prevent multiple clicks.\n",
              "      quickchartButtonEl.classList.add('colab-df-spinner');\n",
              "      try {\n",
              "        const charts = await google.colab.kernel.invokeFunction(\n",
              "            'suggestCharts', [key], {});\n",
              "      } catch (error) {\n",
              "        console.error('Error during call to suggestCharts:', error);\n",
              "      }\n",
              "      quickchartButtonEl.classList.remove('colab-df-spinner');\n",
              "      quickchartButtonEl.classList.add('colab-df-quickchart-complete');\n",
              "    }\n",
              "    (() => {\n",
              "      let quickchartButtonEl =\n",
              "        document.querySelector('#df-15548627-da44-474f-b498-4fbf8f4b073d button');\n",
              "      quickchartButtonEl.style.display =\n",
              "        google.colab.kernel.accessAllowed ? 'block' : 'none';\n",
              "    })();\n",
              "  </script>\n",
              "</div>\n",
              "    </div>\n",
              "  </div>\n"
            ]
          },
          "metadata": {},
          "execution_count": 252
        }
      ]
    },
    {
      "cell_type": "markdown",
      "source": [
        "#### We will also address the problem of duplicates within our dataset now. Identifying and eliminating duplicates before performing the split."
      ],
      "metadata": {
        "id": "qjgVe3FkYBOw"
      }
    },
    {
      "cell_type": "code",
      "source": [
        "print(df.duplicated().sum())"
      ],
      "metadata": {
        "colab": {
          "base_uri": "https://localhost:8080/"
        },
        "id": "xymCxn8yYCLe",
        "outputId": "4cf20439-56d5-4511-814b-dd2000ffc9c3"
      },
      "execution_count": null,
      "outputs": [
        {
          "output_type": "stream",
          "name": "stdout",
          "text": [
            "0\n"
          ]
        }
      ]
    },
    {
      "cell_type": "markdown",
      "source": [
        "#### No duplicates, we move on."
      ],
      "metadata": {
        "id": "q_JAsqSMYPr2"
      }
    },
    {
      "cell_type": "markdown",
      "source": [
        "## Splitting the dataset into Training, Validation and Test sets to avoid data leakage"
      ],
      "metadata": {
        "id": "glRox2NiYWOe"
      }
    },
    {
      "cell_type": "code",
      "source": [
        "df_train, df_test = sklearn.model_selection.train_test_split(df, test_size=0.20,random_state=42)\n",
        "\n",
        "print(\"df size:\", df.shape)\n",
        "print(\"df_train size:\", df_train.shape)\n",
        "print(\"df_test size:\", df_test.shape)"
      ],
      "metadata": {
        "colab": {
          "base_uri": "https://localhost:8080/"
        },
        "id": "uCZ1iRNqDFiq",
        "outputId": "6374cd46-e9e8-4220-b906-43d389ed151d"
      },
      "execution_count": null,
      "outputs": [
        {
          "output_type": "stream",
          "name": "stdout",
          "text": [
            "df size: (17908, 20)\n",
            "df_train size: (14326, 20)\n",
            "df_test size: (3582, 20)\n"
          ]
        }
      ]
    },
    {
      "cell_type": "markdown",
      "source": [
        "#### (??) Test size has been kept at 0.2 i.e. 20% of the entire dataset, this seems reasonable for the given dataset.\n",
        "#### Going with test size over 20% seems suboptimal as it will reduce the training dataset size and given that our neural network would also require a validation split at the time of compilation and training of the model, it seems optimal to keep the test size at 20%.\n",
        "#### Another important point to note is that we will be validating our result with by performing validation split while fitting the model, eliminating the need for an extra validation set to be held out befoe training.\n",
        "#### We have also used random_state = 42 as our random number generator seed as it is a popular seed to select from, the random_state has been assigned to keep the results of the split constant over a number of trial runs."
      ],
      "metadata": {
        "id": "u72GswcFDpFb"
      }
    },
    {
      "cell_type": "markdown",
      "source": [
        "# Data Exploration"
      ],
      "metadata": {
        "id": "pWC69RcdDtKj"
      }
    },
    {
      "cell_type": "code",
      "source": [
        "df_train.info()"
      ],
      "metadata": {
        "colab": {
          "base_uri": "https://localhost:8080/"
        },
        "id": "DxTXyUJMDyPS",
        "outputId": "c32b0afd-bcf0-4f5f-f9f9-5a9dae01b59e"
      },
      "execution_count": null,
      "outputs": [
        {
          "output_type": "stream",
          "name": "stdout",
          "text": [
            "<class 'pandas.core.frame.DataFrame'>\n",
            "Int64Index: 14326 entries, 2698 to 15795\n",
            "Data columns (total 20 columns):\n",
            " #   Column                Non-Null Count  Dtype  \n",
            "---  ------                --------------  -----  \n",
            " 0   age                   14326 non-null  int64  \n",
            " 1   pay_schedule          14326 non-null  object \n",
            " 2   home_owner            14326 non-null  int64  \n",
            " 3   income                14326 non-null  int64  \n",
            " 4   months_employed       14326 non-null  int64  \n",
            " 5   years_employed        14326 non-null  int64  \n",
            " 6   current_address_year  14326 non-null  int64  \n",
            " 7   personal_account_m    14326 non-null  int64  \n",
            " 8   personal_account_y    14326 non-null  int64  \n",
            " 9   has_debt              14326 non-null  int64  \n",
            " 10  amount_requested      14326 non-null  int64  \n",
            " 11  risk_score            14326 non-null  int64  \n",
            " 12  risk_score_2          14326 non-null  float64\n",
            " 13  risk_score_3          14326 non-null  float64\n",
            " 14  risk_score_4          14326 non-null  float64\n",
            " 15  risk_score_5          14326 non-null  float64\n",
            " 16  ext_quality_score     14326 non-null  float64\n",
            " 17  ext_quality_score_2   14326 non-null  float64\n",
            " 18  inquiries_last_month  14326 non-null  int64  \n",
            " 19  e_signed              14326 non-null  int64  \n",
            "dtypes: float64(6), int64(13), object(1)\n",
            "memory usage: 2.3+ MB\n"
          ]
        }
      ]
    },
    {
      "cell_type": "markdown",
      "source": [
        "### Checking the distribution of prospective target label."
      ],
      "metadata": {
        "id": "0nCTdap8PbUQ"
      }
    },
    {
      "cell_type": "code",
      "source": [
        "sns.countplot(x='e_signed', data=df_train)\n",
        "plt.title(\"Status of E-signing by loan applicant\")\n",
        "plt.show()"
      ],
      "metadata": {
        "colab": {
          "base_uri": "https://localhost:8080/",
          "height": 472
        },
        "id": "NpkrStg_KZyC",
        "outputId": "ca208066-b617-4d39-fa05-9f198e0ac35b"
      },
      "execution_count": null,
      "outputs": [
        {
          "output_type": "display_data",
          "data": {
            "text/plain": [
              "<Figure size 640x480 with 1 Axes>"
            ],
            "image/png": "[encoded data removed]"
          },
          "metadata": {}
        }
      ]
    },
    {
      "cell_type": "markdown",
      "source": [
        "### Checking to see feature correlations and correlations with target label by the help of a correlation heatmap."
      ],
      "metadata": {
        "id": "CQAAE3IyIq1C"
      }
    },
    {
      "cell_type": "code",
      "source": [
        "df_train_only_numeric = df_train.drop(['pay_schedule'], axis=1)\n",
        "df_corr = df_train_only_numeric.corr()\n",
        "fig = go.Figure()\n",
        "fig.add_trace(\n",
        "    go.Heatmap(\n",
        "        x = df_corr.columns,\n",
        "        y = df_corr.index,\n",
        "        z = np.array(df_corr),\n",
        "        text=df_corr.values,\n",
        "        texttemplate='%{text:.3f}'\n",
        "    )\n",
        ")\n",
        "fig.show()"
      ],
      "metadata": {
        "colab": {
          "base_uri": "https://localhost:8080/",
          "height": 542
        },
        "id": "ELPbUuzvGdGx",
        "outputId": "d2547c1b-dd84-4384-a423-f195b4bae356"
      },
      "execution_count": null,
      "outputs": [
        {
          "output_type": "display_data",
          "data": {
            "text/html": [
              "<html>\n",
              "<head><meta charset=\"utf-8\" /></head>\n",
              "<body>\n",
              "    <div>            <script src=\"https://cdnjs.cloudflare.com/ajax/libs/mathjax/2.7.5/MathJax.js?config=TeX-AMS-MML_SVG\"></script><script type=\"text/javascript\">if (window.MathJax && window.MathJax.Hub && window.MathJax.Hub.Config) {window.MathJax.Hub.Config({SVG: {font: \"STIX-Web\"}});}</script>                <script type=\"text/javascript\">window.PlotlyConfig = {MathJaxConfig: 'local'};</script>\n",
              "        <script charset=\"utf-8\" src=\"https://cdn.plot.ly/plotly-2.24.1.min.js\"></script>                <div id=\"8c388a37-cd81-4d0a-9abb-5b868636f9d1\" class=\"plotly-graph-div\" style=\"height:525px; width:100%;\"></div>            <script type=\"text/javascript\">                                    window.PLOTLYENV=window.PLOTLYENV || {};                                    if (document.getElementById(\"8c388a37-cd81-4d0a-9abb-5b868636f9d1\")) {                    Plotly.newPlot(                        \"8c388a37-cd81-4d0a-9abb-5b868636f9d1\",                        [{\"text\":[[1.0,0.1426579089190752,0.16906105306767807,-0.10518721000539223,0.1827807382109619,0.14870182336597948,-0.01454387185142679,0.0416150074577601,-0.04560006935438738,0.07793868037569225,0.1633630084262486,-0.020870956585181566,0.10669761443679597,0.06538577470027282,0.08736534970550548,0.03407639923247,0.03923330939492509,0.04229081319014371,-0.09635007589899472],[0.1426579089190752,1.0,0.14626579483516103,0.021614099120280682,0.028073463090108847,0.17465523033380304,0.015863029792828453,-0.04687278971497577,-0.07945654825356097,0.030320205166951344,0.10838048483936362,0.0022056155279635897,0.05378247312076194,-0.14070591425664944,-0.08098181748465427,0.011124251354783787,0.011092514769698487,0.015857456221982754,-0.04978411136637062],[0.16906105306767807,0.14626579483516103,1.0,-0.04158104889000196,0.10322354143196966,0.04366548470640885,0.009578454046410927,-0.003917955113056664,-0.011012041354803676,0.286965029321498,0.16580722289775768,-0.015727654011211234,0.06503204715223133,-0.0013602778411836848,0.02759143518678087,-0.010479038634039954,-0.0038216011980462396,0.049666293673132,0.029322310293559372],[-0.10518721000539223,0.021614099120280682,-0.04158104889000196,1.0,-0.19041120477046303,-0.06405688389979605,0.20975009207831224,-0.024709712017744346,0.0006519842828969174,-0.040298242843262694,-0.04563269161783389,0.030101670895800226,-0.025822100630310277,-0.015305793672500175,-0.01844692733011771,-0.019139726265994104,0.0007785300979314239,-0.019570038854455546,0.007440122023943669],[0.1827807382109619,0.028073463090108847,0.10322354143196966,-0.19041120477046303,1.0,0.3409873981111901,-0.04661918501658475,0.19265394510630943,0.005008925607852808,0.08285148301971768,0.09658752683842682,-0.056588954275978764,0.0760804944179182,-0.02701859428692174,-0.0017216352074888655,0.012264971576750558,0.028282130149955488,0.015621383815971087,0.004031095208834315],[0.14870182336597948,0.17465523033380304,0.04366548470640885,-0.06405688389979605,0.3409873981111901,1.0,0.08269763771128577,0.11270522220996074,0.0221551117783278,0.06596422882548633,0.09120495342946679,-0.06225451538674124,0.0631981722434705,-0.15841900520095326,-0.09235605922047083,0.0010322115325097725,0.006720753654934057,0.01903749179859326,-0.019858166657789177],[-0.01454387185142679,0.015863029792828453,0.009578454046410927,0.20975009207831224,-0.04661918501658475,0.08269763771128577,1.0,-0.14168132348515763,0.25126378520467174,-0.04619011023389069,-0.04385431785672017,-0.02894456540509914,0.03168517326684902,-0.06431596208308327,-0.03289050209182201,-0.019398845079262417,-0.010264803538505373,-0.026260565769856498,-0.07866002938733546],[0.0416150074577601,-0.04687278971497577,-0.003917955113056664,-0.024709712017744346,0.19265394510630943,0.11270522220996074,-0.14168132348515763,1.0,-0.03134081888444315,0.04946523996721043,0.017694832318826143,0.017501002052241674,0.07917174220094372,0.009529566225957891,0.035555302622900284,0.03515341588745254,0.028229727820437894,0.003295722470692299,-0.028597120300934926],[-0.04560006935438738,-0.07945654825356097,-0.011012041354803676,0.0006519842828969174,0.005008925607852808,0.0221551117783278,0.25126378520467174,-0.03134081888444315,1.0,-0.01042631278266693,-0.0179648467655825,-0.03656441726463015,-0.0007182021249536251,0.0017424784005458805,0.002436260448654611,-0.020867065840313163,-0.008818315439879825,-0.0011583974323434185,0.04207113207757656],[0.07793868037569225,0.030320205166951344,0.286965029321498,-0.040298242843262694,0.08285148301971768,0.06596422882548633,-0.04619011023389069,0.04946523996721043,-0.01042631278266693,1.0,0.28838327302156724,0.008381725768078186,0.050734601592248484,0.05616530127828374,0.07221977849308416,0.025535340111212848,0.020903731792224177,-0.03832982018538454,0.07241866129285808],[0.1633630084262486,0.10838048483936362,0.16580722289775768,-0.04563269161783389,0.09658752683842682,0.09120495342946679,-0.04385431785672017,0.017694832318826143,-0.0179648467655825,0.28838327302156724,1.0,0.21144655413723215,0.10578844323164963,0.11567887086011042,0.1318345028735054,0.0957082861793381,0.10777377652436666,-0.26206763065527217,0.09144436845897816],[-0.020870956585181566,0.0022056155279635897,-0.015727654011211234,0.030101670895800226,-0.056588954275978764,-0.06225451538674124,-0.02894456540509914,0.017501002052241674,-0.03656441726463015,0.008381725768078186,0.21144655413723215,1.0,0.17800302200182114,0.22906131312612452,0.22976797195004894,0.20517250102156986,0.19627098619168046,-0.21152027992566858,0.012476775887656283],[0.10669761443679597,0.05378247312076194,0.06503204715223133,-0.025822100630310277,0.0760804944179182,0.0631981722434705,0.03168517326684902,0.07917174220094372,-0.0007182021249536251,0.050734601592248484,0.10578844323164963,0.17800302200182114,1.0,0.15629396423691588,0.4782012249942449,0.252396168744729,0.2655758681442478,-0.03731736253728445,-0.035971941638451355],[0.06538577470027282,-0.14070591425664944,-0.0013602778411836848,-0.015305793672500175,-0.02701859428692174,-0.15841900520095326,-0.06431596208308327,0.009529566225957891,0.0017424784005458805,0.05616530127828374,0.11567887086011042,0.22906131312612452,0.15629396423691588,1.0,0.5848131596627641,0.24059513280678307,0.23245800395268387,-0.0341609559463132,0.004607365775892499],[0.08736534970550548,-0.08098181748465427,0.02759143518678087,-0.01844692733011771,-0.0017216352074888655,-0.09235605922047083,-0.03289050209182201,0.035555302622900284,0.002436260448654611,0.07221977849308416,0.1318345028735054,0.22976797195004894,0.4782012249942449,0.5848131596627641,1.0,0.2771066358372793,0.2720356826487341,-0.014767927720315342,-0.008392670776976354],[0.03407639923247,0.011124251354783787,-0.010479038634039954,-0.019139726265994104,0.012264971576750558,0.0010322115325097725,-0.019398845079262417,0.03515341588745254,-0.020867065840313163,0.025535340111212848,0.0957082861793381,0.20517250102156986,0.252396168744729,0.24059513280678307,0.2771066358372793,1.0,0.356651853175089,-0.06673237737669035,-0.035321698687157226],[0.03923330939492509,0.011092514769698487,-0.0038216011980462396,0.0007785300979314239,0.028282130149955488,0.006720753654934057,-0.010264803538505373,0.028229727820437894,-0.008818315439879825,0.020903731792224177,0.10777377652436666,0.19627098619168046,0.2655758681442478,0.23245800395268387,0.2720356826487341,0.356651853175089,1.0,-0.08183176463839914,-0.024101712415156736],[0.04229081319014371,0.015857456221982754,0.049666293673132,-0.019570038854455546,0.015621383815971087,0.01903749179859326,-0.026260565769856498,0.003295722470692299,-0.0011583974323434185,-0.03832982018538454,-0.26206763065527217,-0.21152027992566858,-0.03731736253728445,-0.0341609559463132,-0.014767927720315342,-0.06673237737669035,-0.08183176463839914,1.0,-0.021440427171413198],[-0.09635007589899472,-0.04978411136637062,0.029322310293559372,0.007440122023943669,0.004031095208834315,-0.019858166657789177,-0.07866002938733546,-0.028597120300934926,0.04207113207757656,0.07241866129285808,0.09144436845897816,0.012476775887656283,-0.035971941638451355,0.004607365775892499,-0.008392670776976354,-0.035321698687157226,-0.024101712415156736,-0.021440427171413198,1.0]],\"texttemplate\":\"%{text:.3f}\",\"x\":[\"age\",\"home_owner\",\"income\",\"months_employed\",\"years_employed\",\"current_address_year\",\"personal_account_m\",\"personal_account_y\",\"has_debt\",\"amount_requested\",\"risk_score\",\"risk_score_2\",\"risk_score_3\",\"risk_score_4\",\"risk_score_5\",\"ext_quality_score\",\"ext_quality_score_2\",\"inquiries_last_month\",\"e_signed\"],\"y\":[\"age\",\"home_owner\",\"income\",\"months_employed\",\"years_employed\",\"current_address_year\",\"personal_account_m\",\"personal_account_y\",\"has_debt\",\"amount_requested\",\"risk_score\",\"risk_score_2\",\"risk_score_3\",\"risk_score_4\",\"risk_score_5\",\"ext_quality_score\",\"ext_quality_score_2\",\"inquiries_last_month\",\"e_signed\"],\"z\":[[1.0,0.1426579089190752,0.16906105306767807,-0.10518721000539223,0.1827807382109619,0.14870182336597948,-0.01454387185142679,0.0416150074577601,-0.04560006935438738,0.07793868037569225,0.1633630084262486,-0.020870956585181566,0.10669761443679597,0.06538577470027282,0.08736534970550548,0.03407639923247,0.03923330939492509,0.04229081319014371,-0.09635007589899472],[0.1426579089190752,1.0,0.14626579483516103,0.021614099120280682,0.028073463090108847,0.17465523033380304,0.015863029792828453,-0.04687278971497577,-0.07945654825356097,0.030320205166951344,0.10838048483936362,0.0022056155279635897,0.05378247312076194,-0.14070591425664944,-0.08098181748465427,0.011124251354783787,0.011092514769698487,0.015857456221982754,-0.04978411136637062],[0.16906105306767807,0.14626579483516103,1.0,-0.04158104889000196,0.10322354143196966,0.04366548470640885,0.009578454046410927,-0.003917955113056664,-0.011012041354803676,0.286965029321498,0.16580722289775768,-0.015727654011211234,0.06503204715223133,-0.0013602778411836848,0.02759143518678087,-0.010479038634039954,-0.0038216011980462396,0.049666293673132,0.029322310293559372],[-0.10518721000539223,0.021614099120280682,-0.04158104889000196,1.0,-0.19041120477046303,-0.06405688389979605,0.20975009207831224,-0.024709712017744346,0.0006519842828969174,-0.040298242843262694,-0.04563269161783389,0.030101670895800226,-0.025822100630310277,-0.015305793672500175,-0.01844692733011771,-0.019139726265994104,0.0007785300979314239,-0.019570038854455546,0.007440122023943669],[0.1827807382109619,0.028073463090108847,0.10322354143196966,-0.19041120477046303,1.0,0.3409873981111901,-0.04661918501658475,0.19265394510630943,0.005008925607852808,0.08285148301971768,0.09658752683842682,-0.056588954275978764,0.0760804944179182,-0.02701859428692174,-0.0017216352074888655,0.012264971576750558,0.028282130149955488,0.015621383815971087,0.004031095208834315],[0.14870182336597948,0.17465523033380304,0.04366548470640885,-0.06405688389979605,0.3409873981111901,1.0,0.08269763771128577,0.11270522220996074,0.0221551117783278,0.06596422882548633,0.09120495342946679,-0.06225451538674124,0.0631981722434705,-0.15841900520095326,-0.09235605922047083,0.0010322115325097725,0.006720753654934057,0.01903749179859326,-0.019858166657789177],[-0.01454387185142679,0.015863029792828453,0.009578454046410927,0.20975009207831224,-0.04661918501658475,0.08269763771128577,1.0,-0.14168132348515763,0.25126378520467174,-0.04619011023389069,-0.04385431785672017,-0.02894456540509914,0.03168517326684902,-0.06431596208308327,-0.03289050209182201,-0.019398845079262417,-0.010264803538505373,-0.026260565769856498,-0.07866002938733546],[0.0416150074577601,-0.04687278971497577,-0.003917955113056664,-0.024709712017744346,0.19265394510630943,0.11270522220996074,-0.14168132348515763,1.0,-0.03134081888444315,0.04946523996721043,0.017694832318826143,0.017501002052241674,0.07917174220094372,0.009529566225957891,0.035555302622900284,0.03515341588745254,0.028229727820437894,0.003295722470692299,-0.028597120300934926],[-0.04560006935438738,-0.07945654825356097,-0.011012041354803676,0.0006519842828969174,0.005008925607852808,0.0221551117783278,0.25126378520467174,-0.03134081888444315,1.0,-0.01042631278266693,-0.0179648467655825,-0.03656441726463015,-0.0007182021249536251,0.0017424784005458805,0.002436260448654611,-0.020867065840313163,-0.008818315439879825,-0.0011583974323434185,0.04207113207757656],[0.07793868037569225,0.030320205166951344,0.286965029321498,-0.040298242843262694,0.08285148301971768,0.06596422882548633,-0.04619011023389069,0.04946523996721043,-0.01042631278266693,1.0,0.28838327302156724,0.008381725768078186,0.050734601592248484,0.05616530127828374,0.07221977849308416,0.025535340111212848,0.020903731792224177,-0.03832982018538454,0.07241866129285808],[0.1633630084262486,0.10838048483936362,0.16580722289775768,-0.04563269161783389,0.09658752683842682,0.09120495342946679,-0.04385431785672017,0.017694832318826143,-0.0179648467655825,0.28838327302156724,1.0,0.21144655413723215,0.10578844323164963,0.11567887086011042,0.1318345028735054,0.0957082861793381,0.10777377652436666,-0.26206763065527217,0.09144436845897816],[-0.020870956585181566,0.0022056155279635897,-0.015727654011211234,0.030101670895800226,-0.056588954275978764,-0.06225451538674124,-0.02894456540509914,0.017501002052241674,-0.03656441726463015,0.008381725768078186,0.21144655413723215,1.0,0.17800302200182114,0.22906131312612452,0.22976797195004894,0.20517250102156986,0.19627098619168046,-0.21152027992566858,0.012476775887656283],[0.10669761443679597,0.05378247312076194,0.06503204715223133,-0.025822100630310277,0.0760804944179182,0.0631981722434705,0.03168517326684902,0.07917174220094372,-0.0007182021249536251,0.050734601592248484,0.10578844323164963,0.17800302200182114,1.0,0.15629396423691588,0.4782012249942449,0.252396168744729,0.2655758681442478,-0.03731736253728445,-0.035971941638451355],[0.06538577470027282,-0.14070591425664944,-0.0013602778411836848,-0.015305793672500175,-0.02701859428692174,-0.15841900520095326,-0.06431596208308327,0.009529566225957891,0.0017424784005458805,0.05616530127828374,0.11567887086011042,0.22906131312612452,0.15629396423691588,1.0,0.5848131596627641,0.24059513280678307,0.23245800395268387,-0.0341609559463132,0.004607365775892499],[0.08736534970550548,-0.08098181748465427,0.02759143518678087,-0.01844692733011771,-0.0017216352074888655,-0.09235605922047083,-0.03289050209182201,0.035555302622900284,0.002436260448654611,0.07221977849308416,0.1318345028735054,0.22976797195004894,0.4782012249942449,0.5848131596627641,1.0,0.2771066358372793,0.2720356826487341,-0.014767927720315342,-0.008392670776976354],[0.03407639923247,0.011124251354783787,-0.010479038634039954,-0.019139726265994104,0.012264971576750558,0.0010322115325097725,-0.019398845079262417,0.03515341588745254,-0.020867065840313163,0.025535340111212848,0.0957082861793381,0.20517250102156986,0.252396168744729,0.24059513280678307,0.2771066358372793,1.0,0.356651853175089,-0.06673237737669035,-0.035321698687157226],[0.03923330939492509,0.011092514769698487,-0.0038216011980462396,0.0007785300979314239,0.028282130149955488,0.006720753654934057,-0.010264803538505373,0.028229727820437894,-0.008818315439879825,0.020903731792224177,0.10777377652436666,0.19627098619168046,0.2655758681442478,0.23245800395268387,0.2720356826487341,0.356651853175089,1.0,-0.08183176463839914,-0.024101712415156736],[0.04229081319014371,0.015857456221982754,0.049666293673132,-0.019570038854455546,0.015621383815971087,0.01903749179859326,-0.026260565769856498,0.003295722470692299,-0.0011583974323434185,-0.03832982018538454,-0.26206763065527217,-0.21152027992566858,-0.03731736253728445,-0.0341609559463132,-0.014767927720315342,-0.06673237737669035,-0.08183176463839914,1.0,-0.021440427171413198],[-0.09635007589899472,-0.04978411136637062,0.029322310293559372,0.007440122023943669,0.004031095208834315,-0.019858166657789177,-0.07866002938733546,-0.028597120300934926,0.04207113207757656,0.07241866129285808,0.09144436845897816,0.012476775887656283,-0.035971941638451355,0.004607365775892499,-0.008392670776976354,-0.035321698687157226,-0.024101712415156736,-0.021440427171413198,1.0]],\"type\":\"heatmap\"}],                        {\"template\":{\"data\":{\"histogram2dcontour\":[{\"type\":\"histogram2dcontour\",\"colorbar\":{\"outlinewidth\":0,\"ticks\":\"\"},\"colorscale\":[[0.0,\"#0d0887\"],[0.1111111111111111,\"#46039f\"],[0.2222222222222222,\"#7201a8\"],[0.3333333333333333,\"#9c179e\"],[0.4444444444444444,\"#bd3786\"],[0.5555555555555556,\"#d8576b\"],[0.6666666666666666,\"#ed7953\"],[0.7777777777777778,\"#fb9f3a\"],[0.8888888888888888,\"#fdca26\"],[1.0,\"#f0f921\"]]}],\"choropleth\":[{\"type\":\"choropleth\",\"colorbar\":{\"outlinewidth\":0,\"ticks\":\"\"}}],\"histogram2d\":[{\"type\":\"histogram2d\",\"colorbar\":{\"outlinewidth\":0,\"ticks\":\"\"},\"colorscale\":[[0.0,\"#0d0887\"],[0.1111111111111111,\"#46039f\"],[0.2222222222222222,\"#7201a8\"],[0.3333333333333333,\"#9c179e\"],[0.4444444444444444,\"#bd3786\"],[0.5555555555555556,\"#d8576b\"],[0.6666666666666666,\"#ed7953\"],[0.7777777777777778,\"#fb9f3a\"],[0.8888888888888888,\"#fdca26\"],[1.0,\"#f0f921\"]]}],\"heatmap\":[{\"type\":\"heatmap\",\"colorbar\":{\"outlinewidth\":0,\"ticks\":\"\"},\"colorscale\":[[0.0,\"#0d0887\"],[0.1111111111111111,\"#46039f\"],[0.2222222222222222,\"#7201a8\"],[0.3333333333333333,\"#9c179e\"],[0.4444444444444444,\"#bd3786\"],[0.5555555555555556,\"#d8576b\"],[0.6666666666666666,\"#ed7953\"],[0.7777777777777778,\"#fb9f3a\"],[0.8888888888888888,\"#fdca26\"],[1.0,\"#f0f921\"]]}],\"heatmapgl\":[{\"type\":\"heatmapgl\",\"colorbar\":{\"outlinewidth\":0,\"ticks\":\"\"},\"colorscale\":[[0.0,\"#0d0887\"],[0.1111111111111111,\"#46039f\"],[0.2222222222222222,\"#7201a8\"],[0.3333333333333333,\"#9c179e\"],[0.4444444444444444,\"#bd3786\"],[0.5555555555555556,\"#d8576b\"],[0.6666666666666666,\"#ed7953\"],[0.7777777777777778,\"#fb9f3a\"],[0.8888888888888888,\"#fdca26\"],[1.0,\"#f0f921\"]]}],\"contourcarpet\":[{\"type\":\"contourcarpet\",\"colorbar\":{\"outlinewidth\":0,\"ticks\":\"\"}}],\"contour\":[{\"type\":\"contour\",\"colorbar\":{\"outlinewidth\":0,\"ticks\":\"\"},\"colorscale\":[[0.0,\"#0d0887\"],[0.1111111111111111,\"#46039f\"],[0.2222222222222222,\"#7201a8\"],[0.3333333333333333,\"#9c179e\"],[0.4444444444444444,\"#bd3786\"],[0.5555555555555556,\"#d8576b\"],[0.6666666666666666,\"#ed7953\"],[0.7777777777777778,\"#fb9f3a\"],[0.8888888888888888,\"#fdca26\"],[1.0,\"#f0f921\"]]}],\"surface\":[{\"type\":\"surface\",\"colorbar\":{\"outlinewidth\":0,\"ticks\":\"\"},\"colorscale\":[[0.0,\"#0d0887\"],[0.1111111111111111,\"#46039f\"],[0.2222222222222222,\"#7201a8\"],[0.3333333333333333,\"#9c179e\"],[0.4444444444444444,\"#bd3786\"],[0.5555555555555556,\"#d8576b\"],[0.6666666666666666,\"#ed7953\"],[0.7777777777777778,\"#fb9f3a\"],[0.8888888888888888,\"#fdca26\"],[1.0,\"#f0f921\"]]}],\"mesh3d\":[{\"type\":\"mesh3d\",\"colorbar\":{\"outlinewidth\":0,\"ticks\":\"\"}}],\"scatter\":[{\"fillpattern\":{\"fillmode\":\"overlay\",\"size\":10,\"solidity\":0.2},\"type\":\"scatter\"}],\"parcoords\":[{\"type\":\"parcoords\",\"line\":{\"colorbar\":{\"outlinewidth\":0,\"ticks\":\"\"}}}],\"scatterpolargl\":[{\"type\":\"scatterpolargl\",\"marker\":{\"colorbar\":{\"outlinewidth\":0,\"ticks\":\"\"}}}],\"bar\":[{\"error_x\":{\"color\":\"#2a3f5f\"},\"error_y\":{\"color\":\"#2a3f5f\"},\"marker\":{\"line\":{\"color\":\"#E5ECF6\",\"width\":0.5},\"pattern\":{\"fillmode\":\"overlay\",\"size\":10,\"solidity\":0.2}},\"type\":\"bar\"}],\"scattergeo\":[{\"type\":\"scattergeo\",\"marker\":{\"colorbar\":{\"outlinewidth\":0,\"ticks\":\"\"}}}],\"scatterpolar\":[{\"type\":\"scatterpolar\",\"marker\":{\"colorbar\":{\"outlinewidth\":0,\"ticks\":\"\"}}}],\"histogram\":[{\"marker\":{\"pattern\":{\"fillmode\":\"overlay\",\"size\":10,\"solidity\":0.2}},\"type\":\"histogram\"}],\"scattergl\":[{\"type\":\"scattergl\",\"marker\":{\"colorbar\":{\"outlinewidth\":0,\"ticks\":\"\"}}}],\"scatter3d\":[{\"type\":\"scatter3d\",\"line\":{\"colorbar\":{\"outlinewidth\":0,\"ticks\":\"\"}},\"marker\":{\"colorbar\":{\"outlinewidth\":0,\"ticks\":\"\"}}}],\"scattermapbox\":[{\"type\":\"scattermapbox\",\"marker\":{\"colorbar\":{\"outlinewidth\":0,\"ticks\":\"\"}}}],\"scatterternary\":[{\"type\":\"scatterternary\",\"marker\":{\"colorbar\":{\"outlinewidth\":0,\"ticks\":\"\"}}}],\"scattercarpet\":[{\"type\":\"scattercarpet\",\"marker\":{\"colorbar\":{\"outlinewidth\":0,\"ticks\":\"\"}}}],\"carpet\":[{\"aaxis\":{\"endlinecolor\":\"#2a3f5f\",\"gridcolor\":\"white\",\"linecolor\":\"white\",\"minorgridcolor\":\"white\",\"startlinecolor\":\"#2a3f5f\"},\"baxis\":{\"endlinecolor\":\"#2a3f5f\",\"gridcolor\":\"white\",\"linecolor\":\"white\",\"minorgridcolor\":\"white\",\"startlinecolor\":\"#2a3f5f\"},\"type\":\"carpet\"}],\"table\":[{\"cells\":{\"fill\":{\"color\":\"#EBF0F8\"},\"line\":{\"color\":\"white\"}},\"header\":{\"fill\":{\"color\":\"#C8D4E3\"},\"line\":{\"color\":\"white\"}},\"type\":\"table\"}],\"barpolar\":[{\"marker\":{\"line\":{\"color\":\"#E5ECF6\",\"width\":0.5},\"pattern\":{\"fillmode\":\"overlay\",\"size\":10,\"solidity\":0.2}},\"type\":\"barpolar\"}],\"pie\":[{\"automargin\":true,\"type\":\"pie\"}]},\"layout\":{\"autotypenumbers\":\"strict\",\"colorway\":[\"#636efa\",\"#EF553B\",\"#00cc96\",\"#ab63fa\",\"#FFA15A\",\"#19d3f3\",\"#FF6692\",\"#B6E880\",\"#FF97FF\",\"#FECB52\"],\"font\":{\"color\":\"#2a3f5f\"},\"hovermode\":\"closest\",\"hoverlabel\":{\"align\":\"left\"},\"paper_bgcolor\":\"white\",\"plot_bgcolor\":\"#E5ECF6\",\"polar\":{\"bgcolor\":\"#E5ECF6\",\"angularaxis\":{\"gridcolor\":\"white\",\"linecolor\":\"white\",\"ticks\":\"\"},\"radialaxis\":{\"gridcolor\":\"white\",\"linecolor\":\"white\",\"ticks\":\"\"}},\"ternary\":{\"bgcolor\":\"#E5ECF6\",\"aaxis\":{\"gridcolor\":\"white\",\"linecolor\":\"white\",\"ticks\":\"\"},\"baxis\":{\"gridcolor\":\"white\",\"linecolor\":\"white\",\"ticks\":\"\"},\"caxis\":{\"gridcolor\":\"white\",\"linecolor\":\"white\",\"ticks\":\"\"}},\"coloraxis\":{\"colorbar\":{\"outlinewidth\":0,\"ticks\":\"\"}},\"colorscale\":{\"sequential\":[[0.0,\"#0d0887\"],[0.1111111111111111,\"#46039f\"],[0.2222222222222222,\"#7201a8\"],[0.3333333333333333,\"#9c179e\"],[0.4444444444444444,\"#bd3786\"],[0.5555555555555556,\"#d8576b\"],[0.6666666666666666,\"#ed7953\"],[0.7777777777777778,\"#fb9f3a\"],[0.8888888888888888,\"#fdca26\"],[1.0,\"#f0f921\"]],\"sequentialminus\":[[0.0,\"#0d0887\"],[0.1111111111111111,\"#46039f\"],[0.2222222222222222,\"#7201a8\"],[0.3333333333333333,\"#9c179e\"],[0.4444444444444444,\"#bd3786\"],[0.5555555555555556,\"#d8576b\"],[0.6666666666666666,\"#ed7953\"],[0.7777777777777778,\"#fb9f3a\"],[0.8888888888888888,\"#fdca26\"],[1.0,\"#f0f921\"]],\"diverging\":[[0,\"#8e0152\"],[0.1,\"#c51b7d\"],[0.2,\"#de77ae\"],[0.3,\"#f1b6da\"],[0.4,\"#fde0ef\"],[0.5,\"#f7f7f7\"],[0.6,\"#e6f5d0\"],[0.7,\"#b8e186\"],[0.8,\"#7fbc41\"],[0.9,\"#4d9221\"],[1,\"#276419\"]]},\"xaxis\":{\"gridcolor\":\"white\",\"linecolor\":\"white\",\"ticks\":\"\",\"title\":{\"standoff\":15},\"zerolinecolor\":\"white\",\"automargin\":true,\"zerolinewidth\":2},\"yaxis\":{\"gridcolor\":\"white\",\"linecolor\":\"white\",\"ticks\":\"\",\"title\":{\"standoff\":15},\"zerolinecolor\":\"white\",\"automargin\":true,\"zerolinewidth\":2},\"scene\":{\"xaxis\":{\"backgroundcolor\":\"#E5ECF6\",\"gridcolor\":\"white\",\"linecolor\":\"white\",\"showbackground\":true,\"ticks\":\"\",\"zerolinecolor\":\"white\",\"gridwidth\":2},\"yaxis\":{\"backgroundcolor\":\"#E5ECF6\",\"gridcolor\":\"white\",\"linecolor\":\"white\",\"showbackground\":true,\"ticks\":\"\",\"zerolinecolor\":\"white\",\"gridwidth\":2},\"zaxis\":{\"backgroundcolor\":\"#E5ECF6\",\"gridcolor\":\"white\",\"linecolor\":\"white\",\"showbackground\":true,\"ticks\":\"\",\"zerolinecolor\":\"white\",\"gridwidth\":2}},\"shapedefaults\":{\"line\":{\"color\":\"#2a3f5f\"}},\"annotationdefaults\":{\"arrowcolor\":\"#2a3f5f\",\"arrowhead\":0,\"arrowwidth\":1},\"geo\":{\"bgcolor\":\"white\",\"landcolor\":\"#E5ECF6\",\"subunitcolor\":\"white\",\"showland\":true,\"showlakes\":true,\"lakecolor\":\"white\"},\"title\":{\"x\":0.05},\"mapbox\":{\"style\":\"light\"}}}},                        {\"responsive\": true}                    ).then(function(){\n",
              "                            \n",
              "var gd = document.getElementById('8c388a37-cd81-4d0a-9abb-5b868636f9d1');\n",
              "var x = new MutationObserver(function (mutations, observer) {{\n",
              "        var display = window.getComputedStyle(gd).display;\n",
              "        if (!display || display === 'none') {{\n",
              "            console.log([gd, 'removed!']);\n",
              "            Plotly.purge(gd);\n",
              "            observer.disconnect();\n",
              "        }}\n",
              "}});\n",
              "\n",
              "// Listen for the removal of the full notebook cells\n",
              "var notebookContainer = gd.closest('#notebook-container');\n",
              "if (notebookContainer) {{\n",
              "    x.observe(notebookContainer, {childList: true});\n",
              "}}\n",
              "\n",
              "// Listen for the clearing of the current output cell\n",
              "var outputEl = gd.closest('.output');\n",
              "if (outputEl) {{\n",
              "    x.observe(outputEl, {childList: true});\n",
              "}}\n",
              "\n",
              "                        })                };                            </script>        </div>\n",
              "</body>\n",
              "</html>"
            ]
          },
          "metadata": {}
        }
      ]
    },
    {
      "cell_type": "markdown",
      "source": [
        "### Checking the distribution of unique values among the feature columns and proposed target label."
      ],
      "metadata": {
        "id": "C_WYBbguI9ky"
      }
    },
    {
      "cell_type": "code",
      "source": [
        "df_train.describe().T.style.background_gradient(cmap = \"magma\")"
      ],
      "metadata": {
        "colab": {
          "base_uri": "https://localhost:8080/",
          "height": 645
        },
        "id": "kOHsrq8OH-PK",
        "outputId": "06532a88-5ed8-4a53-e91a-370921341d34"
      },
      "execution_count": null,
      "outputs": [
        {
          "output_type": "execute_result",
          "data": {
            "text/plain": [
              "<pandas.io.formats.style.Styler at 0x7b3caffb9e10>"
            ],
            "text/html": [
              "<style type=\"text/css\">\n",
              "#T_4fcfc_row0_col0, #T_4fcfc_row0_col1, #T_4fcfc_row0_col2, #T_4fcfc_row0_col4, #T_4fcfc_row0_col5, #T_4fcfc_row0_col6, #T_4fcfc_row0_col7, #T_4fcfc_row1_col0, #T_4fcfc_row1_col1, #T_4fcfc_row1_col2, #T_4fcfc_row1_col3, #T_4fcfc_row1_col4, #T_4fcfc_row1_col5, #T_4fcfc_row1_col6, #T_4fcfc_row1_col7, #T_4fcfc_row2_col0, #T_4fcfc_row3_col0, #T_4fcfc_row3_col1, #T_4fcfc_row3_col2, #T_4fcfc_row3_col3, #T_4fcfc_row3_col4, #T_4fcfc_row3_col5, #T_4fcfc_row3_col6, #T_4fcfc_row3_col7, #T_4fcfc_row4_col0, #T_4fcfc_row4_col1, #T_4fcfc_row4_col2, #T_4fcfc_row4_col3, #T_4fcfc_row4_col4, #T_4fcfc_row4_col5, #T_4fcfc_row4_col6, #T_4fcfc_row4_col7, #T_4fcfc_row5_col0, #T_4fcfc_row5_col1, #T_4fcfc_row5_col2, #T_4fcfc_row5_col3, #T_4fcfc_row5_col4, #T_4fcfc_row5_col5, #T_4fcfc_row5_col6, #T_4fcfc_row5_col7, #T_4fcfc_row6_col0, #T_4fcfc_row6_col1, #T_4fcfc_row6_col2, #T_4fcfc_row6_col3, #T_4fcfc_row6_col4, #T_4fcfc_row6_col5, #T_4fcfc_row6_col6, #T_4fcfc_row6_col7, #T_4fcfc_row7_col0, #T_4fcfc_row7_col1, #T_4fcfc_row7_col2, #T_4fcfc_row7_col3, #T_4fcfc_row7_col4, #T_4fcfc_row7_col5, #T_4fcfc_row7_col6, #T_4fcfc_row7_col7, #T_4fcfc_row8_col0, #T_4fcfc_row8_col1, #T_4fcfc_row8_col2, #T_4fcfc_row8_col3, #T_4fcfc_row8_col4, #T_4fcfc_row8_col5, #T_4fcfc_row8_col6, #T_4fcfc_row8_col7, #T_4fcfc_row9_col0, #T_4fcfc_row10_col0, #T_4fcfc_row11_col0, #T_4fcfc_row11_col1, #T_4fcfc_row11_col2, #T_4fcfc_row11_col3, #T_4fcfc_row11_col4, #T_4fcfc_row11_col5, #T_4fcfc_row11_col6, #T_4fcfc_row11_col7, #T_4fcfc_row12_col0, #T_4fcfc_row12_col1, #T_4fcfc_row12_col2, #T_4fcfc_row12_col3, #T_4fcfc_row12_col4, #T_4fcfc_row12_col5, #T_4fcfc_row12_col6, #T_4fcfc_row12_col7, #T_4fcfc_row13_col0, #T_4fcfc_row13_col1, #T_4fcfc_row13_col2, #T_4fcfc_row13_col3, #T_4fcfc_row13_col4, #T_4fcfc_row13_col5, #T_4fcfc_row13_col6, #T_4fcfc_row13_col7, #T_4fcfc_row14_col0, #T_4fcfc_row14_col1, #T_4fcfc_row14_col2, #T_4fcfc_row14_col3, #T_4fcfc_row14_col4, #T_4fcfc_row14_col5, #T_4fcfc_row14_col6, #T_4fcfc_row14_col7, #T_4fcfc_row15_col0, #T_4fcfc_row15_col1, #T_4fcfc_row15_col2, #T_4fcfc_row15_col3, #T_4fcfc_row15_col4, #T_4fcfc_row15_col5, #T_4fcfc_row15_col6, #T_4fcfc_row15_col7, #T_4fcfc_row16_col0, #T_4fcfc_row16_col1, #T_4fcfc_row16_col2, #T_4fcfc_row16_col3, #T_4fcfc_row16_col4, #T_4fcfc_row16_col5, #T_4fcfc_row16_col6, #T_4fcfc_row16_col7, #T_4fcfc_row17_col0, #T_4fcfc_row17_col1, #T_4fcfc_row17_col2, #T_4fcfc_row17_col3, #T_4fcfc_row17_col4, #T_4fcfc_row17_col5, #T_4fcfc_row17_col6, #T_4fcfc_row17_col7, #T_4fcfc_row18_col0, #T_4fcfc_row18_col1, #T_4fcfc_row18_col2, #T_4fcfc_row18_col3, #T_4fcfc_row18_col4, #T_4fcfc_row18_col5, #T_4fcfc_row18_col6, #T_4fcfc_row18_col7 {\n",
              "  background-color: #000004;\n",
              "  color: #f1f1f1;\n",
              "}\n",
              "#T_4fcfc_row0_col3, #T_4fcfc_row9_col5 {\n",
              "  background-color: #010106;\n",
              "  color: #f1f1f1;\n",
              "}\n",
              "#T_4fcfc_row2_col1 {\n",
              "  background-color: #090720;\n",
              "  color: #f1f1f1;\n",
              "}\n",
              "#T_4fcfc_row2_col2, #T_4fcfc_row2_col7 {\n",
              "  background-color: #140e36;\n",
              "  color: #f1f1f1;\n",
              "}\n",
              "#T_4fcfc_row2_col3 {\n",
              "  background-color: #992d80;\n",
              "  color: #f1f1f1;\n",
              "}\n",
              "#T_4fcfc_row2_col4, #T_4fcfc_row2_col5 {\n",
              "  background-color: #07061c;\n",
              "  color: #f1f1f1;\n",
              "}\n",
              "#T_4fcfc_row2_col6 {\n",
              "  background-color: #0a0822;\n",
              "  color: #f1f1f1;\n",
              "}\n",
              "#T_4fcfc_row9_col1, #T_4fcfc_row9_col4, #T_4fcfc_row9_col6 {\n",
              "  background-color: #010108;\n",
              "  color: #f1f1f1;\n",
              "}\n",
              "#T_4fcfc_row9_col2 {\n",
              "  background-color: #060518;\n",
              "  color: #f1f1f1;\n",
              "}\n",
              "#T_4fcfc_row9_col3 {\n",
              "  background-color: #2c115f;\n",
              "  color: #f1f1f1;\n",
              "}\n",
              "#T_4fcfc_row9_col7 {\n",
              "  background-color: #150e38;\n",
              "  color: #f1f1f1;\n",
              "}\n",
              "#T_4fcfc_row10_col1, #T_4fcfc_row10_col2, #T_4fcfc_row10_col3, #T_4fcfc_row10_col4, #T_4fcfc_row10_col5, #T_4fcfc_row10_col6, #T_4fcfc_row10_col7 {\n",
              "  background-color: #fcfdbf;\n",
              "  color: #000000;\n",
              "}\n",
              "</style>\n",
              "<table id=\"T_4fcfc\" class=\"dataframe\">\n",
              "  <thead>\n",
              "    <tr>\n",
              "      <th class=\"blank level0\" >&nbsp;</th>\n",
              "      <th id=\"T_4fcfc_level0_col0\" class=\"col_heading level0 col0\" >count</th>\n",
              "      <th id=\"T_4fcfc_level0_col1\" class=\"col_heading level0 col1\" >mean</th>\n",
              "      <th id=\"T_4fcfc_level0_col2\" class=\"col_heading level0 col2\" >std</th>\n",
              "      <th id=\"T_4fcfc_level0_col3\" class=\"col_heading level0 col3\" >min</th>\n",
              "      <th id=\"T_4fcfc_level0_col4\" class=\"col_heading level0 col4\" >25%</th>\n",
              "      <th id=\"T_4fcfc_level0_col5\" class=\"col_heading level0 col5\" >50%</th>\n",
              "      <th id=\"T_4fcfc_level0_col6\" class=\"col_heading level0 col6\" >75%</th>\n",
              "      <th id=\"T_4fcfc_level0_col7\" class=\"col_heading level0 col7\" >max</th>\n",
              "    </tr>\n",
              "  </thead>\n",
              "  <tbody>\n",
              "    <tr>\n",
              "      <th id=\"T_4fcfc_level0_row0\" class=\"row_heading level0 row0\" >age</th>\n",
              "      <td id=\"T_4fcfc_row0_col0\" class=\"data row0 col0\" >14326.000000</td>\n",
              "      <td id=\"T_4fcfc_row0_col1\" class=\"data row0 col1\" >42.946391</td>\n",
              "      <td id=\"T_4fcfc_row0_col2\" class=\"data row0 col2\" >11.859394</td>\n",
              "      <td id=\"T_4fcfc_row0_col3\" class=\"data row0 col3\" >18.000000</td>\n",
              "      <td id=\"T_4fcfc_row0_col4\" class=\"data row0 col4\" >34.000000</td>\n",
              "      <td id=\"T_4fcfc_row0_col5\" class=\"data row0 col5\" >42.000000</td>\n",
              "      <td id=\"T_4fcfc_row0_col6\" class=\"data row0 col6\" >51.000000</td>\n",
              "      <td id=\"T_4fcfc_row0_col7\" class=\"data row0 col7\" >96.000000</td>\n",
              "    </tr>\n",
              "    <tr>\n",
              "      <th id=\"T_4fcfc_level0_row1\" class=\"row_heading level0 row1\" >home_owner</th>\n",
              "      <td id=\"T_4fcfc_row1_col0\" class=\"data row1 col0\" >14326.000000</td>\n",
              "      <td id=\"T_4fcfc_row1_col1\" class=\"data row1 col1\" >0.425450</td>\n",
              "      <td id=\"T_4fcfc_row1_col2\" class=\"data row1 col2\" >0.494428</td>\n",
              "      <td id=\"T_4fcfc_row1_col3\" class=\"data row1 col3\" >0.000000</td>\n",
              "      <td id=\"T_4fcfc_row1_col4\" class=\"data row1 col4\" >0.000000</td>\n",
              "      <td id=\"T_4fcfc_row1_col5\" class=\"data row1 col5\" >0.000000</td>\n",
              "      <td id=\"T_4fcfc_row1_col6\" class=\"data row1 col6\" >1.000000</td>\n",
              "      <td id=\"T_4fcfc_row1_col7\" class=\"data row1 col7\" >1.000000</td>\n",
              "    </tr>\n",
              "    <tr>\n",
              "      <th id=\"T_4fcfc_level0_row2\" class=\"row_heading level0 row2\" >income</th>\n",
              "      <td id=\"T_4fcfc_row2_col0\" class=\"data row2 col0\" >14326.000000</td>\n",
              "      <td id=\"T_4fcfc_row2_col1\" class=\"data row2 col1\" >3666.303504</td>\n",
              "      <td id=\"T_4fcfc_row2_col2\" class=\"data row2 col2\" >1511.624121</td>\n",
              "      <td id=\"T_4fcfc_row2_col3\" class=\"data row2 col3\" >905.000000</td>\n",
              "      <td id=\"T_4fcfc_row2_col4\" class=\"data row2 col4\" >2580.000000</td>\n",
              "      <td id=\"T_4fcfc_row2_col5\" class=\"data row2 col5\" >3260.000000</td>\n",
              "      <td id=\"T_4fcfc_row2_col6\" class=\"data row2 col6\" >4680.000000</td>\n",
              "      <td id=\"T_4fcfc_row2_col7\" class=\"data row2 col7\" >9985.000000</td>\n",
              "    </tr>\n",
              "    <tr>\n",
              "      <th id=\"T_4fcfc_level0_row3\" class=\"row_heading level0 row3\" >months_employed</th>\n",
              "      <td id=\"T_4fcfc_row3_col0\" class=\"data row3 col0\" >14326.000000</td>\n",
              "      <td id=\"T_4fcfc_row3_col1\" class=\"data row3 col1\" >1.175485</td>\n",
              "      <td id=\"T_4fcfc_row3_col2\" class=\"data row3 col2\" >2.393546</td>\n",
              "      <td id=\"T_4fcfc_row3_col3\" class=\"data row3 col3\" >0.000000</td>\n",
              "      <td id=\"T_4fcfc_row3_col4\" class=\"data row3 col4\" >0.000000</td>\n",
              "      <td id=\"T_4fcfc_row3_col5\" class=\"data row3 col5\" >0.000000</td>\n",
              "      <td id=\"T_4fcfc_row3_col6\" class=\"data row3 col6\" >1.000000</td>\n",
              "      <td id=\"T_4fcfc_row3_col7\" class=\"data row3 col7\" >11.000000</td>\n",
              "    </tr>\n",
              "    <tr>\n",
              "      <th id=\"T_4fcfc_level0_row4\" class=\"row_heading level0 row4\" >years_employed</th>\n",
              "      <td id=\"T_4fcfc_row4_col0\" class=\"data row4 col0\" >14326.000000</td>\n",
              "      <td id=\"T_4fcfc_row4_col1\" class=\"data row4 col1\" >3.525339</td>\n",
              "      <td id=\"T_4fcfc_row4_col2\" class=\"data row4 col2\" >2.263487</td>\n",
              "      <td id=\"T_4fcfc_row4_col3\" class=\"data row4 col3\" >0.000000</td>\n",
              "      <td id=\"T_4fcfc_row4_col4\" class=\"data row4 col4\" >2.000000</td>\n",
              "      <td id=\"T_4fcfc_row4_col5\" class=\"data row4 col5\" >3.000000</td>\n",
              "      <td id=\"T_4fcfc_row4_col6\" class=\"data row4 col6\" >5.000000</td>\n",
              "      <td id=\"T_4fcfc_row4_col7\" class=\"data row4 col7\" >16.000000</td>\n",
              "    </tr>\n",
              "    <tr>\n",
              "      <th id=\"T_4fcfc_level0_row5\" class=\"row_heading level0 row5\" >current_address_year</th>\n",
              "      <td id=\"T_4fcfc_row5_col0\" class=\"data row5 col0\" >14326.000000</td>\n",
              "      <td id=\"T_4fcfc_row5_col1\" class=\"data row5 col1\" >3.585997</td>\n",
              "      <td id=\"T_4fcfc_row5_col2\" class=\"data row5 col2\" >2.760119</td>\n",
              "      <td id=\"T_4fcfc_row5_col3\" class=\"data row5 col3\" >0.000000</td>\n",
              "      <td id=\"T_4fcfc_row5_col4\" class=\"data row5 col4\" >2.000000</td>\n",
              "      <td id=\"T_4fcfc_row5_col5\" class=\"data row5 col5\" >3.000000</td>\n",
              "      <td id=\"T_4fcfc_row5_col6\" class=\"data row5 col6\" >5.000000</td>\n",
              "      <td id=\"T_4fcfc_row5_col7\" class=\"data row5 col7\" >12.000000</td>\n",
              "    </tr>\n",
              "    <tr>\n",
              "      <th id=\"T_4fcfc_level0_row6\" class=\"row_heading level0 row6\" >personal_account_m</th>\n",
              "      <td id=\"T_4fcfc_row6_col0\" class=\"data row6 col0\" >14326.000000</td>\n",
              "      <td id=\"T_4fcfc_row6_col1\" class=\"data row6 col1\" >3.426358</td>\n",
              "      <td id=\"T_4fcfc_row6_col2\" class=\"data row6 col2\" >2.219347</td>\n",
              "      <td id=\"T_4fcfc_row6_col3\" class=\"data row6 col3\" >0.000000</td>\n",
              "      <td id=\"T_4fcfc_row6_col4\" class=\"data row6 col4\" >2.000000</td>\n",
              "      <td id=\"T_4fcfc_row6_col5\" class=\"data row6 col5\" >2.000000</td>\n",
              "      <td id=\"T_4fcfc_row6_col6\" class=\"data row6 col6\" >5.000000</td>\n",
              "      <td id=\"T_4fcfc_row6_col7\" class=\"data row6 col7\" >11.000000</td>\n",
              "    </tr>\n",
              "    <tr>\n",
              "      <th id=\"T_4fcfc_level0_row7\" class=\"row_heading level0 row7\" >personal_account_y</th>\n",
              "      <td id=\"T_4fcfc_row7_col0\" class=\"data row7 col0\" >14326.000000</td>\n",
              "      <td id=\"T_4fcfc_row7_col1\" class=\"data row7 col1\" >3.503769</td>\n",
              "      <td id=\"T_4fcfc_row7_col2\" class=\"data row7 col2\" >1.956335</td>\n",
              "      <td id=\"T_4fcfc_row7_col3\" class=\"data row7 col3\" >0.000000</td>\n",
              "      <td id=\"T_4fcfc_row7_col4\" class=\"data row7 col4\" >2.000000</td>\n",
              "      <td id=\"T_4fcfc_row7_col5\" class=\"data row7 col5\" >3.000000</td>\n",
              "      <td id=\"T_4fcfc_row7_col6\" class=\"data row7 col6\" >4.000000</td>\n",
              "      <td id=\"T_4fcfc_row7_col7\" class=\"data row7 col7\" >15.000000</td>\n",
              "    </tr>\n",
              "    <tr>\n",
              "      <th id=\"T_4fcfc_level0_row8\" class=\"row_heading level0 row8\" >has_debt</th>\n",
              "      <td id=\"T_4fcfc_row8_col0\" class=\"data row8 col0\" >14326.000000</td>\n",
              "      <td id=\"T_4fcfc_row8_col1\" class=\"data row8 col1\" >0.792336</td>\n",
              "      <td id=\"T_4fcfc_row8_col2\" class=\"data row8 col2\" >0.405649</td>\n",
              "      <td id=\"T_4fcfc_row8_col3\" class=\"data row8 col3\" >0.000000</td>\n",
              "      <td id=\"T_4fcfc_row8_col4\" class=\"data row8 col4\" >1.000000</td>\n",
              "      <td id=\"T_4fcfc_row8_col5\" class=\"data row8 col5\" >1.000000</td>\n",
              "      <td id=\"T_4fcfc_row8_col6\" class=\"data row8 col6\" >1.000000</td>\n",
              "      <td id=\"T_4fcfc_row8_col7\" class=\"data row8 col7\" >1.000000</td>\n",
              "    </tr>\n",
              "    <tr>\n",
              "      <th id=\"T_4fcfc_level0_row9\" class=\"row_heading level0 row9\" >amount_requested</th>\n",
              "      <td id=\"T_4fcfc_row9_col0\" class=\"data row9 col0\" >14326.000000</td>\n",
              "      <td id=\"T_4fcfc_row9_col1\" class=\"data row9 col1\" >953.581600</td>\n",
              "      <td id=\"T_4fcfc_row9_col2\" class=\"data row9 col2\" >695.595781</td>\n",
              "      <td id=\"T_4fcfc_row9_col3\" class=\"data row9 col3\" >350.000000</td>\n",
              "      <td id=\"T_4fcfc_row9_col4\" class=\"data row9 col4\" >600.000000</td>\n",
              "      <td id=\"T_4fcfc_row9_col5\" class=\"data row9 col5\" >700.000000</td>\n",
              "      <td id=\"T_4fcfc_row9_col6\" class=\"data row9 col6\" >1100.000000</td>\n",
              "      <td id=\"T_4fcfc_row9_col7\" class=\"data row9 col7\" >10200.000000</td>\n",
              "    </tr>\n",
              "    <tr>\n",
              "      <th id=\"T_4fcfc_level0_row10\" class=\"row_heading level0 row10\" >risk_score</th>\n",
              "      <td id=\"T_4fcfc_row10_col0\" class=\"data row10 col0\" >14326.000000</td>\n",
              "      <td id=\"T_4fcfc_row10_col1\" class=\"data row10 col1\" >61117.513612</td>\n",
              "      <td id=\"T_4fcfc_row10_col2\" class=\"data row10 col2\" >15344.478314</td>\n",
              "      <td id=\"T_4fcfc_row10_col3\" class=\"data row10 col3\" >2100.000000</td>\n",
              "      <td id=\"T_4fcfc_row10_col4\" class=\"data row10 col4\" >49450.000000</td>\n",
              "      <td id=\"T_4fcfc_row10_col5\" class=\"data row10 col5\" >61200.000000</td>\n",
              "      <td id=\"T_4fcfc_row10_col6\" class=\"data row10 col6\" >72700.000000</td>\n",
              "      <td id=\"T_4fcfc_row10_col7\" class=\"data row10 col7\" >99750.000000</td>\n",
              "    </tr>\n",
              "    <tr>\n",
              "      <th id=\"T_4fcfc_level0_row11\" class=\"row_heading level0 row11\" >risk_score_2</th>\n",
              "      <td id=\"T_4fcfc_row11_col0\" class=\"data row11 col0\" >14326.000000</td>\n",
              "      <td id=\"T_4fcfc_row11_col1\" class=\"data row11 col1\" >0.690901</td>\n",
              "      <td id=\"T_4fcfc_row11_col2\" class=\"data row11 col2\" >0.090208</td>\n",
              "      <td id=\"T_4fcfc_row11_col3\" class=\"data row11 col3\" >0.023258</td>\n",
              "      <td id=\"T_4fcfc_row11_col4\" class=\"data row11 col4\" >0.641170</td>\n",
              "      <td id=\"T_4fcfc_row11_col5\" class=\"data row11 col5\" >0.699239</td>\n",
              "      <td id=\"T_4fcfc_row11_col6\" class=\"data row11 col6\" >0.752626</td>\n",
              "      <td id=\"T_4fcfc_row11_col7\" class=\"data row11 col7\" >0.999997</td>\n",
              "    </tr>\n",
              "    <tr>\n",
              "      <th id=\"T_4fcfc_level0_row12\" class=\"row_heading level0 row12\" >risk_score_3</th>\n",
              "      <td id=\"T_4fcfc_row12_col0\" class=\"data row12 col0\" >14326.000000</td>\n",
              "      <td id=\"T_4fcfc_row12_col1\" class=\"data row12 col1\" >0.878415</td>\n",
              "      <td id=\"T_4fcfc_row12_col2\" class=\"data row12 col2\" >0.054619</td>\n",
              "      <td id=\"T_4fcfc_row12_col3\" class=\"data row12 col3\" >0.451371</td>\n",
              "      <td id=\"T_4fcfc_row12_col4\" class=\"data row12 col4\" >0.851861</td>\n",
              "      <td id=\"T_4fcfc_row12_col5\" class=\"data row12 col5\" >0.881038</td>\n",
              "      <td id=\"T_4fcfc_row12_col6\" class=\"data row12 col6\" >0.913550</td>\n",
              "      <td id=\"T_4fcfc_row12_col7\" class=\"data row12 col7\" >0.999024</td>\n",
              "    </tr>\n",
              "    <tr>\n",
              "      <th id=\"T_4fcfc_level0_row13\" class=\"row_heading level0 row13\" >risk_score_4</th>\n",
              "      <td id=\"T_4fcfc_row13_col0\" class=\"data row13 col0\" >14326.000000</td>\n",
              "      <td id=\"T_4fcfc_row13_col1\" class=\"data row13 col1\" >0.583806</td>\n",
              "      <td id=\"T_4fcfc_row13_col2\" class=\"data row13 col2\" >0.124891</td>\n",
              "      <td id=\"T_4fcfc_row13_col3\" class=\"data row13 col3\" >0.016724</td>\n",
              "      <td id=\"T_4fcfc_row13_col4\" class=\"data row13 col4\" >0.500844</td>\n",
              "      <td id=\"T_4fcfc_row13_col5\" class=\"data row13 col5\" >0.588482</td>\n",
              "      <td id=\"T_4fcfc_row13_col6\" class=\"data row13 col6\" >0.672605</td>\n",
              "      <td id=\"T_4fcfc_row13_col7\" class=\"data row13 col7\" >0.978932</td>\n",
              "    </tr>\n",
              "    <tr>\n",
              "      <th id=\"T_4fcfc_level0_row14\" class=\"row_heading level0 row14\" >risk_score_5</th>\n",
              "      <td id=\"T_4fcfc_row14_col0\" class=\"data row14 col0\" >14326.000000</td>\n",
              "      <td id=\"T_4fcfc_row14_col1\" class=\"data row14 col1\" >0.718857</td>\n",
              "      <td id=\"T_4fcfc_row14_col2\" class=\"data row14 col2\" >0.120565</td>\n",
              "      <td id=\"T_4fcfc_row14_col3\" class=\"data row14 col3\" >0.153367</td>\n",
              "      <td id=\"T_4fcfc_row14_col4\" class=\"data row14 col4\" >0.635406</td>\n",
              "      <td id=\"T_4fcfc_row14_col5\" class=\"data row14 col5\" >0.725807</td>\n",
              "      <td id=\"T_4fcfc_row14_col6\" class=\"data row14 col6\" >0.806807</td>\n",
              "      <td id=\"T_4fcfc_row14_col7\" class=\"data row14 col7\" >0.996260</td>\n",
              "    </tr>\n",
              "    <tr>\n",
              "      <th id=\"T_4fcfc_level0_row15\" class=\"row_heading level0 row15\" >ext_quality_score</th>\n",
              "      <td id=\"T_4fcfc_row15_col0\" class=\"data row15 col0\" >14326.000000</td>\n",
              "      <td id=\"T_4fcfc_row15_col1\" class=\"data row15 col1\" >0.624188</td>\n",
              "      <td id=\"T_4fcfc_row15_col2\" class=\"data row15 col2\" >0.139192</td>\n",
              "      <td id=\"T_4fcfc_row15_col3\" class=\"data row15 col3\" >0.010184</td>\n",
              "      <td id=\"T_4fcfc_row15_col4\" class=\"data row15 col4\" >0.522748</td>\n",
              "      <td id=\"T_4fcfc_row15_col5\" class=\"data row15 col5\" >0.627575</td>\n",
              "      <td id=\"T_4fcfc_row15_col6\" class=\"data row15 col6\" >0.730511</td>\n",
              "      <td id=\"T_4fcfc_row15_col7\" class=\"data row15 col7\" >0.970249</td>\n",
              "    </tr>\n",
              "    <tr>\n",
              "      <th id=\"T_4fcfc_level0_row16\" class=\"row_heading level0 row16\" >ext_quality_score_2</th>\n",
              "      <td id=\"T_4fcfc_row16_col0\" class=\"data row16 col0\" >14326.000000</td>\n",
              "      <td id=\"T_4fcfc_row16_col1\" class=\"data row16 col1\" >0.622450</td>\n",
              "      <td id=\"T_4fcfc_row16_col2\" class=\"data row16 col2\" >0.139510</td>\n",
              "      <td id=\"T_4fcfc_row16_col3\" class=\"data row16 col3\" >0.006622</td>\n",
              "      <td id=\"T_4fcfc_row16_col4\" class=\"data row16 col4\" >0.520594</td>\n",
              "      <td id=\"T_4fcfc_row16_col5\" class=\"data row16 col5\" >0.623266</td>\n",
              "      <td id=\"T_4fcfc_row16_col6\" class=\"data row16 col6\" >0.728747</td>\n",
              "      <td id=\"T_4fcfc_row16_col7\" class=\"data row16 col7\" >0.963647</td>\n",
              "    </tr>\n",
              "    <tr>\n",
              "      <th id=\"T_4fcfc_level0_row17\" class=\"row_heading level0 row17\" >inquiries_last_month</th>\n",
              "      <td id=\"T_4fcfc_row17_col0\" class=\"data row17 col0\" >14326.000000</td>\n",
              "      <td id=\"T_4fcfc_row17_col1\" class=\"data row17 col1\" >6.452883</td>\n",
              "      <td id=\"T_4fcfc_row17_col2\" class=\"data row17 col2\" >3.665448</td>\n",
              "      <td id=\"T_4fcfc_row17_col3\" class=\"data row17 col3\" >1.000000</td>\n",
              "      <td id=\"T_4fcfc_row17_col4\" class=\"data row17 col4\" >4.000000</td>\n",
              "      <td id=\"T_4fcfc_row17_col5\" class=\"data row17 col5\" >6.000000</td>\n",
              "      <td id=\"T_4fcfc_row17_col6\" class=\"data row17 col6\" >8.000000</td>\n",
              "      <td id=\"T_4fcfc_row17_col7\" class=\"data row17 col7\" >30.000000</td>\n",
              "    </tr>\n",
              "    <tr>\n",
              "      <th id=\"T_4fcfc_level0_row18\" class=\"row_heading level0 row18\" >e_signed</th>\n",
              "      <td id=\"T_4fcfc_row18_col0\" class=\"data row18 col0\" >14326.000000</td>\n",
              "      <td id=\"T_4fcfc_row18_col1\" class=\"data row18 col1\" >0.538113</td>\n",
              "      <td id=\"T_4fcfc_row18_col2\" class=\"data row18 col2\" >0.498563</td>\n",
              "      <td id=\"T_4fcfc_row18_col3\" class=\"data row18 col3\" >0.000000</td>\n",
              "      <td id=\"T_4fcfc_row18_col4\" class=\"data row18 col4\" >0.000000</td>\n",
              "      <td id=\"T_4fcfc_row18_col5\" class=\"data row18 col5\" >1.000000</td>\n",
              "      <td id=\"T_4fcfc_row18_col6\" class=\"data row18 col6\" >1.000000</td>\n",
              "      <td id=\"T_4fcfc_row18_col7\" class=\"data row18 col7\" >1.000000</td>\n",
              "    </tr>\n",
              "  </tbody>\n",
              "</table>\n"
            ]
          },
          "metadata": {},
          "execution_count": 228
        }
      ]
    },
    {
      "cell_type": "code",
      "source": [
        "sns.countplot(x='pay_schedule', data=df_train)\n",
        "plt.title(\"Plotting the pay schedules\")\n",
        "plt.show()"
      ],
      "metadata": {
        "colab": {
          "base_uri": "https://localhost:8080/",
          "height": 472
        },
        "id": "CMezr_yGIW3p",
        "outputId": "04f4b9ee-3cda-44b3-8da5-a6f4c819070d"
      },
      "execution_count": null,
      "outputs": [
        {
          "output_type": "display_data",
          "data": {
            "text/plain": [
              "<Figure size 640x480 with 1 Axes>"
            ],
            "image/png": "[encoded data removed]"
          },
          "metadata": {}
        }
      ]
    },
    {
      "cell_type": "markdown",
      "source": [
        "#### Looking at the info an visualisations from our data, we can already deduce/ assume a few things:\n",
        "##### 1. The column 'Age' contains values in terms of years (how old a person is in years), we can see from the discription table that all of its values are valid.\n",
        "##### 2. 'ext_quality_score' and 'ext_quality_score_2'; and 'risk_score', 'risk_score_2', 'risk_score_3', 'risk_score_4' and 'risk_score_5' are confidential measures/ scores used by the institution to score prospective loan applicants.\n",
        "##### 3. The column 'pay_schedule' is categorical and will be encoded using OneHotEncoder as they might have a bearing on the ability to pay the loan.\n",
        "##### 4. The column 'months_employed' and 'years_employed' intrinsically depict the same feature i.e. employment length, in order to simplify our dataframe we will merge the two columns by applying multiplicative transformation to the column 'years_employed'. Similar transformation will be applied to columns 'personal_account_m' and 'personal_account_y'.\n",
        "##### 5. From the correlation heatmap, we can see that the feature 'risk_score_4' has very little correlation to our proposed target label, 'e_signed' and therefore we will drop this feature.\n",
        "##### 6. For the columns 'income','amount_requested','risk_score','age', 'inquiries_last_month', 'employment_months' and 'personal_account_months', we will apply scaling by using the standard scaler from the sklearn library.\n",
        "##### 7. 'e_signed' will be our target label for running a classification task through our model on the present dataset. It gives us the status of completion of e-signing of the loan applied by the loan applicant; '0' means the loan applicant does not complete the process and '1' refers to the loan applicant having finished the e-signeing process. Inability to complete the e-signing process suggests that the application falls short of the required criteria by the bank's lending department."
      ],
      "metadata": {
        "id": "jZkYXA4QEbuK"
      }
    },
    {
      "cell_type": "markdown",
      "source": [
        "### Dropping 'risk_score_4' from the training dataset."
      ],
      "metadata": {
        "id": "pW5zHxgFborp"
      }
    },
    {
      "cell_type": "code",
      "source": [
        "df_train = df_train.drop(['risk_score_4'], axis=1)"
      ],
      "metadata": {
        "id": "uSQ9OOH5bwUM"
      },
      "execution_count": null,
      "outputs": []
    },
    {
      "cell_type": "markdown",
      "source": [
        "### Applying similar transformation to our test set"
      ],
      "metadata": {
        "id": "Df8lY7Sfb-Vt"
      }
    },
    {
      "cell_type": "code",
      "source": [
        "df_test = df_test.drop(['risk_score_4'], axis=1)"
      ],
      "metadata": {
        "id": "q3-rT0bTcC5c"
      },
      "execution_count": null,
      "outputs": []
    },
    {
      "cell_type": "markdown",
      "source": [
        "### Combining the columns 'months_employed' and 'years_employed' and the columns 'personal_account_m' and 'personal_account_y':"
      ],
      "metadata": {
        "id": "7_pFDs0ncOk8"
      }
    },
    {
      "cell_type": "code",
      "source": [
        "df_train['employment_months'] = (df_train.months_employed + (df_train.years_employed * 12))\n",
        "df_train = df_train.drop(['months_employed', 'years_employed'], axis=1)\n",
        "df_train['personal_account_months'] = (df_train.personal_account_m + (df_train.personal_account_y * 12))\n",
        "df_train = df_train.drop(['personal_account_m', 'personal_account_y'], axis=1)"
      ],
      "metadata": {
        "id": "A4qBpaAlcWBI"
      },
      "execution_count": null,
      "outputs": []
    },
    {
      "cell_type": "markdown",
      "source": [
        "### Applying similar transformation to our test set"
      ],
      "metadata": {
        "id": "LnOKT4ebc0gH"
      }
    },
    {
      "cell_type": "code",
      "source": [
        "df_test['employment_months'] = (df_test.months_employed + (df_test.years_employed * 12))\n",
        "df_test = df_test.drop(['months_employed', 'years_employed'], axis=1)\n",
        "df_test['personal_account_months'] = (df_test.personal_account_m + (df_test.personal_account_y * 12))\n",
        "df_test = df_test.drop(['personal_account_m', 'personal_account_y'], axis=1)"
      ],
      "metadata": {
        "id": "3oQxPr6Zc1Z2"
      },
      "execution_count": null,
      "outputs": []
    },
    {
      "cell_type": "markdown",
      "source": [
        "# Splitting away target labels"
      ],
      "metadata": {
        "id": "V7ssHHDLqf_Y"
      }
    },
    {
      "cell_type": "code",
      "source": [
        "X_train = df_train.drop(['e_signed'], axis = 1)\n",
        "y_train = df_train['e_signed']\n",
        "X_test = df_test.drop(['e_signed'], axis = 1)\n",
        "y_test = df_test['e_signed']"
      ],
      "metadata": {
        "id": "rSBe90ycqjNO"
      },
      "execution_count": null,
      "outputs": []
    },
    {
      "cell_type": "markdown",
      "source": [
        "# Feature Engineering"
      ],
      "metadata": {
        "id": "oKFzFadopfeM"
      }
    },
    {
      "cell_type": "markdown",
      "source": [
        "## Scaling the columns which require being brought down to scale using standard scaler."
      ],
      "metadata": {
        "id": "PaXdgkheptb7"
      }
    },
    {
      "cell_type": "code",
      "source": [
        "scaler = StandardScaler(with_mean=False)\n",
        "scaler.fit(X_train.loc[:,['income','amount_requested','risk_score','age', 'inquiries_last_month', 'employment_months', 'personal_account_months']])\n",
        "\n",
        "X_train.loc[:,['income','amount_requested','risk_score','age', 'inquiries_last_month', 'employment_months', 'personal_account_months']] = scaler.transform(\n",
        "    X_train.loc[:,['income','amount_requested','risk_score','age', 'inquiries_last_month', 'employment_months', 'personal_account_months']])\n",
        "\n",
        "X_test.loc[:,['income','amount_requested','risk_score','age', 'inquiries_last_month', 'employment_months', 'personal_account_months']] = scaler.transform(\n",
        "    X_test.loc[:,['income','amount_requested','risk_score','age', 'inquiries_last_month', 'employment_months', 'personal_account_months']])\n"
      ],
      "metadata": {
        "id": "D-WFxBANphy_"
      },
      "execution_count": null,
      "outputs": []
    },
    {
      "cell_type": "code",
      "source": [
        "X_train.head()"
      ],
      "metadata": {
        "colab": {
          "base_uri": "https://localhost:8080/",
          "height": 226
        },
        "id": "HToIKHyDq3e8",
        "outputId": "1b8b801a-3ec2-4567-d776-e825200f11d4"
      },
      "execution_count": null,
      "outputs": [
        {
          "output_type": "execute_result",
          "data": {
            "text/plain": [
              "            age pay_schedule  home_owner    income  current_address_year  \\\n",
              "2698   2.023783    bi-weekly           1  4.695776                     1   \n",
              "7514   4.131890    bi-weekly           0  2.117002                     5   \n",
              "12650  4.637836    bi-weekly           0  1.759758                     1   \n",
              "5094   3.288647    bi-weekly           0  2.064077                     1   \n",
              "5018   4.384863      monthly           1  2.083924                     1   \n",
              "\n",
              "       has_debt  amount_requested  risk_score  risk_score_2  risk_score_3  \\\n",
              "2698          1          0.862600    2.052927      0.667077      0.906873   \n",
              "7514          1          0.718833    3.300977      0.631218      0.966399   \n",
              "12650         1          0.575067    2.727461      0.672894      0.955221   \n",
              "5094          1          3.737933    4.959612      0.749875      0.956253   \n",
              "5018          1          1.725200    2.163720      0.615360      0.837403   \n",
              "\n",
              "       risk_score_5  ext_quality_score  ext_quality_score_2  \\\n",
              "2698       0.641791           0.628218             0.428218   \n",
              "7514       0.837886           0.694489             0.594489   \n",
              "12650      0.791295           0.760892             0.560892   \n",
              "5094       0.727249           0.699007             0.799007   \n",
              "5018       0.462709           0.417729             0.517729   \n",
              "\n",
              "       inquiries_last_month  employment_months  personal_account_months  \n",
              "2698               1.909792           2.275413                 3.696583  \n",
              "7514               5.183722           2.238111                 1.160555  \n",
              "12650              5.729376           2.685733                 3.696583  \n",
              "5094               2.182620           1.715885                 3.954484  \n",
              "5018               1.364137           1.380169                 1.633374  "
            ],
            "text/html": [
              "\n",
              "  <div id=\"df-0bcfb237-fb56-46c7-a394-d11f4bdbbdf9\" class=\"colab-df-container\">\n",
              "    <div>\n",
              "<style scoped>\n",
              "    .dataframe tbody tr th:only-of-type {\n",
              "        vertical-align: middle;\n",
              "    }\n",
              "\n",
              "    .dataframe tbody tr th {\n",
              "        vertical-align: top;\n",
              "    }\n",
              "\n",
              "    .dataframe thead th {\n",
              "        text-align: right;\n",
              "    }\n",
              "</style>\n",
              "<table border=\"1\" class=\"dataframe\">\n",
              "  <thead>\n",
              "    <tr style=\"text-align: right;\">\n",
              "      <th></th>\n",
              "      <th>age</th>\n",
              "      <th>pay_schedule</th>\n",
              "      <th>home_owner</th>\n",
              "      <th>income</th>\n",
              "      <th>current_address_year</th>\n",
              "      <th>has_debt</th>\n",
              "      <th>amount_requested</th>\n",
              "      <th>risk_score</th>\n",
              "      <th>risk_score_2</th>\n",
              "      <th>risk_score_3</th>\n",
              "      <th>risk_score_5</th>\n",
              "      <th>ext_quality_score</th>\n",
              "      <th>ext_quality_score_2</th>\n",
              "      <th>inquiries_last_month</th>\n",
              "      <th>employment_months</th>\n",
              "      <th>personal_account_months</th>\n",
              "    </tr>\n",
              "  </thead>\n",
              "  <tbody>\n",
              "    <tr>\n",
              "      <th>2698</th>\n",
              "      <td>2.023783</td>\n",
              "      <td>bi-weekly</td>\n",
              "      <td>1</td>\n",
              "      <td>4.695776</td>\n",
              "      <td>1</td>\n",
              "      <td>1</td>\n",
              "      <td>0.862600</td>\n",
              "      <td>2.052927</td>\n",
              "      <td>0.667077</td>\n",
              "      <td>0.906873</td>\n",
              "      <td>0.641791</td>\n",
              "      <td>0.628218</td>\n",
              "      <td>0.428218</td>\n",
              "      <td>1.909792</td>\n",
              "      <td>2.275413</td>\n",
              "      <td>3.696583</td>\n",
              "    </tr>\n",
              "    <tr>\n",
              "      <th>7514</th>\n",
              "      <td>4.131890</td>\n",
              "      <td>bi-weekly</td>\n",
              "      <td>0</td>\n",
              "      <td>2.117002</td>\n",
              "      <td>5</td>\n",
              "      <td>1</td>\n",
              "      <td>0.718833</td>\n",
              "      <td>3.300977</td>\n",
              "      <td>0.631218</td>\n",
              "      <td>0.966399</td>\n",
              "      <td>0.837886</td>\n",
              "      <td>0.694489</td>\n",
              "      <td>0.594489</td>\n",
              "      <td>5.183722</td>\n",
              "      <td>2.238111</td>\n",
              "      <td>1.160555</td>\n",
              "    </tr>\n",
              "    <tr>\n",
              "      <th>12650</th>\n",
              "      <td>4.637836</td>\n",
              "      <td>bi-weekly</td>\n",
              "      <td>0</td>\n",
              "      <td>1.759758</td>\n",
              "      <td>1</td>\n",
              "      <td>1</td>\n",
              "      <td>0.575067</td>\n",
              "      <td>2.727461</td>\n",
              "      <td>0.672894</td>\n",
              "      <td>0.955221</td>\n",
              "      <td>0.791295</td>\n",
              "      <td>0.760892</td>\n",
              "      <td>0.560892</td>\n",
              "      <td>5.729376</td>\n",
              "      <td>2.685733</td>\n",
              "      <td>3.696583</td>\n",
              "    </tr>\n",
              "    <tr>\n",
              "      <th>5094</th>\n",
              "      <td>3.288647</td>\n",
              "      <td>bi-weekly</td>\n",
              "      <td>0</td>\n",
              "      <td>2.064077</td>\n",
              "      <td>1</td>\n",
              "      <td>1</td>\n",
              "      <td>3.737933</td>\n",
              "      <td>4.959612</td>\n",
              "      <td>0.749875</td>\n",
              "      <td>0.956253</td>\n",
              "      <td>0.727249</td>\n",
              "      <td>0.699007</td>\n",
              "      <td>0.799007</td>\n",
              "      <td>2.182620</td>\n",
              "      <td>1.715885</td>\n",
              "      <td>3.954484</td>\n",
              "    </tr>\n",
              "    <tr>\n",
              "      <th>5018</th>\n",
              "      <td>4.384863</td>\n",
              "      <td>monthly</td>\n",
              "      <td>1</td>\n",
              "      <td>2.083924</td>\n",
              "      <td>1</td>\n",
              "      <td>1</td>\n",
              "      <td>1.725200</td>\n",
              "      <td>2.163720</td>\n",
              "      <td>0.615360</td>\n",
              "      <td>0.837403</td>\n",
              "      <td>0.462709</td>\n",
              "      <td>0.417729</td>\n",
              "      <td>0.517729</td>\n",
              "      <td>1.364137</td>\n",
              "      <td>1.380169</td>\n",
              "      <td>1.633374</td>\n",
              "    </tr>\n",
              "  </tbody>\n",
              "</table>\n",
              "</div>\n",
              "    <div class=\"colab-df-buttons\">\n",
              "\n",
              "  <div class=\"colab-df-container\">\n",
              "    <button class=\"colab-df-convert\" onclick=\"convertToInteractive('df-0bcfb237-fb56-46c7-a394-d11f4bdbbdf9')\"\n",
              "            title=\"Convert this dataframe to an interactive table.\"\n",
              "            style=\"display:none;\">\n",
              "\n",
              "  <svg xmlns=\"http://www.w3.org/2000/svg\" height=\"24px\" viewBox=\"0 -960 960 960\">\n",
              "    <path d=\"M120-120v-720h720v720H120Zm60-500h600v-160H180v160Zm220 220h160v-160H400v160Zm0 220h160v-160H400v160ZM180-400h160v-160H180v160Zm440 0h160v-160H620v160ZM180-180h160v-160H180v160Zm440 0h160v-160H620v160Z\"/>\n",
              "  </svg>\n",
              "    </button>\n",
              "\n",
              "  <style>\n",
              "    .colab-df-container {\n",
              "      display:flex;\n",
              "      gap: 12px;\n",
              "    }\n",
              "\n",
              "    .colab-df-convert {\n",
              "      background-color: #E8F0FE;\n",
              "      border: none;\n",
              "      border-radius: 50%;\n",
              "      cursor: pointer;\n",
              "      display: none;\n",
              "      fill: #1967D2;\n",
              "      height: 32px;\n",
              "      padding: 0 0 0 0;\n",
              "      width: 32px;\n",
              "    }\n",
              "\n",
              "    .colab-df-convert:hover {\n",
              "      background-color: #E2EBFA;\n",
              "      box-shadow: 0px 1px 2px rgba(60, 64, 67, 0.3), 0px 1px 3px 1px rgba(60, 64, 67, 0.15);\n",
              "      fill: #174EA6;\n",
              "    }\n",
              "\n",
              "    .colab-df-buttons div {\n",
              "      margin-bottom: 4px;\n",
              "    }\n",
              "\n",
              "    [theme=dark] .colab-df-convert {\n",
              "      background-color: #3B4455;\n",
              "      fill: #D2E3FC;\n",
              "    }\n",
              "\n",
              "    [theme=dark] .colab-df-convert:hover {\n",
              "      background-color: #434B5C;\n",
              "      box-shadow: 0px 1px 3px 1px rgba(0, 0, 0, 0.15);\n",
              "      filter: drop-shadow(0px 1px 2px rgba(0, 0, 0, 0.3));\n",
              "      fill: #FFFFFF;\n",
              "    }\n",
              "  </style>\n",
              "\n",
              "    <script>\n",
              "      const buttonEl =\n",
              "        document.querySelector('#df-0bcfb237-fb56-46c7-a394-d11f4bdbbdf9 button.colab-df-convert');\n",
              "      buttonEl.style.display =\n",
              "        google.colab.kernel.accessAllowed ? 'block' : 'none';\n",
              "\n",
              "      async function convertToInteractive(key) {\n",
              "        const element = document.querySelector('#df-0bcfb237-fb56-46c7-a394-d11f4bdbbdf9');\n",
              "        const dataTable =\n",
              "          await google.colab.kernel.invokeFunction('convertToInteractive',\n",
              "                                                    [key], {});\n",
              "        if (!dataTable) return;\n",
              "\n",
              "        const docLinkHtml = 'Like what you see? Visit the ' +\n",
              "          '<a target=\"_blank\" href=https://colab.research.google.com/notebooks/data_table.ipynb>data table notebook</a>'\n",
              "          + ' to learn more about interactive tables.';\n",
              "        element.innerHTML = '';\n",
              "        dataTable['output_type'] = 'display_data';\n",
              "        await google.colab.output.renderOutput(dataTable, element);\n",
              "        const docLink = document.createElement('div');\n",
              "        docLink.innerHTML = docLinkHtml;\n",
              "        element.appendChild(docLink);\n",
              "      }\n",
              "    </script>\n",
              "  </div>\n",
              "\n",
              "\n",
              "<div id=\"df-a5f53c16-6e46-4fbb-b0c6-e8950e0d049d\">\n",
              "  <button class=\"colab-df-quickchart\" onclick=\"quickchart('df-a5f53c16-6e46-4fbb-b0c6-e8950e0d049d')\"\n",
              "            title=\"Suggest charts\"\n",
              "            style=\"display:none;\">\n",
              "\n",
              "<svg xmlns=\"http://www.w3.org/2000/svg\" height=\"24px\"viewBox=\"0 0 24 24\"\n",
              "     width=\"24px\">\n",
              "    <g>\n",
              "        <path d=\"M19 3H5c-1.1 0-2 .9-2 2v14c0 1.1.9 2 2 2h14c1.1 0 2-.9 2-2V5c0-1.1-.9-2-2-2zM9 17H7v-7h2v7zm4 0h-2V7h2v10zm4 0h-2v-4h2v4z\"/>\n",
              "    </g>\n",
              "</svg>\n",
              "  </button>\n",
              "\n",
              "<style>\n",
              "  .colab-df-quickchart {\n",
              "      --bg-color: #E8F0FE;\n",
              "      --fill-color: #1967D2;\n",
              "      --hover-bg-color: #E2EBFA;\n",
              "      --hover-fill-color: #174EA6;\n",
              "      --disabled-fill-color: #AAA;\n",
              "      --disabled-bg-color: #DDD;\n",
              "  }\n",
              "\n",
              "  [theme=dark] .colab-df-quickchart {\n",
              "      --bg-color: #3B4455;\n",
              "      --fill-color: #D2E3FC;\n",
              "      --hover-bg-color: #434B5C;\n",
              "      --hover-fill-color: #FFFFFF;\n",
              "      --disabled-bg-color: #3B4455;\n",
              "      --disabled-fill-color: #666;\n",
              "  }\n",
              "\n",
              "  .colab-df-quickchart {\n",
              "    background-color: var(--bg-color);\n",
              "    border: none;\n",
              "    border-radius: 50%;\n",
              "    cursor: pointer;\n",
              "    display: none;\n",
              "    fill: var(--fill-color);\n",
              "    height: 32px;\n",
              "    padding: 0;\n",
              "    width: 32px;\n",
              "  }\n",
              "\n",
              "  .colab-df-quickchart:hover {\n",
              "    background-color: var(--hover-bg-color);\n",
              "    box-shadow: 0 1px 2px rgba(60, 64, 67, 0.3), 0 1px 3px 1px rgba(60, 64, 67, 0.15);\n",
              "    fill: var(--button-hover-fill-color);\n",
              "  }\n",
              "\n",
              "  .colab-df-quickchart-complete:disabled,\n",
              "  .colab-df-quickchart-complete:disabled:hover {\n",
              "    background-color: var(--disabled-bg-color);\n",
              "    fill: var(--disabled-fill-color);\n",
              "    box-shadow: none;\n",
              "  }\n",
              "\n",
              "  .colab-df-spinner {\n",
              "    border: 2px solid var(--fill-color);\n",
              "    border-color: transparent;\n",
              "    border-bottom-color: var(--fill-color);\n",
              "    animation:\n",
              "      spin 1s steps(1) infinite;\n",
              "  }\n",
              "\n",
              "  @keyframes spin {\n",
              "    0% {\n",
              "      border-color: transparent;\n",
              "      border-bottom-color: var(--fill-color);\n",
              "      border-left-color: var(--fill-color);\n",
              "    }\n",
              "    20% {\n",
              "      border-color: transparent;\n",
              "      border-left-color: var(--fill-color);\n",
              "      border-top-color: var(--fill-color);\n",
              "    }\n",
              "    30% {\n",
              "      border-color: transparent;\n",
              "      border-left-color: var(--fill-color);\n",
              "      border-top-color: var(--fill-color);\n",
              "      border-right-color: var(--fill-color);\n",
              "    }\n",
              "    40% {\n",
              "      border-color: transparent;\n",
              "      border-right-color: var(--fill-color);\n",
              "      border-top-color: var(--fill-color);\n",
              "    }\n",
              "    60% {\n",
              "      border-color: transparent;\n",
              "      border-right-color: var(--fill-color);\n",
              "    }\n",
              "    80% {\n",
              "      border-color: transparent;\n",
              "      border-right-color: var(--fill-color);\n",
              "      border-bottom-color: var(--fill-color);\n",
              "    }\n",
              "    90% {\n",
              "      border-color: transparent;\n",
              "      border-bottom-color: var(--fill-color);\n",
              "    }\n",
              "  }\n",
              "</style>\n",
              "\n",
              "  <script>\n",
              "    async function quickchart(key) {\n",
              "      const quickchartButtonEl =\n",
              "        document.querySelector('#' + key + ' button');\n",
              "      quickchartButtonEl.disabled = true;  // To prevent multiple clicks.\n",
              "      quickchartButtonEl.classList.add('colab-df-spinner');\n",
              "      try {\n",
              "        const charts = await google.colab.kernel.invokeFunction(\n",
              "            'suggestCharts', [key], {});\n",
              "      } catch (error) {\n",
              "        console.error('Error during call to suggestCharts:', error);\n",
              "      }\n",
              "      quickchartButtonEl.classList.remove('colab-df-spinner');\n",
              "      quickchartButtonEl.classList.add('colab-df-quickchart-complete');\n",
              "    }\n",
              "    (() => {\n",
              "      let quickchartButtonEl =\n",
              "        document.querySelector('#df-a5f53c16-6e46-4fbb-b0c6-e8950e0d049d button');\n",
              "      quickchartButtonEl.style.display =\n",
              "        google.colab.kernel.accessAllowed ? 'block' : 'none';\n",
              "    })();\n",
              "  </script>\n",
              "</div>\n",
              "    </div>\n",
              "  </div>\n"
            ]
          },
          "metadata": {},
          "execution_count": 236
        }
      ]
    },
    {
      "cell_type": "markdown",
      "source": [
        "## Encoding Categorical Attributes using ColumnTransformer."
      ],
      "metadata": {
        "id": "NCQI3_9PsZsn"
      }
    },
    {
      "cell_type": "code",
      "source": [
        "ct = sklearn.compose.ColumnTransformer([('ohe', OneHotEncoder(handle_unknown='ignore'),\n",
        "                                        ['pay_schedule'])],\n",
        "                                       remainder='passthrough')\n",
        "X_train = ct.fit_transform(X_train)\n",
        "X_test = ct.transform(X_test)\n",
        "\n",
        "print(X_train.shape)\n",
        "print(X_test.shape)"
      ],
      "metadata": {
        "colab": {
          "base_uri": "https://localhost:8080/"
        },
        "id": "ul4wwXjUsaKI",
        "outputId": "2d44e692-203c-4f18-b27b-7ca5b271efad"
      },
      "execution_count": null,
      "outputs": [
        {
          "output_type": "stream",
          "name": "stdout",
          "text": [
            "(14326, 19)\n",
            "(3582, 19)\n"
          ]
        }
      ]
    },
    {
      "cell_type": "markdown",
      "source": [
        "##### Storing feature names in a separate list:"
      ],
      "metadata": {
        "id": "6RvvuKrAt0g5"
      }
    },
    {
      "cell_type": "code",
      "source": [
        "f_name = ct.get_feature_names_out()\n",
        "print(f_name)"
      ],
      "metadata": {
        "colab": {
          "base_uri": "https://localhost:8080/"
        },
        "id": "oMGaTi4wt5cz",
        "outputId": "c34f0f37-33af-4ad6-ce50-f2d97918b977"
      },
      "execution_count": null,
      "outputs": [
        {
          "output_type": "stream",
          "name": "stdout",
          "text": [
            "['ohe__pay_schedule_bi-weekly' 'ohe__pay_schedule_monthly'\n",
            " 'ohe__pay_schedule_semi-monthly' 'ohe__pay_schedule_weekly'\n",
            " 'remainder__age' 'remainder__home_owner' 'remainder__income'\n",
            " 'remainder__current_address_year' 'remainder__has_debt'\n",
            " 'remainder__amount_requested' 'remainder__risk_score'\n",
            " 'remainder__risk_score_2' 'remainder__risk_score_3'\n",
            " 'remainder__risk_score_5' 'remainder__ext_quality_score'\n",
            " 'remainder__ext_quality_score_2' 'remainder__inquiries_last_month'\n",
            " 'remainder__employment_months' 'remainder__personal_account_months']\n"
          ]
        }
      ]
    },
    {
      "cell_type": "markdown",
      "source": [
        "#### Our training dataset is now ready and we have also transformed the test dataset to the best of our ability, by learning from the training dataset and applying similar transformations on test set."
      ],
      "metadata": {
        "id": "X-lLCshHtGna"
      }
    },
    {
      "cell_type": "markdown",
      "source": [
        "# Designing a Neural Network Model"
      ],
      "metadata": {
        "id": "gxQdRMA2unvA"
      }
    },
    {
      "cell_type": "code",
      "source": [
        "model = tf.keras.Sequential()\n",
        "\n",
        "model.add(tf.keras.layers.Dense(20, input_dim = len(X_train[0, :]), activation = 'swish'))\n",
        "model.add(tf.keras.layers.Dense(16, activation = 'swish'))\n",
        "model.add(tf.keras.layers.BatchNormalization())\n",
        "model.add(tf.keras.layers.Dense(12, activation = 'swish'))\n",
        "model.add(tf.keras.layers.Dense(8, activation = 'swish'))\n",
        "model.add(tf.keras.layers.Dense(6, activation = 'swish'))\n",
        "model.add(tf.keras.layers.Dense(4, activation = 'swish'))\n",
        "model.add(tf.keras.layers.Dropout(0.5))\n",
        "model.add(tf.keras.layers.Dense(1, activation = 'sigmoid'))\n",
        "print(model.summary())"
      ],
      "metadata": {
        "colab": {
          "base_uri": "https://localhost:8080/"
        },
        "id": "nTCGN2DFuqXm",
        "outputId": "2da805ca-1008-44ad-fc50-0582c14fb618"
      },
      "execution_count": null,
      "outputs": [
        {
          "output_type": "stream",
          "name": "stdout",
          "text": [
            "Model: \"sequential_10\"\n",
            "_________________________________________________________________\n",
            " Layer (type)                Output Shape              Param #   \n",
            "=================================================================\n",
            " dense_70 (Dense)            (None, 20)                400       \n",
            "                                                                 \n",
            " dense_71 (Dense)            (None, 16)                336       \n",
            "                                                                 \n",
            " batch_normalization_11 (Ba  (None, 16)                64        \n",
            " tchNormalization)                                               \n",
            "                                                                 \n",
            " dense_72 (Dense)            (None, 12)                204       \n",
            "                                                                 \n",
            " dense_73 (Dense)            (None, 8)                 104       \n",
            "                                                                 \n",
            " dense_74 (Dense)            (None, 6)                 54        \n",
            "                                                                 \n",
            " dense_75 (Dense)            (None, 4)                 28        \n",
            "                                                                 \n",
            " dropout_11 (Dropout)        (None, 4)                 0         \n",
            "                                                                 \n",
            " dense_76 (Dense)            (None, 1)                 5         \n",
            "                                                                 \n",
            "=================================================================\n",
            "Total params: 1195 (4.67 KB)\n",
            "Trainable params: 1163 (4.54 KB)\n",
            "Non-trainable params: 32 (128.00 Byte)\n",
            "_________________________________________________________________\n",
            "None\n"
          ]
        }
      ]
    },
    {
      "cell_type": "markdown",
      "source": [
        "# Compiling and Training the model"
      ],
      "metadata": {
        "id": "x57y1MB4ycKg"
      }
    },
    {
      "cell_type": "markdown",
      "source": [
        "## Results of parameter tweaking:\n",
        "\n",
        "### The following picture contains a table of all the parameter tweaks applied prior to settling for the current model and the results of those tweaks:\n",
        "### The optimizer 'adam' was switched for 'adagrad' and 'adamw' while tweaking the hyperparameters, however with no significant change in the accuracy scores. Only a limited number of significant parameter tweaks are included in the table below.\n",
        "\n",
        "![Table representing paramater tweaks applied before the current model.png](data:image/png;base64,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)"
      ],
      "metadata": {
        "id": "R7VrKozpQdto"
      }
    },
    {
      "cell_type": "code",
      "source": [
        "model.compile(optimizer= tf.keras.optimizers.Adam(learning_rate=0.001), loss='binary_crossentropy', metrics=['accuracy'])\n",
        "\n",
        "callback_es = tf.keras.callbacks.EarlyStopping(\n",
        "    monitor='val_loss',\n",
        "    min_delta=0,\n",
        "    patience=5,\n",
        ")\n",
        "\n",
        "history = model.fit(X_train, y_train, epochs=100, batch_size=32, validation_split=0.1, callbacks=[callback_es])"
      ],
      "metadata": {
        "colab": {
          "base_uri": "https://localhost:8080/"
        },
        "id": "VQXGge85ydyi",
        "outputId": "68cb4ed3-8e46-4a64-ae84-d700064eb1f7"
      },
      "execution_count": null,
      "outputs": [
        {
          "output_type": "stream",
          "name": "stdout",
          "text": [
            "Epoch 1/100\n",
            "403/403 [==============================] - 2s 3ms/step - loss: 0.6851 - accuracy: 0.5449 - val_loss: 0.6822 - val_accuracy: 0.5590\n",
            "Epoch 2/100\n",
            "403/403 [==============================] - 1s 2ms/step - loss: 0.6747 - accuracy: 0.5754 - val_loss: 0.6723 - val_accuracy: 0.5708\n",
            "Epoch 3/100\n",
            "403/403 [==============================] - 1s 2ms/step - loss: 0.6697 - accuracy: 0.5823 - val_loss: 0.6782 - val_accuracy: 0.5736\n",
            "Epoch 4/100\n",
            "403/403 [==============================] - 1s 3ms/step - loss: 0.6647 - accuracy: 0.5882 - val_loss: 0.6729 - val_accuracy: 0.5715\n",
            "Epoch 5/100\n",
            "403/403 [==============================] - 1s 2ms/step - loss: 0.6623 - accuracy: 0.6002 - val_loss: 0.6643 - val_accuracy: 0.5848\n",
            "Epoch 6/100\n",
            "403/403 [==============================] - 1s 2ms/step - loss: 0.6584 - accuracy: 0.6028 - val_loss: 0.6637 - val_accuracy: 0.5834\n",
            "Epoch 7/100\n",
            "403/403 [==============================] - 1s 2ms/step - loss: 0.6570 - accuracy: 0.6030 - val_loss: 0.6584 - val_accuracy: 0.5994\n",
            "Epoch 8/100\n",
            "403/403 [==============================] - 1s 2ms/step - loss: 0.6529 - accuracy: 0.6103 - val_loss: 0.6592 - val_accuracy: 0.5946\n",
            "Epoch 9/100\n",
            "403/403 [==============================] - 1s 2ms/step - loss: 0.6546 - accuracy: 0.6102 - val_loss: 0.6542 - val_accuracy: 0.6022\n",
            "Epoch 10/100\n",
            "403/403 [==============================] - 1s 2ms/step - loss: 0.6537 - accuracy: 0.6120 - val_loss: 0.6524 - val_accuracy: 0.6120\n",
            "Epoch 11/100\n",
            "403/403 [==============================] - 1s 2ms/step - loss: 0.6541 - accuracy: 0.6061 - val_loss: 0.6529 - val_accuracy: 0.5994\n",
            "Epoch 12/100\n",
            "403/403 [==============================] - 1s 2ms/step - loss: 0.6511 - accuracy: 0.6108 - val_loss: 0.6670 - val_accuracy: 0.5820\n",
            "Epoch 13/100\n",
            "403/403 [==============================] - 1s 2ms/step - loss: 0.6514 - accuracy: 0.6092 - val_loss: 0.6510 - val_accuracy: 0.5925\n",
            "Epoch 14/100\n",
            "403/403 [==============================] - 1s 2ms/step - loss: 0.6481 - accuracy: 0.6179 - val_loss: 0.6569 - val_accuracy: 0.6064\n",
            "Epoch 15/100\n",
            "403/403 [==============================] - 1s 2ms/step - loss: 0.6470 - accuracy: 0.6185 - val_loss: 0.6489 - val_accuracy: 0.6022\n",
            "Epoch 16/100\n",
            "403/403 [==============================] - 1s 2ms/step - loss: 0.6458 - accuracy: 0.6173 - val_loss: 0.6465 - val_accuracy: 0.6022\n",
            "Epoch 17/100\n",
            "403/403 [==============================] - 1s 3ms/step - loss: 0.6476 - accuracy: 0.6169 - val_loss: 0.6492 - val_accuracy: 0.5987\n",
            "Epoch 18/100\n",
            "403/403 [==============================] - 1s 2ms/step - loss: 0.6448 - accuracy: 0.6192 - val_loss: 0.6526 - val_accuracy: 0.6001\n",
            "Epoch 19/100\n",
            "403/403 [==============================] - 1s 2ms/step - loss: 0.6425 - accuracy: 0.6221 - val_loss: 0.6542 - val_accuracy: 0.5994\n",
            "Epoch 20/100\n",
            "403/403 [==============================] - 1s 2ms/step - loss: 0.6460 - accuracy: 0.6202 - val_loss: 0.6519 - val_accuracy: 0.6057\n",
            "Epoch 21/100\n",
            "403/403 [==============================] - 1s 2ms/step - loss: 0.6437 - accuracy: 0.6204 - val_loss: 0.6500 - val_accuracy: 0.6071\n"
          ]
        }
      ]
    },
    {
      "cell_type": "markdown",
      "source": [
        "### Checking the Learning Curve of the model:"
      ],
      "metadata": {
        "id": "sxO9Jtu7tY40"
      }
    },
    {
      "cell_type": "code",
      "source": [
        "plt.plot(history.history['accuracy'])\n",
        "plt.plot(history.history['val_accuracy'])\n",
        "plt.ylabel('Accuracy')\n",
        "plt.xlabel('epoch')\n",
        "plt.legend(['training data', 'validation data'], loc= 'lower right')\n",
        "# plt.plot(history.history['cosine_proximity'])\n",
        "plt.show()"
      ],
      "metadata": {
        "colab": {
          "base_uri": "https://localhost:8080/",
          "height": 449
        },
        "id": "t4utazwXtkKV",
        "outputId": "6ac64209-528f-473b-dc91-0f835e6d31f2"
      },
      "execution_count": null,
      "outputs": [
        {
          "output_type": "display_data",
          "data": {
            "text/plain": [
              "<Figure size 640x480 with 1 Axes>"
            ],
            "image/png": "[encoded data removed]"
          },
          "metadata": {}
        }
      ]
    },
    {
      "cell_type": "markdown",
      "source": [
        "##### We can see from the learning curve of our model that the accuracy in predicting training and validation data reached an intersection point at 9th and 10th epoch with relatively high accuracy of predictions."
      ],
      "metadata": {
        "id": "za-06aRsA9_s"
      }
    },
    {
      "cell_type": "markdown",
      "source": [
        "# Testing the model:"
      ],
      "metadata": {
        "id": "AxBuFLgQQokR"
      }
    },
    {
      "cell_type": "code",
      "source": [
        "test_loss, test_acc = model.evaluate(X_test, y_test, verbose=2)\n",
        "print('\\nTest accuracy:', test_acc)"
      ],
      "metadata": {
        "colab": {
          "base_uri": "https://localhost:8080/"
        },
        "id": "awiAaPepQqv0",
        "outputId": "f45e841d-18b9-40c5-e32a-0b581e301cd7"
      },
      "execution_count": null,
      "outputs": [
        {
          "output_type": "stream",
          "name": "stdout",
          "text": [
            "112/112 - 0s - loss: 0.6396 - accuracy: 0.6212 - 123ms/epoch - 1ms/step\n",
            "\n",
            "Test accuracy: 0.6211613416671753\n"
          ]
        }
      ]
    },
    {
      "cell_type": "code",
      "source": [
        "y_pred = model.predict(X_test)"
      ],
      "metadata": {
        "colab": {
          "base_uri": "https://localhost:8080/"
        },
        "id": "4-KG1kDqd0Ev",
        "outputId": "9c465916-6aec-4ca8-aa1f-4daed134f8d2"
      },
      "execution_count": null,
      "outputs": [
        {
          "output_type": "stream",
          "name": "stdout",
          "text": [
            "112/112 [==============================] - 0s 1ms/step\n"
          ]
        }
      ]
    },
    {
      "cell_type": "markdown",
      "source": [
        "### Additionally checking the Classification report for our model:"
      ],
      "metadata": {
        "id": "tN-gTAaJts7_"
      }
    },
    {
      "cell_type": "code",
      "source": [
        "clf_report = sklearn.metrics.classification_report(y_test, y_pred.round())\n",
        "print(clf_report)"
      ],
      "metadata": {
        "colab": {
          "base_uri": "https://localhost:8080/"
        },
        "id": "gOfgsdUnH1lk",
        "outputId": "7c65a50f-58a3-4099-b1e2-3d37897ea698"
      },
      "execution_count": null,
      "outputs": [
        {
          "output_type": "stream",
          "name": "stdout",
          "text": [
            "              precision    recall  f1-score   support\n",
            "\n",
            "           0       0.62      0.46      0.53      1652\n",
            "           1       0.62      0.76      0.68      1930\n",
            "\n",
            "    accuracy                           0.62      3582\n",
            "   macro avg       0.62      0.61      0.61      3582\n",
            "weighted avg       0.62      0.62      0.61      3582\n",
            "\n"
          ]
        }
      ]
    },
    {
      "cell_type": "markdown",
      "source": [
        "##### Looking at the F1 score gives us more confidence in our predictive model as it takes into account important metrics such as precision and recall and gives a more balanced feedback on a binary classification model with imbalanced classes."
      ],
      "metadata": {
        "id": "L78r4YYuBU7c"
      }
    },
    {
      "cell_type": "markdown",
      "source": [
        "### Visual Representation using a Confusion Matrix"
      ],
      "metadata": {
        "id": "aKOx086tt1OT"
      }
    },
    {
      "cell_type": "code",
      "source": [
        "c_matrix = sklearn.metrics.confusion_matrix(y_test, y_pred.round())\n",
        "c_matrix_data_view = pd.DataFrame(data=c_matrix, columns=['Predicted E-signing incomplete:0', 'Predicted E-signing completed:1'],\n",
        "                                  index=['E-signing incomplete:0', 'E-signing completed:1'])\n",
        "sns.heatmap(c_matrix_data_view, annot=True, fmt='d', cmap='rocket_r')"
      ],
      "metadata": {
        "colab": {
          "base_uri": "https://localhost:8080/",
          "height": 662
        },
        "id": "QTzvETpct6rt",
        "outputId": "5f0a22bc-f107-44d0-c335-3251c0a29b69"
      },
      "execution_count": null,
      "outputs": [
        {
          "output_type": "execute_result",
          "data": {
            "text/plain": [
              "<Axes: >"
            ]
          },
          "metadata": {},
          "execution_count": 245
        },
        {
          "output_type": "display_data",
          "data": {
            "text/plain": [
              "<Figure size 640x480 with 2 Axes>"
            ],
            "image/png": "[encoded data removed]"
          },
          "metadata": {}
        }
      ]
    },
    {
      "cell_type": "markdown",
      "source": [
        "# Discussion:"
      ],
      "metadata": {
        "id": "6Xrer6SbvGZf"
      }
    },
    {
      "cell_type": "markdown",
      "source": [
        "### Strengths of the solution used:"
      ],
      "metadata": {
        "id": "fPww7F9RvHyj"
      }
    },
    {
      "cell_type": "markdown",
      "source": [
        "#### We have made some general and some specific assumptions with our dataset in the data exploration, cleaning and preprocessing phase:\n",
        "#### 1) As our neural network model has worked exceptionally fast for its computational ability, our model can be applied in real world situations for financial institutions to implement and run similar or larger datasets on it. Real time information provided by existing customers in bulk can be used to drive targetted marketing by running the model on new potential customers.\n",
        "#### 2) Our model gies a fairly decent output in terms of predicting the class of customers which may be able to complete the e-signing process, as evident by the confusion matrix represented above and a higher recall for the class shown in the classification report. This is just as well, as the primary motive for our analysis is to improve the targetting of customers by our various marketing channels.\n",
        "#### 3) By tweaking the feature columns further or reducing and adding more relevant features to our dataset, the predictive power may be improved further."
      ],
      "metadata": {
        "id": "0onsds71vLf-"
      }
    },
    {
      "cell_type": "markdown",
      "source": [
        "### Weaknesses of the solution used:\n"
      ],
      "metadata": {
        "id": "rGdPJIvwvPbK"
      }
    },
    {
      "cell_type": "markdown",
      "source": [
        "#### 1) Our model is unable to give back feature importances to target and the best guess that the analytics team could make is based on the correlation matrix drawn out for the dataset at the beginning.\n",
        "#### 2) Our model gives poor recall score in predicting the negative class '0', i.e. 'E-signing incomplete' (0.46). This could be an issue we might want to sort as we would like to keep the targetting of customers very focussed and the marketing budgets at a minimum.\n",
        "#### 3) Simpler supervised learning models may also be able to give similar performance on the dataset as it is relatively small and with a limited umber of features. Supervised learning gradient boosting models like LightGBM can also handle categorical variables without the need for encoding them and provide feature importances after the model is finished training."
      ],
      "metadata": {
        "id": "fSPjwSUOvZL1"
      }
    },
    {
      "cell_type": "markdown",
      "source": [
        "## Recommendations:"
      ],
      "metadata": {
        "id": "znHynL2Bvc9T"
      }
    },
    {
      "cell_type": "markdown",
      "source": [
        "#### I would recommend using this model in real world scenarios for financial institutions to target and fix the following issues:\n",
        "#### 1) Borrowing rates offered to various customer segments based on the feature space (Income, Age, Employment status, past debt history etc.).\n",
        "#### 2) I would also recommend to use the model to determine a predictive marketing strategy which is focused on customers who are most likely to be approved by the bank's lending department, this translates into the increased revenue for the bank as well as a satisfactory experience for the customers of the bank.\n",
        "#### 3) The model may be improved by adding additional features which are important while processing a loan application and could be collected from the customers by simple online forms.\n",
        "#### 4) The model can also be improved by combining the various risk scores provided to us, as the scores remained confidential and their mathematical background unclear, we have not explored combining them to make a stronger predictive feature, however the same could be done were we aware of the calculations undertaken."
      ],
      "metadata": {
        "id": "2oyxIxB2vh7C"
      }
    }
  ]
}