{
  "nbformat": 4,
  "nbformat_minor": 0,
  "metadata": {
    "colab": {
      "provenance": []
    },
    "kernelspec": {
      "name": "python3",
      "display_name": "Python 3"
    },
    "language_info": {
      "name": "python"
    }
  },
  "cells": [
    {
      "cell_type": "markdown",
      "source": [
        "# Hypothetical Problem Statement:"
      ],
      "metadata": {
        "id": "elzGkqmEHLB4"
      }
    },
    {
      "cell_type": "markdown",
      "source": [
        "#### I have chosen to work for a computer hardware and software manufacturing company, the task assigned to me is to predict the sentiments of tweets based on previous observations to facilitate the customer complaint redressal and marketing team of the company to draw inferences and also for the research and development team to drive insights into real world issues occuring with the product range of the company.\n",
        "#### Importance: It is important for a manufacturing concern such as the one I am hypothetically employed by to engage in and understand customer feedback and work accordingly to better it's services. Sometimes customers may or may not be able to report issues through the company's complaint redressal and servicing channels due to various reasons. In the modern age of social media engagement, it thus becomes even more imperative for a company to continuously work towards customer feedbacks and product improvement by harnessing the power of social media reviews and customers sharing experiences.\n",
        "#### Benefits from predicting sentiments: Primarily for product and service enhancement, however, keeping a close eye on engagement from customers and wider public could also create a positive image for the company among the target customer bases. Segregating tweets by sentiment also leads to decrease in burden on further analysis of review comments based on importance of the contextual comment. For instance, a negative tweet may be highlighted as one to pay attention to more so than a positive comment might be.\n",
        "#### The relevant data may be collected from web scraping of twitter data from the company's official account. For our purpose, we have taken a sentiment and emotion analysis dataset from the opensource website kaggle (https://www.kaggle.com/datasets/ankitkumar2635/sentiment-and-emotions-of-tweets/data).\n",
        "#### Formulating the problem as a machine learning task: The problem at hand is a classification task to predict whether a tweet can be classified as negative in sentiment, positive or neutral. To do this I will clean the dataset chosen (given), run data preprocessing tasks on it to make it more comfortable for my machine learning models to learn from, training various Machine learning algorithms on it and finding the best algorithm and checking it on various metrics of performance."
      ],
      "metadata": {
        "id": "wnaTGlp2TpHE"
      }
    },
    {
      "cell_type": "markdown",
      "source": [
        "# Importing the libraries"
      ],
      "metadata": {
        "id": "pS10iQUtTsJU"
      }
    },
    {
      "cell_type": "code",
      "source": [
        "import pandas as pd\n",
        "import numpy as np\n",
        "import nltk\n",
        "from matplotlib import pyplot as plt\n",
        "import seaborn as sns\n",
        "import sklearn.preprocessing\n",
        "import re\n",
        "nltk.download('punkt')\n",
        "nltk.download('stopwords')\n",
        "import sklearn.model_selection\n",
        "import sklearn.feature_extraction.text\n",
        "from sklearn.model_selection import train_test_split\n",
        "import tensorflow as tf\n",
        "import sklearn.ensemble\n",
        "import lightgbm"
      ],
      "metadata": {
        "id": "WLfUcjvZTvxC",
        "colab": {
          "base_uri": "https://localhost:8080/"
        },
        "outputId": "d8af6ea4-6f67-4edb-ca2f-c9ff254a2941"
      },
      "execution_count": null,
      "outputs": [
        {
          "output_type": "stream",
          "name": "stderr",
          "text": [
            "[nltk_data] Downloading package punkt to /root/nltk_data...\n",
            "[nltk_data]   Package punkt is already up-to-date!\n",
            "[nltk_data] Downloading package stopwords to /root/nltk_data...\n",
            "[nltk_data]   Package stopwords is already up-to-date!\n"
          ]
        }
      ]
    },
    {
      "cell_type": "markdown",
      "source": [
        "# Loading the Dataset"
      ],
      "metadata": {
        "id": "vtvvEPXcU5dt"
      }
    },
    {
      "cell_type": "code",
      "source": [
        "df = pd.read_csv(\"sentiment-emotion-labelled_Dell_tweets.csv\")\n",
        "df.head()"
      ],
      "metadata": {
        "colab": {
          "base_uri": "https://localhost:8080/",
          "height": 206
        },
        "id": "xsmIaTaiU7IO",
        "outputId": "0d50ee5f-75a8-44b1-9e78-4f48d9d0f98f"
      },
      "execution_count": null,
      "outputs": [
        {
          "output_type": "execute_result",
          "data": {
            "text/plain": [
              "   Unnamed: 0                   Datetime             Tweet Id  \\\n",
              "0           0  2022-09-30 23:29:15+00:00  1575991191170342912   \n",
              "1           1  2022-09-30 21:46:35+00:00  1575965354425131008   \n",
              "2           2  2022-09-30 21:18:02+00:00  1575958171423752203   \n",
              "3           3  2022-09-30 20:05:24+00:00  1575939891485032450   \n",
              "4           4  2022-09-30 20:03:17+00:00  1575939359160750080   \n",
              "\n",
              "                                                Text        Username  \\\n",
              "0  @Logitech @apple @Google @Microsoft @Dell @Len...  ManjuSreedaran   \n",
              "1  @MK_habit_addict @official_stier @MortalKombat...      MiKeMcDnet   \n",
              "2  As @CRN celebrates its 40th anniversary, Bob F...        jfollett   \n",
              "3  @dell your customer service is horrible especi...       daveccarr   \n",
              "4  @zacokalo @Dell @DellCares @Dell give the man ...      heycamella   \n",
              "\n",
              "  sentiment  sentiment_score       emotion  emotion_score  \n",
              "0   neutral         0.853283  anticipation       0.587121  \n",
              "1   neutral         0.519470           joy       0.886913  \n",
              "2  positive         0.763791           joy       0.960347  \n",
              "3  negative         0.954023         anger       0.983203  \n",
              "4   neutral         0.529170         anger       0.776124  "
            ],
            "text/html": [
              "\n",
              "  <div id=\"df-b823fcb7-e931-4ce1-a5c3-4555f0722c9c\" class=\"colab-df-container\">\n",
              "    <div>\n",
              "<style scoped>\n",
              "    .dataframe tbody tr th:only-of-type {\n",
              "        vertical-align: middle;\n",
              "    }\n",
              "\n",
              "    .dataframe tbody tr th {\n",
              "        vertical-align: top;\n",
              "    }\n",
              "\n",
              "    .dataframe thead th {\n",
              "        text-align: right;\n",
              "    }\n",
              "</style>\n",
              "<table border=\"1\" class=\"dataframe\">\n",
              "  <thead>\n",
              "    <tr style=\"text-align: right;\">\n",
              "      <th></th>\n",
              "      <th>Unnamed: 0</th>\n",
              "      <th>Datetime</th>\n",
              "      <th>Tweet Id</th>\n",
              "      <th>Text</th>\n",
              "      <th>Username</th>\n",
              "      <th>sentiment</th>\n",
              "      <th>sentiment_score</th>\n",
              "      <th>emotion</th>\n",
              "      <th>emotion_score</th>\n",
              "    </tr>\n",
              "  </thead>\n",
              "  <tbody>\n",
              "    <tr>\n",
              "      <th>0</th>\n",
              "      <td>0</td>\n",
              "      <td>2022-09-30 23:29:15+00:00</td>\n",
              "      <td>1575991191170342912</td>\n",
              "      <td>@Logitech @apple @Google @Microsoft @Dell @Len...</td>\n",
              "      <td>ManjuSreedaran</td>\n",
              "      <td>neutral</td>\n",
              "      <td>0.853283</td>\n",
              "      <td>anticipation</td>\n",
              "      <td>0.587121</td>\n",
              "    </tr>\n",
              "    <tr>\n",
              "      <th>1</th>\n",
              "      <td>1</td>\n",
              "      <td>2022-09-30 21:46:35+00:00</td>\n",
              "      <td>1575965354425131008</td>\n",
              "      <td>@MK_habit_addict @official_stier @MortalKombat...</td>\n",
              "      <td>MiKeMcDnet</td>\n",
              "      <td>neutral</td>\n",
              "      <td>0.519470</td>\n",
              "      <td>joy</td>\n",
              "      <td>0.886913</td>\n",
              "    </tr>\n",
              "    <tr>\n",
              "      <th>2</th>\n",
              "      <td>2</td>\n",
              "      <td>2022-09-30 21:18:02+00:00</td>\n",
              "      <td>1575958171423752203</td>\n",
              "      <td>As @CRN celebrates its 40th anniversary, Bob F...</td>\n",
              "      <td>jfollett</td>\n",
              "      <td>positive</td>\n",
              "      <td>0.763791</td>\n",
              "      <td>joy</td>\n",
              "      <td>0.960347</td>\n",
              "    </tr>\n",
              "    <tr>\n",
              "      <th>3</th>\n",
              "      <td>3</td>\n",
              "      <td>2022-09-30 20:05:24+00:00</td>\n",
              "      <td>1575939891485032450</td>\n",
              "      <td>@dell your customer service is horrible especi...</td>\n",
              "      <td>daveccarr</td>\n",
              "      <td>negative</td>\n",
              "      <td>0.954023</td>\n",
              "      <td>anger</td>\n",
              "      <td>0.983203</td>\n",
              "    </tr>\n",
              "    <tr>\n",
              "      <th>4</th>\n",
              "      <td>4</td>\n",
              "      <td>2022-09-30 20:03:17+00:00</td>\n",
              "      <td>1575939359160750080</td>\n",
              "      <td>@zacokalo @Dell @DellCares @Dell give the man ...</td>\n",
              "      <td>heycamella</td>\n",
              "      <td>neutral</td>\n",
              "      <td>0.529170</td>\n",
              "      <td>anger</td>\n",
              "      <td>0.776124</td>\n",
              "    </tr>\n",
              "  </tbody>\n",
              "</table>\n",
              "</div>\n",
              "    <div class=\"colab-df-buttons\">\n",
              "\n",
              "  <div class=\"colab-df-container\">\n",
              "    <button class=\"colab-df-convert\" onclick=\"convertToInteractive('df-b823fcb7-e931-4ce1-a5c3-4555f0722c9c')\"\n",
              "            title=\"Convert this dataframe to an interactive table.\"\n",
              "            style=\"display:none;\">\n",
              "\n",
              "  <svg xmlns=\"http://www.w3.org/2000/svg\" height=\"24px\" viewBox=\"0 -960 960 960\">\n",
              "    <path d=\"M120-120v-720h720v720H120Zm60-500h600v-160H180v160Zm220 220h160v-160H400v160Zm0 220h160v-160H400v160ZM180-400h160v-160H180v160Zm440 0h160v-160H620v160ZM180-180h160v-160H180v160Zm440 0h160v-160H620v160Z\"/>\n",
              "  </svg>\n",
              "    </button>\n",
              "\n",
              "  <style>\n",
              "    .colab-df-container {\n",
              "      display:flex;\n",
              "      gap: 12px;\n",
              "    }\n",
              "\n",
              "    .colab-df-convert {\n",
              "      background-color: #E8F0FE;\n",
              "      border: none;\n",
              "      border-radius: 50%;\n",
              "      cursor: pointer;\n",
              "      display: none;\n",
              "      fill: #1967D2;\n",
              "      height: 32px;\n",
              "      padding: 0 0 0 0;\n",
              "      width: 32px;\n",
              "    }\n",
              "\n",
              "    .colab-df-convert:hover {\n",
              "      background-color: #E2EBFA;\n",
              "      box-shadow: 0px 1px 2px rgba(60, 64, 67, 0.3), 0px 1px 3px 1px rgba(60, 64, 67, 0.15);\n",
              "      fill: #174EA6;\n",
              "    }\n",
              "\n",
              "    .colab-df-buttons div {\n",
              "      margin-bottom: 4px;\n",
              "    }\n",
              "\n",
              "    [theme=dark] .colab-df-convert {\n",
              "      background-color: #3B4455;\n",
              "      fill: #D2E3FC;\n",
              "    }\n",
              "\n",
              "    [theme=dark] .colab-df-convert:hover {\n",
              "      background-color: #434B5C;\n",
              "      box-shadow: 0px 1px 3px 1px rgba(0, 0, 0, 0.15);\n",
              "      filter: drop-shadow(0px 1px 2px rgba(0, 0, 0, 0.3));\n",
              "      fill: #FFFFFF;\n",
              "    }\n",
              "  </style>\n",
              "\n",
              "    <script>\n",
              "      const buttonEl =\n",
              "        document.querySelector('#df-b823fcb7-e931-4ce1-a5c3-4555f0722c9c button.colab-df-convert');\n",
              "      buttonEl.style.display =\n",
              "        google.colab.kernel.accessAllowed ? 'block' : 'none';\n",
              "\n",
              "      async function convertToInteractive(key) {\n",
              "        const element = document.querySelector('#df-b823fcb7-e931-4ce1-a5c3-4555f0722c9c');\n",
              "        const dataTable =\n",
              "          await google.colab.kernel.invokeFunction('convertToInteractive',\n",
              "                                                    [key], {});\n",
              "        if (!dataTable) return;\n",
              "\n",
              "        const docLinkHtml = 'Like what you see? Visit the ' +\n",
              "          '<a target=\"_blank\" href=https://colab.research.google.com/notebooks/data_table.ipynb>data table notebook</a>'\n",
              "          + ' to learn more about interactive tables.';\n",
              "        element.innerHTML = '';\n",
              "        dataTable['output_type'] = 'display_data';\n",
              "        await google.colab.output.renderOutput(dataTable, element);\n",
              "        const docLink = document.createElement('div');\n",
              "        docLink.innerHTML = docLinkHtml;\n",
              "        element.appendChild(docLink);\n",
              "      }\n",
              "    </script>\n",
              "  </div>\n",
              "\n",
              "\n",
              "<div id=\"df-cf78a01a-78ef-4a0a-99e2-2c014ae0a0cc\">\n",
              "  <button class=\"colab-df-quickchart\" onclick=\"quickchart('df-cf78a01a-78ef-4a0a-99e2-2c014ae0a0cc')\"\n",
              "            title=\"Suggest charts\"\n",
              "            style=\"display:none;\">\n",
              "\n",
              "<svg xmlns=\"http://www.w3.org/2000/svg\" height=\"24px\"viewBox=\"0 0 24 24\"\n",
              "     width=\"24px\">\n",
              "    <g>\n",
              "        <path d=\"M19 3H5c-1.1 0-2 .9-2 2v14c0 1.1.9 2 2 2h14c1.1 0 2-.9 2-2V5c0-1.1-.9-2-2-2zM9 17H7v-7h2v7zm4 0h-2V7h2v10zm4 0h-2v-4h2v4z\"/>\n",
              "    </g>\n",
              "</svg>\n",
              "  </button>\n",
              "\n",
              "<style>\n",
              "  .colab-df-quickchart {\n",
              "      --bg-color: #E8F0FE;\n",
              "      --fill-color: #1967D2;\n",
              "      --hover-bg-color: #E2EBFA;\n",
              "      --hover-fill-color: #174EA6;\n",
              "      --disabled-fill-color: #AAA;\n",
              "      --disabled-bg-color: #DDD;\n",
              "  }\n",
              "\n",
              "  [theme=dark] .colab-df-quickchart {\n",
              "      --bg-color: #3B4455;\n",
              "      --fill-color: #D2E3FC;\n",
              "      --hover-bg-color: #434B5C;\n",
              "      --hover-fill-color: #FFFFFF;\n",
              "      --disabled-bg-color: #3B4455;\n",
              "      --disabled-fill-color: #666;\n",
              "  }\n",
              "\n",
              "  .colab-df-quickchart {\n",
              "    background-color: var(--bg-color);\n",
              "    border: none;\n",
              "    border-radius: 50%;\n",
              "    cursor: pointer;\n",
              "    display: none;\n",
              "    fill: var(--fill-color);\n",
              "    height: 32px;\n",
              "    padding: 0;\n",
              "    width: 32px;\n",
              "  }\n",
              "\n",
              "  .colab-df-quickchart:hover {\n",
              "    background-color: var(--hover-bg-color);\n",
              "    box-shadow: 0 1px 2px rgba(60, 64, 67, 0.3), 0 1px 3px 1px rgba(60, 64, 67, 0.15);\n",
              "    fill: var(--button-hover-fill-color);\n",
              "  }\n",
              "\n",
              "  .colab-df-quickchart-complete:disabled,\n",
              "  .colab-df-quickchart-complete:disabled:hover {\n",
              "    background-color: var(--disabled-bg-color);\n",
              "    fill: var(--disabled-fill-color);\n",
              "    box-shadow: none;\n",
              "  }\n",
              "\n",
              "  .colab-df-spinner {\n",
              "    border: 2px solid var(--fill-color);\n",
              "    border-color: transparent;\n",
              "    border-bottom-color: var(--fill-color);\n",
              "    animation:\n",
              "      spin 1s steps(1) infinite;\n",
              "  }\n",
              "\n",
              "  @keyframes spin {\n",
              "    0% {\n",
              "      border-color: transparent;\n",
              "      border-bottom-color: var(--fill-color);\n",
              "      border-left-color: var(--fill-color);\n",
              "    }\n",
              "    20% {\n",
              "      border-color: transparent;\n",
              "      border-left-color: var(--fill-color);\n",
              "      border-top-color: var(--fill-color);\n",
              "    }\n",
              "    30% {\n",
              "      border-color: transparent;\n",
              "      border-left-color: var(--fill-color);\n",
              "      border-top-color: var(--fill-color);\n",
              "      border-right-color: var(--fill-color);\n",
              "    }\n",
              "    40% {\n",
              "      border-color: transparent;\n",
              "      border-right-color: var(--fill-color);\n",
              "      border-top-color: var(--fill-color);\n",
              "    }\n",
              "    60% {\n",
              "      border-color: transparent;\n",
              "      border-right-color: var(--fill-color);\n",
              "    }\n",
              "    80% {\n",
              "      border-color: transparent;\n",
              "      border-right-color: var(--fill-color);\n",
              "      border-bottom-color: var(--fill-color);\n",
              "    }\n",
              "    90% {\n",
              "      border-color: transparent;\n",
              "      border-bottom-color: var(--fill-color);\n",
              "    }\n",
              "  }\n",
              "</style>\n",
              "\n",
              "  <script>\n",
              "    async function quickchart(key) {\n",
              "      const quickchartButtonEl =\n",
              "        document.querySelector('#' + key + ' button');\n",
              "      quickchartButtonEl.disabled = true;  // To prevent multiple clicks.\n",
              "      quickchartButtonEl.classList.add('colab-df-spinner');\n",
              "      try {\n",
              "        const charts = await google.colab.kernel.invokeFunction(\n",
              "            'suggestCharts', [key], {});\n",
              "      } catch (error) {\n",
              "        console.error('Error during call to suggestCharts:', error);\n",
              "      }\n",
              "      quickchartButtonEl.classList.remove('colab-df-spinner');\n",
              "      quickchartButtonEl.classList.add('colab-df-quickchart-complete');\n",
              "    }\n",
              "    (() => {\n",
              "      let quickchartButtonEl =\n",
              "        document.querySelector('#df-cf78a01a-78ef-4a0a-99e2-2c014ae0a0cc button');\n",
              "      quickchartButtonEl.style.display =\n",
              "        google.colab.kernel.accessAllowed ? 'block' : 'none';\n",
              "    })();\n",
              "  </script>\n",
              "</div>\n",
              "    </div>\n",
              "  </div>\n"
            ]
          },
          "metadata": {},
          "execution_count": 72
        }
      ]
    },
    {
      "cell_type": "markdown",
      "source": [
        "### Checking for duplicates in the dataframe"
      ],
      "metadata": {
        "id": "GwD-UoLip2Sc"
      }
    },
    {
      "cell_type": "code",
      "source": [
        "print(df.duplicated().sum())"
      ],
      "metadata": {
        "colab": {
          "base_uri": "https://localhost:8080/"
        },
        "id": "Afb5wzpIp3Kj",
        "outputId": "6ded852d-84f1-4a91-fc17-3bce94470cb9"
      },
      "execution_count": null,
      "outputs": [
        {
          "output_type": "stream",
          "name": "stdout",
          "text": [
            "0\n"
          ]
        }
      ]
    },
    {
      "cell_type": "markdown",
      "source": [
        "### Dropping unnecessary columns '0', 'Datetime', 'Tweet Id' and 'Username'"
      ],
      "metadata": {
        "id": "kr2T83-RpC3O"
      }
    },
    {
      "cell_type": "code",
      "source": [
        "df = df[['Text', 'sentiment', 'emotion']]\n",
        "df.head()"
      ],
      "metadata": {
        "colab": {
          "base_uri": "https://localhost:8080/",
          "height": 206
        },
        "id": "tgo-ystYpRos",
        "outputId": "550661fc-1ee1-41a3-c46c-15f6c236e6c9"
      },
      "execution_count": null,
      "outputs": [
        {
          "output_type": "execute_result",
          "data": {
            "text/plain": [
              "                                                Text sentiment       emotion\n",
              "0  @Logitech @apple @Google @Microsoft @Dell @Len...   neutral  anticipation\n",
              "1  @MK_habit_addict @official_stier @MortalKombat...   neutral           joy\n",
              "2  As @CRN celebrates its 40th anniversary, Bob F...  positive           joy\n",
              "3  @dell your customer service is horrible especi...  negative         anger\n",
              "4  @zacokalo @Dell @DellCares @Dell give the man ...   neutral         anger"
            ],
            "text/html": [
              "\n",
              "  <div id=\"df-2e0d3d5b-3968-4218-b53d-7d7c09e600e5\" class=\"colab-df-container\">\n",
              "    <div>\n",
              "<style scoped>\n",
              "    .dataframe tbody tr th:only-of-type {\n",
              "        vertical-align: middle;\n",
              "    }\n",
              "\n",
              "    .dataframe tbody tr th {\n",
              "        vertical-align: top;\n",
              "    }\n",
              "\n",
              "    .dataframe thead th {\n",
              "        text-align: right;\n",
              "    }\n",
              "</style>\n",
              "<table border=\"1\" class=\"dataframe\">\n",
              "  <thead>\n",
              "    <tr style=\"text-align: right;\">\n",
              "      <th></th>\n",
              "      <th>Text</th>\n",
              "      <th>sentiment</th>\n",
              "      <th>emotion</th>\n",
              "    </tr>\n",
              "  </thead>\n",
              "  <tbody>\n",
              "    <tr>\n",
              "      <th>0</th>\n",
              "      <td>@Logitech @apple @Google @Microsoft @Dell @Len...</td>\n",
              "      <td>neutral</td>\n",
              "      <td>anticipation</td>\n",
              "    </tr>\n",
              "    <tr>\n",
              "      <th>1</th>\n",
              "      <td>@MK_habit_addict @official_stier @MortalKombat...</td>\n",
              "      <td>neutral</td>\n",
              "      <td>joy</td>\n",
              "    </tr>\n",
              "    <tr>\n",
              "      <th>2</th>\n",
              "      <td>As @CRN celebrates its 40th anniversary, Bob F...</td>\n",
              "      <td>positive</td>\n",
              "      <td>joy</td>\n",
              "    </tr>\n",
              "    <tr>\n",
              "      <th>3</th>\n",
              "      <td>@dell your customer service is horrible especi...</td>\n",
              "      <td>negative</td>\n",
              "      <td>anger</td>\n",
              "    </tr>\n",
              "    <tr>\n",
              "      <th>4</th>\n",
              "      <td>@zacokalo @Dell @DellCares @Dell give the man ...</td>\n",
              "      <td>neutral</td>\n",
              "      <td>anger</td>\n",
              "    </tr>\n",
              "  </tbody>\n",
              "</table>\n",
              "</div>\n",
              "    <div class=\"colab-df-buttons\">\n",
              "\n",
              "  <div class=\"colab-df-container\">\n",
              "    <button class=\"colab-df-convert\" onclick=\"convertToInteractive('df-2e0d3d5b-3968-4218-b53d-7d7c09e600e5')\"\n",
              "            title=\"Convert this dataframe to an interactive table.\"\n",
              "            style=\"display:none;\">\n",
              "\n",
              "  <svg xmlns=\"http://www.w3.org/2000/svg\" height=\"24px\" viewBox=\"0 -960 960 960\">\n",
              "    <path d=\"M120-120v-720h720v720H120Zm60-500h600v-160H180v160Zm220 220h160v-160H400v160Zm0 220h160v-160H400v160ZM180-400h160v-160H180v160Zm440 0h160v-160H620v160ZM180-180h160v-160H180v160Zm440 0h160v-160H620v160Z\"/>\n",
              "  </svg>\n",
              "    </button>\n",
              "\n",
              "  <style>\n",
              "    .colab-df-container {\n",
              "      display:flex;\n",
              "      gap: 12px;\n",
              "    }\n",
              "\n",
              "    .colab-df-convert {\n",
              "      background-color: #E8F0FE;\n",
              "      border: none;\n",
              "      border-radius: 50%;\n",
              "      cursor: pointer;\n",
              "      display: none;\n",
              "      fill: #1967D2;\n",
              "      height: 32px;\n",
              "      padding: 0 0 0 0;\n",
              "      width: 32px;\n",
              "    }\n",
              "\n",
              "    .colab-df-convert:hover {\n",
              "      background-color: #E2EBFA;\n",
              "      box-shadow: 0px 1px 2px rgba(60, 64, 67, 0.3), 0px 1px 3px 1px rgba(60, 64, 67, 0.15);\n",
              "      fill: #174EA6;\n",
              "    }\n",
              "\n",
              "    .colab-df-buttons div {\n",
              "      margin-bottom: 4px;\n",
              "    }\n",
              "\n",
              "    [theme=dark] .colab-df-convert {\n",
              "      background-color: #3B4455;\n",
              "      fill: #D2E3FC;\n",
              "    }\n",
              "\n",
              "    [theme=dark] .colab-df-convert:hover {\n",
              "      background-color: #434B5C;\n",
              "      box-shadow: 0px 1px 3px 1px rgba(0, 0, 0, 0.15);\n",
              "      filter: drop-shadow(0px 1px 2px rgba(0, 0, 0, 0.3));\n",
              "      fill: #FFFFFF;\n",
              "    }\n",
              "  </style>\n",
              "\n",
              "    <script>\n",
              "      const buttonEl =\n",
              "        document.querySelector('#df-2e0d3d5b-3968-4218-b53d-7d7c09e600e5 button.colab-df-convert');\n",
              "      buttonEl.style.display =\n",
              "        google.colab.kernel.accessAllowed ? 'block' : 'none';\n",
              "\n",
              "      async function convertToInteractive(key) {\n",
              "        const element = document.querySelector('#df-2e0d3d5b-3968-4218-b53d-7d7c09e600e5');\n",
              "        const dataTable =\n",
              "          await google.colab.kernel.invokeFunction('convertToInteractive',\n",
              "                                                    [key], {});\n",
              "        if (!dataTable) return;\n",
              "\n",
              "        const docLinkHtml = 'Like what you see? Visit the ' +\n",
              "          '<a target=\"_blank\" href=https://colab.research.google.com/notebooks/data_table.ipynb>data table notebook</a>'\n",
              "          + ' to learn more about interactive tables.';\n",
              "        element.innerHTML = '';\n",
              "        dataTable['output_type'] = 'display_data';\n",
              "        await google.colab.output.renderOutput(dataTable, element);\n",
              "        const docLink = document.createElement('div');\n",
              "        docLink.innerHTML = docLinkHtml;\n",
              "        element.appendChild(docLink);\n",
              "      }\n",
              "    </script>\n",
              "  </div>\n",
              "\n",
              "\n",
              "<div id=\"df-e41c8a6f-2dc9-4d96-84f0-58ddbd727468\">\n",
              "  <button class=\"colab-df-quickchart\" onclick=\"quickchart('df-e41c8a6f-2dc9-4d96-84f0-58ddbd727468')\"\n",
              "            title=\"Suggest charts\"\n",
              "            style=\"display:none;\">\n",
              "\n",
              "<svg xmlns=\"http://www.w3.org/2000/svg\" height=\"24px\"viewBox=\"0 0 24 24\"\n",
              "     width=\"24px\">\n",
              "    <g>\n",
              "        <path d=\"M19 3H5c-1.1 0-2 .9-2 2v14c0 1.1.9 2 2 2h14c1.1 0 2-.9 2-2V5c0-1.1-.9-2-2-2zM9 17H7v-7h2v7zm4 0h-2V7h2v10zm4 0h-2v-4h2v4z\"/>\n",
              "    </g>\n",
              "</svg>\n",
              "  </button>\n",
              "\n",
              "<style>\n",
              "  .colab-df-quickchart {\n",
              "      --bg-color: #E8F0FE;\n",
              "      --fill-color: #1967D2;\n",
              "      --hover-bg-color: #E2EBFA;\n",
              "      --hover-fill-color: #174EA6;\n",
              "      --disabled-fill-color: #AAA;\n",
              "      --disabled-bg-color: #DDD;\n",
              "  }\n",
              "\n",
              "  [theme=dark] .colab-df-quickchart {\n",
              "      --bg-color: #3B4455;\n",
              "      --fill-color: #D2E3FC;\n",
              "      --hover-bg-color: #434B5C;\n",
              "      --hover-fill-color: #FFFFFF;\n",
              "      --disabled-bg-color: #3B4455;\n",
              "      --disabled-fill-color: #666;\n",
              "  }\n",
              "\n",
              "  .colab-df-quickchart {\n",
              "    background-color: var(--bg-color);\n",
              "    border: none;\n",
              "    border-radius: 50%;\n",
              "    cursor: pointer;\n",
              "    display: none;\n",
              "    fill: var(--fill-color);\n",
              "    height: 32px;\n",
              "    padding: 0;\n",
              "    width: 32px;\n",
              "  }\n",
              "\n",
              "  .colab-df-quickchart:hover {\n",
              "    background-color: var(--hover-bg-color);\n",
              "    box-shadow: 0 1px 2px rgba(60, 64, 67, 0.3), 0 1px 3px 1px rgba(60, 64, 67, 0.15);\n",
              "    fill: var(--button-hover-fill-color);\n",
              "  }\n",
              "\n",
              "  .colab-df-quickchart-complete:disabled,\n",
              "  .colab-df-quickchart-complete:disabled:hover {\n",
              "    background-color: var(--disabled-bg-color);\n",
              "    fill: var(--disabled-fill-color);\n",
              "    box-shadow: none;\n",
              "  }\n",
              "\n",
              "  .colab-df-spinner {\n",
              "    border: 2px solid var(--fill-color);\n",
              "    border-color: transparent;\n",
              "    border-bottom-color: var(--fill-color);\n",
              "    animation:\n",
              "      spin 1s steps(1) infinite;\n",
              "  }\n",
              "\n",
              "  @keyframes spin {\n",
              "    0% {\n",
              "      border-color: transparent;\n",
              "      border-bottom-color: var(--fill-color);\n",
              "      border-left-color: var(--fill-color);\n",
              "    }\n",
              "    20% {\n",
              "      border-color: transparent;\n",
              "      border-left-color: var(--fill-color);\n",
              "      border-top-color: var(--fill-color);\n",
              "    }\n",
              "    30% {\n",
              "      border-color: transparent;\n",
              "      border-left-color: var(--fill-color);\n",
              "      border-top-color: var(--fill-color);\n",
              "      border-right-color: var(--fill-color);\n",
              "    }\n",
              "    40% {\n",
              "      border-color: transparent;\n",
              "      border-right-color: var(--fill-color);\n",
              "      border-top-color: var(--fill-color);\n",
              "    }\n",
              "    60% {\n",
              "      border-color: transparent;\n",
              "      border-right-color: var(--fill-color);\n",
              "    }\n",
              "    80% {\n",
              "      border-color: transparent;\n",
              "      border-right-color: var(--fill-color);\n",
              "      border-bottom-color: var(--fill-color);\n",
              "    }\n",
              "    90% {\n",
              "      border-color: transparent;\n",
              "      border-bottom-color: var(--fill-color);\n",
              "    }\n",
              "  }\n",
              "</style>\n",
              "\n",
              "  <script>\n",
              "    async function quickchart(key) {\n",
              "      const quickchartButtonEl =\n",
              "        document.querySelector('#' + key + ' button');\n",
              "      quickchartButtonEl.disabled = true;  // To prevent multiple clicks.\n",
              "      quickchartButtonEl.classList.add('colab-df-spinner');\n",
              "      try {\n",
              "        const charts = await google.colab.kernel.invokeFunction(\n",
              "            'suggestCharts', [key], {});\n",
              "      } catch (error) {\n",
              "        console.error('Error during call to suggestCharts:', error);\n",
              "      }\n",
              "      quickchartButtonEl.classList.remove('colab-df-spinner');\n",
              "      quickchartButtonEl.classList.add('colab-df-quickchart-complete');\n",
              "    }\n",
              "    (() => {\n",
              "      let quickchartButtonEl =\n",
              "        document.querySelector('#df-e41c8a6f-2dc9-4d96-84f0-58ddbd727468 button');\n",
              "      quickchartButtonEl.style.display =\n",
              "        google.colab.kernel.accessAllowed ? 'block' : 'none';\n",
              "    })();\n",
              "  </script>\n",
              "</div>\n",
              "    </div>\n",
              "  </div>\n"
            ]
          },
          "metadata": {},
          "execution_count": 74
        }
      ]
    },
    {
      "cell_type": "markdown",
      "source": [
        "# Data Exploration"
      ],
      "metadata": {
        "id": "HjAoomZth7ll"
      }
    },
    {
      "cell_type": "markdown",
      "source": [
        "### Checking the Shape of our dataframe and a sample of 'Text' column."
      ],
      "metadata": {
        "id": "on-0kZJAiR6y"
      }
    },
    {
      "cell_type": "code",
      "source": [
        "print(df.shape)\n",
        "\n",
        "text = df['Text'][1]\n",
        "text"
      ],
      "metadata": {
        "colab": {
          "base_uri": "https://localhost:8080/",
          "height": 70
        },
        "id": "M2NafdbcXOFM",
        "outputId": "168155ea-c7f1-465d-b6c3-78015f677530"
      },
      "execution_count": null,
      "outputs": [
        {
          "output_type": "stream",
          "name": "stdout",
          "text": [
            "(24970, 3)\n"
          ]
        },
        {
          "output_type": "execute_result",
          "data": {
            "text/plain": [
              "\"@MK_habit_addict @official_stier @MortalKombat @newzealand She's getting a new @Dell #laptop when the one she has one only 2-3 years old.  (More than triple the price - though much higher utility). https://t.co/7WvkCw7vQf\""
            ],
            "application/vnd.google.colaboratory.intrinsic+json": {
              "type": "string"
            }
          },
          "metadata": {},
          "execution_count": 75
        }
      ]
    },
    {
      "cell_type": "markdown",
      "source": [
        "### Checking the data-types and whether null values exist"
      ],
      "metadata": {
        "id": "8Qw0Orh8iFo8"
      }
    },
    {
      "cell_type": "code",
      "source": [
        "print(df.dtypes)\n",
        "print(df.isnull().sum())"
      ],
      "metadata": {
        "colab": {
          "base_uri": "https://localhost:8080/"
        },
        "id": "Vp6AoxqzXZwA",
        "outputId": "5e3cfd87-3b96-4b86-9bdd-f383114b00eb"
      },
      "execution_count": null,
      "outputs": [
        {
          "output_type": "stream",
          "name": "stdout",
          "text": [
            "Text         object\n",
            "sentiment    object\n",
            "emotion      object\n",
            "dtype: object\n",
            "Text         0\n",
            "sentiment    0\n",
            "emotion      0\n",
            "dtype: int64\n"
          ]
        }
      ]
    },
    {
      "cell_type": "markdown",
      "source": [
        "### Checking the balance of classes for our target label 'sentiment'"
      ],
      "metadata": {
        "id": "X7Ro0nXbjAk_"
      }
    },
    {
      "cell_type": "code",
      "source": [
        "sns.countplot(x='sentiment', data=df)\n",
        "plt.title(\"Sentiment Spread\")\n",
        "plt.show()"
      ],
      "metadata": {
        "colab": {
          "base_uri": "https://localhost:8080/",
          "height": 472
        },
        "id": "Ip8vvb-jjI01",
        "outputId": "aacc3f96-fc9b-46fa-9746-03127fc96d04"
      },
      "execution_count": null,
      "outputs": [
        {
          "output_type": "display_data",
          "data": {
            "text/plain": [
              "<Figure size 640x480 with 1 Axes>"
            ],
            "image/png": "[encoded data removed]"
          },
          "metadata": {}
        }
      ]
    },
    {
      "cell_type": "code",
      "source": [
        "print(\"Class distribution between sentiments: \\n\", df['sentiment'].value_counts())"
      ],
      "metadata": {
        "colab": {
          "base_uri": "https://localhost:8080/"
        },
        "id": "rXnKCX8Zj5F7",
        "outputId": "3e7d7bf8-e8f0-4ceb-d840-b2b303d4e4ae"
      },
      "execution_count": null,
      "outputs": [
        {
          "output_type": "stream",
          "name": "stdout",
          "text": [
            "Class distribution between sentiments: \n",
            " negative    10556\n",
            "positive     7366\n",
            "neutral      7048\n",
            "Name: sentiment, dtype: int64\n"
          ]
        }
      ]
    },
    {
      "cell_type": "markdown",
      "source": [
        "##### We can see that there is some imbalance between our classes, with the negative class being significantly higher in number compared to the neutral and positive classes."
      ],
      "metadata": {
        "id": "SOXqSUBUkjqS"
      }
    },
    {
      "cell_type": "code",
      "source": [
        "fig, axes = plt.subplots(3,1, figsize = (7,10), sharey = True)\n",
        "\n",
        "sns.countplot(data=df[df[\"sentiment\"] == \"neutral\"], x='emotion', ax= axes[0])\n",
        "axes[0].title.set_text('Neutral Sentiment')\n",
        "\n",
        "sns.countplot(data=df[df[\"sentiment\"] == \"positive\"], x='emotion', ax= axes[1])\n",
        "axes[1].title.set_text('Positive Sentiment')\n",
        "\n",
        "sns.countplot(data=df[df[\"sentiment\"] == \"negative\"], x='emotion', ax= axes[2])\n",
        "axes[2].title.set_text('Negative Sentiment')\n",
        "\n",
        "plt.tight_layout()"
      ],
      "metadata": {
        "colab": {
          "base_uri": "https://localhost:8080/",
          "height": 1000
        },
        "id": "hJFx1UELkt3P",
        "outputId": "da4c33a6-025c-457f-a7be-f18ff5b2ffb5"
      },
      "execution_count": null,
      "outputs": [
        {
          "output_type": "display_data",
          "data": {
            "text/plain": [
              "<Figure size 700x1000 with 3 Axes>"
            ],
            "image/png": "[encoded data removed]"
          },
          "metadata": {}
        }
      ]
    },
    {
      "cell_type": "markdown",
      "source": [
        "##### The above graph gives us an understanding of how emotions are spread over different sentiments. In the preent analysis we will not be making use of this information but it is nevertheless an interesting way of understanding what makes up the sentiment."
      ],
      "metadata": {
        "id": "JZTyf-RKsdOp"
      }
    },
    {
      "cell_type": "markdown",
      "source": [
        "### We will now proceed to remove all other columns from our dataframe, except the 'sentiment' and 'Text' columns since we only want to be able to classify sentiments on the basis of tweet texts."
      ],
      "metadata": {
        "id": "GzG2mA_kuMFk"
      }
    },
    {
      "cell_type": "code",
      "source": [
        "df = df[['Text', 'sentiment']]"
      ],
      "metadata": {
        "id": "Cors4kgFurVm"
      },
      "execution_count": null,
      "outputs": []
    },
    {
      "cell_type": "markdown",
      "source": [
        "# Data Preprocessing and Text Cleansing"
      ],
      "metadata": {
        "id": "FJ2ybkIe6gXb"
      }
    },
    {
      "cell_type": "markdown",
      "source": [
        "### Transforming the target class 'sentiment' into an ordinally encoded categorical variable"
      ],
      "metadata": {
        "id": "qEgQiflb6mbt"
      }
    },
    {
      "cell_type": "code",
      "source": [
        "le = sklearn.preprocessing.LabelEncoder()\n",
        "\n",
        "df['classification'] = le.fit_transform(df['sentiment'])\n",
        "\n",
        "df.head()"
      ],
      "metadata": {
        "colab": {
          "base_uri": "https://localhost:8080/",
          "height": 206
        },
        "id": "iKjaNgi46k--",
        "outputId": "cf8f6c45-cad6-430f-e6bf-9f22a9a41cfd"
      },
      "execution_count": null,
      "outputs": [
        {
          "output_type": "execute_result",
          "data": {
            "text/plain": [
              "                                                Text sentiment  classification\n",
              "0  @Logitech @apple @Google @Microsoft @Dell @Len...   neutral               1\n",
              "1  @MK_habit_addict @official_stier @MortalKombat...   neutral               1\n",
              "2  As @CRN celebrates its 40th anniversary, Bob F...  positive               2\n",
              "3  @dell your customer service is horrible especi...  negative               0\n",
              "4  @zacokalo @Dell @DellCares @Dell give the man ...   neutral               1"
            ],
            "text/html": [
              "\n",
              "  <div id=\"df-6ea56acb-133e-410c-8094-1aeb42e845b8\" class=\"colab-df-container\">\n",
              "    <div>\n",
              "<style scoped>\n",
              "    .dataframe tbody tr th:only-of-type {\n",
              "        vertical-align: middle;\n",
              "    }\n",
              "\n",
              "    .dataframe tbody tr th {\n",
              "        vertical-align: top;\n",
              "    }\n",
              "\n",
              "    .dataframe thead th {\n",
              "        text-align: right;\n",
              "    }\n",
              "</style>\n",
              "<table border=\"1\" class=\"dataframe\">\n",
              "  <thead>\n",
              "    <tr style=\"text-align: right;\">\n",
              "      <th></th>\n",
              "      <th>Text</th>\n",
              "      <th>sentiment</th>\n",
              "      <th>classification</th>\n",
              "    </tr>\n",
              "  </thead>\n",
              "  <tbody>\n",
              "    <tr>\n",
              "      <th>0</th>\n",
              "      <td>@Logitech @apple @Google @Microsoft @Dell @Len...</td>\n",
              "      <td>neutral</td>\n",
              "      <td>1</td>\n",
              "    </tr>\n",
              "    <tr>\n",
              "      <th>1</th>\n",
              "      <td>@MK_habit_addict @official_stier @MortalKombat...</td>\n",
              "      <td>neutral</td>\n",
              "      <td>1</td>\n",
              "    </tr>\n",
              "    <tr>\n",
              "      <th>2</th>\n",
              "      <td>As @CRN celebrates its 40th anniversary, Bob F...</td>\n",
              "      <td>positive</td>\n",
              "      <td>2</td>\n",
              "    </tr>\n",
              "    <tr>\n",
              "      <th>3</th>\n",
              "      <td>@dell your customer service is horrible especi...</td>\n",
              "      <td>negative</td>\n",
              "      <td>0</td>\n",
              "    </tr>\n",
              "    <tr>\n",
              "      <th>4</th>\n",
              "      <td>@zacokalo @Dell @DellCares @Dell give the man ...</td>\n",
              "      <td>neutral</td>\n",
              "      <td>1</td>\n",
              "    </tr>\n",
              "  </tbody>\n",
              "</table>\n",
              "</div>\n",
              "    <div class=\"colab-df-buttons\">\n",
              "\n",
              "  <div class=\"colab-df-container\">\n",
              "    <button class=\"colab-df-convert\" onclick=\"convertToInteractive('df-6ea56acb-133e-410c-8094-1aeb42e845b8')\"\n",
              "            title=\"Convert this dataframe to an interactive table.\"\n",
              "            style=\"display:none;\">\n",
              "\n",
              "  <svg xmlns=\"http://www.w3.org/2000/svg\" height=\"24px\" viewBox=\"0 -960 960 960\">\n",
              "    <path d=\"M120-120v-720h720v720H120Zm60-500h600v-160H180v160Zm220 220h160v-160H400v160Zm0 220h160v-160H400v160ZM180-400h160v-160H180v160Zm440 0h160v-160H620v160ZM180-180h160v-160H180v160Zm440 0h160v-160H620v160Z\"/>\n",
              "  </svg>\n",
              "    </button>\n",
              "\n",
              "  <style>\n",
              "    .colab-df-container {\n",
              "      display:flex;\n",
              "      gap: 12px;\n",
              "    }\n",
              "\n",
              "    .colab-df-convert {\n",
              "      background-color: #E8F0FE;\n",
              "      border: none;\n",
              "      border-radius: 50%;\n",
              "      cursor: pointer;\n",
              "      display: none;\n",
              "      fill: #1967D2;\n",
              "      height: 32px;\n",
              "      padding: 0 0 0 0;\n",
              "      width: 32px;\n",
              "    }\n",
              "\n",
              "    .colab-df-convert:hover {\n",
              "      background-color: #E2EBFA;\n",
              "      box-shadow: 0px 1px 2px rgba(60, 64, 67, 0.3), 0px 1px 3px 1px rgba(60, 64, 67, 0.15);\n",
              "      fill: #174EA6;\n",
              "    }\n",
              "\n",
              "    .colab-df-buttons div {\n",
              "      margin-bottom: 4px;\n",
              "    }\n",
              "\n",
              "    [theme=dark] .colab-df-convert {\n",
              "      background-color: #3B4455;\n",
              "      fill: #D2E3FC;\n",
              "    }\n",
              "\n",
              "    [theme=dark] .colab-df-convert:hover {\n",
              "      background-color: #434B5C;\n",
              "      box-shadow: 0px 1px 3px 1px rgba(0, 0, 0, 0.15);\n",
              "      filter: drop-shadow(0px 1px 2px rgba(0, 0, 0, 0.3));\n",
              "      fill: #FFFFFF;\n",
              "    }\n",
              "  </style>\n",
              "\n",
              "    <script>\n",
              "      const buttonEl =\n",
              "        document.querySelector('#df-6ea56acb-133e-410c-8094-1aeb42e845b8 button.colab-df-convert');\n",
              "      buttonEl.style.display =\n",
              "        google.colab.kernel.accessAllowed ? 'block' : 'none';\n",
              "\n",
              "      async function convertToInteractive(key) {\n",
              "        const element = document.querySelector('#df-6ea56acb-133e-410c-8094-1aeb42e845b8');\n",
              "        const dataTable =\n",
              "          await google.colab.kernel.invokeFunction('convertToInteractive',\n",
              "                                                    [key], {});\n",
              "        if (!dataTable) return;\n",
              "\n",
              "        const docLinkHtml = 'Like what you see? Visit the ' +\n",
              "          '<a target=\"_blank\" href=https://colab.research.google.com/notebooks/data_table.ipynb>data table notebook</a>'\n",
              "          + ' to learn more about interactive tables.';\n",
              "        element.innerHTML = '';\n",
              "        dataTable['output_type'] = 'display_data';\n",
              "        await google.colab.output.renderOutput(dataTable, element);\n",
              "        const docLink = document.createElement('div');\n",
              "        docLink.innerHTML = docLinkHtml;\n",
              "        element.appendChild(docLink);\n",
              "      }\n",
              "    </script>\n",
              "  </div>\n",
              "\n",
              "\n",
              "<div id=\"df-80cd977a-cf14-4043-9f06-8c9af30adac5\">\n",
              "  <button class=\"colab-df-quickchart\" onclick=\"quickchart('df-80cd977a-cf14-4043-9f06-8c9af30adac5')\"\n",
              "            title=\"Suggest charts\"\n",
              "            style=\"display:none;\">\n",
              "\n",
              "<svg xmlns=\"http://www.w3.org/2000/svg\" height=\"24px\"viewBox=\"0 0 24 24\"\n",
              "     width=\"24px\">\n",
              "    <g>\n",
              "        <path d=\"M19 3H5c-1.1 0-2 .9-2 2v14c0 1.1.9 2 2 2h14c1.1 0 2-.9 2-2V5c0-1.1-.9-2-2-2zM9 17H7v-7h2v7zm4 0h-2V7h2v10zm4 0h-2v-4h2v4z\"/>\n",
              "    </g>\n",
              "</svg>\n",
              "  </button>\n",
              "\n",
              "<style>\n",
              "  .colab-df-quickchart {\n",
              "      --bg-color: #E8F0FE;\n",
              "      --fill-color: #1967D2;\n",
              "      --hover-bg-color: #E2EBFA;\n",
              "      --hover-fill-color: #174EA6;\n",
              "      --disabled-fill-color: #AAA;\n",
              "      --disabled-bg-color: #DDD;\n",
              "  }\n",
              "\n",
              "  [theme=dark] .colab-df-quickchart {\n",
              "      --bg-color: #3B4455;\n",
              "      --fill-color: #D2E3FC;\n",
              "      --hover-bg-color: #434B5C;\n",
              "      --hover-fill-color: #FFFFFF;\n",
              "      --disabled-bg-color: #3B4455;\n",
              "      --disabled-fill-color: #666;\n",
              "  }\n",
              "\n",
              "  .colab-df-quickchart {\n",
              "    background-color: var(--bg-color);\n",
              "    border: none;\n",
              "    border-radius: 50%;\n",
              "    cursor: pointer;\n",
              "    display: none;\n",
              "    fill: var(--fill-color);\n",
              "    height: 32px;\n",
              "    padding: 0;\n",
              "    width: 32px;\n",
              "  }\n",
              "\n",
              "  .colab-df-quickchart:hover {\n",
              "    background-color: var(--hover-bg-color);\n",
              "    box-shadow: 0 1px 2px rgba(60, 64, 67, 0.3), 0 1px 3px 1px rgba(60, 64, 67, 0.15);\n",
              "    fill: var(--button-hover-fill-color);\n",
              "  }\n",
              "\n",
              "  .colab-df-quickchart-complete:disabled,\n",
              "  .colab-df-quickchart-complete:disabled:hover {\n",
              "    background-color: var(--disabled-bg-color);\n",
              "    fill: var(--disabled-fill-color);\n",
              "    box-shadow: none;\n",
              "  }\n",
              "\n",
              "  .colab-df-spinner {\n",
              "    border: 2px solid var(--fill-color);\n",
              "    border-color: transparent;\n",
              "    border-bottom-color: var(--fill-color);\n",
              "    animation:\n",
              "      spin 1s steps(1) infinite;\n",
              "  }\n",
              "\n",
              "  @keyframes spin {\n",
              "    0% {\n",
              "      border-color: transparent;\n",
              "      border-bottom-color: var(--fill-color);\n",
              "      border-left-color: var(--fill-color);\n",
              "    }\n",
              "    20% {\n",
              "      border-color: transparent;\n",
              "      border-left-color: var(--fill-color);\n",
              "      border-top-color: var(--fill-color);\n",
              "    }\n",
              "    30% {\n",
              "      border-color: transparent;\n",
              "      border-left-color: var(--fill-color);\n",
              "      border-top-color: var(--fill-color);\n",
              "      border-right-color: var(--fill-color);\n",
              "    }\n",
              "    40% {\n",
              "      border-color: transparent;\n",
              "      border-right-color: var(--fill-color);\n",
              "      border-top-color: var(--fill-color);\n",
              "    }\n",
              "    60% {\n",
              "      border-color: transparent;\n",
              "      border-right-color: var(--fill-color);\n",
              "    }\n",
              "    80% {\n",
              "      border-color: transparent;\n",
              "      border-right-color: var(--fill-color);\n",
              "      border-bottom-color: var(--fill-color);\n",
              "    }\n",
              "    90% {\n",
              "      border-color: transparent;\n",
              "      border-bottom-color: var(--fill-color);\n",
              "    }\n",
              "  }\n",
              "</style>\n",
              "\n",
              "  <script>\n",
              "    async function quickchart(key) {\n",
              "      const quickchartButtonEl =\n",
              "        document.querySelector('#' + key + ' button');\n",
              "      quickchartButtonEl.disabled = true;  // To prevent multiple clicks.\n",
              "      quickchartButtonEl.classList.add('colab-df-spinner');\n",
              "      try {\n",
              "        const charts = await google.colab.kernel.invokeFunction(\n",
              "            'suggestCharts', [key], {});\n",
              "      } catch (error) {\n",
              "        console.error('Error during call to suggestCharts:', error);\n",
              "      }\n",
              "      quickchartButtonEl.classList.remove('colab-df-spinner');\n",
              "      quickchartButtonEl.classList.add('colab-df-quickchart-complete');\n",
              "    }\n",
              "    (() => {\n",
              "      let quickchartButtonEl =\n",
              "        document.querySelector('#df-80cd977a-cf14-4043-9f06-8c9af30adac5 button');\n",
              "      quickchartButtonEl.style.display =\n",
              "        google.colab.kernel.accessAllowed ? 'block' : 'none';\n",
              "    })();\n",
              "  </script>\n",
              "</div>\n",
              "    </div>\n",
              "  </div>\n"
            ]
          },
          "metadata": {},
          "execution_count": 81
        }
      ]
    },
    {
      "cell_type": "markdown",
      "source": [
        "##### We have encoded 'negative' sentiment as 0, 'neutral' as 1 and 'positive' as 2. Which seems to be reasonable in terms of sentimental progression as well. Now we shall drop the column 'sentiment' as we have extracted the necessary classes from it:"
      ],
      "metadata": {
        "id": "i0_MK47U7YhD"
      }
    },
    {
      "cell_type": "code",
      "source": [
        "df = df.drop(['sentiment'], axis=1)"
      ],
      "metadata": {
        "id": "HnS56U6o7uR4"
      },
      "execution_count": null,
      "outputs": []
    },
    {
      "cell_type": "markdown",
      "source": [
        "### Renaming the 'Text' column to 'text'"
      ],
      "metadata": {
        "id": "-UyX5Hu6Cxvr"
      }
    },
    {
      "cell_type": "code",
      "source": [
        "df.columns = ['text', 'classification']"
      ],
      "metadata": {
        "id": "IZT_CrHHC3Sb"
      },
      "execution_count": null,
      "outputs": []
    },
    {
      "cell_type": "markdown",
      "source": [
        "### Now we shall move onto our 'text' column preprocessing and cleansing"
      ],
      "metadata": {
        "id": "9BS1W8vT79W0"
      }
    },
    {
      "cell_type": "markdown",
      "source": [
        "### Firstly we will need to clean up our text as the tweet text we are working with contains a lot of unnecessary details, such as hyperlinks, tweet sender information etc. We will also make the text lowercase for our vectorization operation later to work smoothly. And lastly we will use a stemmer to stem the words down and remove prefix or suffixes"
      ],
      "metadata": {
        "id": "h93wlOrjF9rC"
      }
    },
    {
      "cell_type": "code",
      "source": [
        "def preprocessor(text):\n",
        "  # making lower case\n",
        "  text = text.lower()\n",
        "\n",
        "  #removing hyperlinks\n",
        "  text = re.sub(r\"(?:\\@|http?\\://|https?\\://|www)\\S+\", \"\", text)\n",
        "\n",
        "  # Keeping english characters and numbers and removing unnecesary info\n",
        "  tokenizer = nltk.RegexpTokenizer(r\"\\w+\")\n",
        "  words = tokenizer.tokenize(text)\n",
        "\n",
        "  # stemming\n",
        "  porter_stemmer = nltk.stem.porter.PorterStemmer()\n",
        "  stemmed_words = [porter_stemmer.stem(w) for w in words]\n",
        "\n",
        "  return \" \".join(stemmed_words)\n",
        "\n",
        "df[\"cleaned_text\"] = df[\"text\"].apply(preprocessor)\n",
        "\n",
        "df.head()"
      ],
      "metadata": {
        "colab": {
          "base_uri": "https://localhost:8080/",
          "height": 206
        },
        "id": "Uf8QaGBrL-Y6",
        "outputId": "b63ba950-8905-492a-d262-3f0fb8872680"
      },
      "execution_count": null,
      "outputs": [
        {
          "output_type": "execute_result",
          "data": {
            "text/plain": [
              "                                                text  classification  \\\n",
              "0  @Logitech @apple @Google @Microsoft @Dell @Len...               1   \n",
              "1  @MK_habit_addict @official_stier @MortalKombat...               1   \n",
              "2  As @CRN celebrates its 40th anniversary, Bob F...               2   \n",
              "3  @dell your customer service is horrible especi...               0   \n",
              "4  @zacokalo @Dell @DellCares @Dell give the man ...               1   \n",
              "\n",
              "                                        cleaned_text  \n",
              "0  whatif qwerti were modifi for programm so thin...  \n",
              "1  she s get a new laptop when the one she ha one...  \n",
              "2  as celebr it 40th anniversari bob faletra and ...  \n",
              "3  your custom servic is horribl especi agent sye...  \n",
              "4                      give the man what he paid for  "
            ],
            "text/html": [
              "\n",
              "  <div id=\"df-5001ff3c-7a51-429e-983a-49f0489f393e\" class=\"colab-df-container\">\n",
              "    <div>\n",
              "<style scoped>\n",
              "    .dataframe tbody tr th:only-of-type {\n",
              "        vertical-align: middle;\n",
              "    }\n",
              "\n",
              "    .dataframe tbody tr th {\n",
              "        vertical-align: top;\n",
              "    }\n",
              "\n",
              "    .dataframe thead th {\n",
              "        text-align: right;\n",
              "    }\n",
              "</style>\n",
              "<table border=\"1\" class=\"dataframe\">\n",
              "  <thead>\n",
              "    <tr style=\"text-align: right;\">\n",
              "      <th></th>\n",
              "      <th>text</th>\n",
              "      <th>classification</th>\n",
              "      <th>cleaned_text</th>\n",
              "    </tr>\n",
              "  </thead>\n",
              "  <tbody>\n",
              "    <tr>\n",
              "      <th>0</th>\n",
              "      <td>@Logitech @apple @Google @Microsoft @Dell @Len...</td>\n",
              "      <td>1</td>\n",
              "      <td>whatif qwerti were modifi for programm so thin...</td>\n",
              "    </tr>\n",
              "    <tr>\n",
              "      <th>1</th>\n",
              "      <td>@MK_habit_addict @official_stier @MortalKombat...</td>\n",
              "      <td>1</td>\n",
              "      <td>she s get a new laptop when the one she ha one...</td>\n",
              "    </tr>\n",
              "    <tr>\n",
              "      <th>2</th>\n",
              "      <td>As @CRN celebrates its 40th anniversary, Bob F...</td>\n",
              "      <td>2</td>\n",
              "      <td>as celebr it 40th anniversari bob faletra and ...</td>\n",
              "    </tr>\n",
              "    <tr>\n",
              "      <th>3</th>\n",
              "      <td>@dell your customer service is horrible especi...</td>\n",
              "      <td>0</td>\n",
              "      <td>your custom servic is horribl especi agent sye...</td>\n",
              "    </tr>\n",
              "    <tr>\n",
              "      <th>4</th>\n",
              "      <td>@zacokalo @Dell @DellCares @Dell give the man ...</td>\n",
              "      <td>1</td>\n",
              "      <td>give the man what he paid for</td>\n",
              "    </tr>\n",
              "  </tbody>\n",
              "</table>\n",
              "</div>\n",
              "    <div class=\"colab-df-buttons\">\n",
              "\n",
              "  <div class=\"colab-df-container\">\n",
              "    <button class=\"colab-df-convert\" onclick=\"convertToInteractive('df-5001ff3c-7a51-429e-983a-49f0489f393e')\"\n",
              "            title=\"Convert this dataframe to an interactive table.\"\n",
              "            style=\"display:none;\">\n",
              "\n",
              "  <svg xmlns=\"http://www.w3.org/2000/svg\" height=\"24px\" viewBox=\"0 -960 960 960\">\n",
              "    <path d=\"M120-120v-720h720v720H120Zm60-500h600v-160H180v160Zm220 220h160v-160H400v160Zm0 220h160v-160H400v160ZM180-400h160v-160H180v160Zm440 0h160v-160H620v160ZM180-180h160v-160H180v160Zm440 0h160v-160H620v160Z\"/>\n",
              "  </svg>\n",
              "    </button>\n",
              "\n",
              "  <style>\n",
              "    .colab-df-container {\n",
              "      display:flex;\n",
              "      gap: 12px;\n",
              "    }\n",
              "\n",
              "    .colab-df-convert {\n",
              "      background-color: #E8F0FE;\n",
              "      border: none;\n",
              "      border-radius: 50%;\n",
              "      cursor: pointer;\n",
              "      display: none;\n",
              "      fill: #1967D2;\n",
              "      height: 32px;\n",
              "      padding: 0 0 0 0;\n",
              "      width: 32px;\n",
              "    }\n",
              "\n",
              "    .colab-df-convert:hover {\n",
              "      background-color: #E2EBFA;\n",
              "      box-shadow: 0px 1px 2px rgba(60, 64, 67, 0.3), 0px 1px 3px 1px rgba(60, 64, 67, 0.15);\n",
              "      fill: #174EA6;\n",
              "    }\n",
              "\n",
              "    .colab-df-buttons div {\n",
              "      margin-bottom: 4px;\n",
              "    }\n",
              "\n",
              "    [theme=dark] .colab-df-convert {\n",
              "      background-color: #3B4455;\n",
              "      fill: #D2E3FC;\n",
              "    }\n",
              "\n",
              "    [theme=dark] .colab-df-convert:hover {\n",
              "      background-color: #434B5C;\n",
              "      box-shadow: 0px 1px 3px 1px rgba(0, 0, 0, 0.15);\n",
              "      filter: drop-shadow(0px 1px 2px rgba(0, 0, 0, 0.3));\n",
              "      fill: #FFFFFF;\n",
              "    }\n",
              "  </style>\n",
              "\n",
              "    <script>\n",
              "      const buttonEl =\n",
              "        document.querySelector('#df-5001ff3c-7a51-429e-983a-49f0489f393e button.colab-df-convert');\n",
              "      buttonEl.style.display =\n",
              "        google.colab.kernel.accessAllowed ? 'block' : 'none';\n",
              "\n",
              "      async function convertToInteractive(key) {\n",
              "        const element = document.querySelector('#df-5001ff3c-7a51-429e-983a-49f0489f393e');\n",
              "        const dataTable =\n",
              "          await google.colab.kernel.invokeFunction('convertToInteractive',\n",
              "                                                    [key], {});\n",
              "        if (!dataTable) return;\n",
              "\n",
              "        const docLinkHtml = 'Like what you see? Visit the ' +\n",
              "          '<a target=\"_blank\" href=https://colab.research.google.com/notebooks/data_table.ipynb>data table notebook</a>'\n",
              "          + ' to learn more about interactive tables.';\n",
              "        element.innerHTML = '';\n",
              "        dataTable['output_type'] = 'display_data';\n",
              "        await google.colab.output.renderOutput(dataTable, element);\n",
              "        const docLink = document.createElement('div');\n",
              "        docLink.innerHTML = docLinkHtml;\n",
              "        element.appendChild(docLink);\n",
              "      }\n",
              "    </script>\n",
              "  </div>\n",
              "\n",
              "\n",
              "<div id=\"df-646e3224-9545-480e-8871-2b51e0581dcc\">\n",
              "  <button class=\"colab-df-quickchart\" onclick=\"quickchart('df-646e3224-9545-480e-8871-2b51e0581dcc')\"\n",
              "            title=\"Suggest charts\"\n",
              "            style=\"display:none;\">\n",
              "\n",
              "<svg xmlns=\"http://www.w3.org/2000/svg\" height=\"24px\"viewBox=\"0 0 24 24\"\n",
              "     width=\"24px\">\n",
              "    <g>\n",
              "        <path d=\"M19 3H5c-1.1 0-2 .9-2 2v14c0 1.1.9 2 2 2h14c1.1 0 2-.9 2-2V5c0-1.1-.9-2-2-2zM9 17H7v-7h2v7zm4 0h-2V7h2v10zm4 0h-2v-4h2v4z\"/>\n",
              "    </g>\n",
              "</svg>\n",
              "  </button>\n",
              "\n",
              "<style>\n",
              "  .colab-df-quickchart {\n",
              "      --bg-color: #E8F0FE;\n",
              "      --fill-color: #1967D2;\n",
              "      --hover-bg-color: #E2EBFA;\n",
              "      --hover-fill-color: #174EA6;\n",
              "      --disabled-fill-color: #AAA;\n",
              "      --disabled-bg-color: #DDD;\n",
              "  }\n",
              "\n",
              "  [theme=dark] .colab-df-quickchart {\n",
              "      --bg-color: #3B4455;\n",
              "      --fill-color: #D2E3FC;\n",
              "      --hover-bg-color: #434B5C;\n",
              "      --hover-fill-color: #FFFFFF;\n",
              "      --disabled-bg-color: #3B4455;\n",
              "      --disabled-fill-color: #666;\n",
              "  }\n",
              "\n",
              "  .colab-df-quickchart {\n",
              "    background-color: var(--bg-color);\n",
              "    border: none;\n",
              "    border-radius: 50%;\n",
              "    cursor: pointer;\n",
              "    display: none;\n",
              "    fill: var(--fill-color);\n",
              "    height: 32px;\n",
              "    padding: 0;\n",
              "    width: 32px;\n",
              "  }\n",
              "\n",
              "  .colab-df-quickchart:hover {\n",
              "    background-color: var(--hover-bg-color);\n",
              "    box-shadow: 0 1px 2px rgba(60, 64, 67, 0.3), 0 1px 3px 1px rgba(60, 64, 67, 0.15);\n",
              "    fill: var(--button-hover-fill-color);\n",
              "  }\n",
              "\n",
              "  .colab-df-quickchart-complete:disabled,\n",
              "  .colab-df-quickchart-complete:disabled:hover {\n",
              "    background-color: var(--disabled-bg-color);\n",
              "    fill: var(--disabled-fill-color);\n",
              "    box-shadow: none;\n",
              "  }\n",
              "\n",
              "  .colab-df-spinner {\n",
              "    border: 2px solid var(--fill-color);\n",
              "    border-color: transparent;\n",
              "    border-bottom-color: var(--fill-color);\n",
              "    animation:\n",
              "      spin 1s steps(1) infinite;\n",
              "  }\n",
              "\n",
              "  @keyframes spin {\n",
              "    0% {\n",
              "      border-color: transparent;\n",
              "      border-bottom-color: var(--fill-color);\n",
              "      border-left-color: var(--fill-color);\n",
              "    }\n",
              "    20% {\n",
              "      border-color: transparent;\n",
              "      border-left-color: var(--fill-color);\n",
              "      border-top-color: var(--fill-color);\n",
              "    }\n",
              "    30% {\n",
              "      border-color: transparent;\n",
              "      border-left-color: var(--fill-color);\n",
              "      border-top-color: var(--fill-color);\n",
              "      border-right-color: var(--fill-color);\n",
              "    }\n",
              "    40% {\n",
              "      border-color: transparent;\n",
              "      border-right-color: var(--fill-color);\n",
              "      border-top-color: var(--fill-color);\n",
              "    }\n",
              "    60% {\n",
              "      border-color: transparent;\n",
              "      border-right-color: var(--fill-color);\n",
              "    }\n",
              "    80% {\n",
              "      border-color: transparent;\n",
              "      border-right-color: var(--fill-color);\n",
              "      border-bottom-color: var(--fill-color);\n",
              "    }\n",
              "    90% {\n",
              "      border-color: transparent;\n",
              "      border-bottom-color: var(--fill-color);\n",
              "    }\n",
              "  }\n",
              "</style>\n",
              "\n",
              "  <script>\n",
              "    async function quickchart(key) {\n",
              "      const quickchartButtonEl =\n",
              "        document.querySelector('#' + key + ' button');\n",
              "      quickchartButtonEl.disabled = true;  // To prevent multiple clicks.\n",
              "      quickchartButtonEl.classList.add('colab-df-spinner');\n",
              "      try {\n",
              "        const charts = await google.colab.kernel.invokeFunction(\n",
              "            'suggestCharts', [key], {});\n",
              "      } catch (error) {\n",
              "        console.error('Error during call to suggestCharts:', error);\n",
              "      }\n",
              "      quickchartButtonEl.classList.remove('colab-df-spinner');\n",
              "      quickchartButtonEl.classList.add('colab-df-quickchart-complete');\n",
              "    }\n",
              "    (() => {\n",
              "      let quickchartButtonEl =\n",
              "        document.querySelector('#df-646e3224-9545-480e-8871-2b51e0581dcc button');\n",
              "      quickchartButtonEl.style.display =\n",
              "        google.colab.kernel.accessAllowed ? 'block' : 'none';\n",
              "    })();\n",
              "  </script>\n",
              "</div>\n",
              "    </div>\n",
              "  </div>\n"
            ]
          },
          "metadata": {},
          "execution_count": 84
        }
      ]
    },
    {
      "cell_type": "code",
      "source": [
        "text = df['text'][1]\n",
        "print(text)\n",
        "\n",
        "txt = df['cleaned_text'][1]\n",
        "print(txt)"
      ],
      "metadata": {
        "colab": {
          "base_uri": "https://localhost:8080/"
        },
        "id": "S2bdHmWoOTYb",
        "outputId": "2d650059-6f05-413e-d039-8793918a0e35"
      },
      "execution_count": null,
      "outputs": [
        {
          "output_type": "stream",
          "name": "stdout",
          "text": [
            "@MK_habit_addict @official_stier @MortalKombat @newzealand She's getting a new @Dell #laptop when the one she has one only 2-3 years old.  (More than triple the price - though much higher utility). https://t.co/7WvkCw7vQf\n",
            "she s get a new laptop when the one she ha one onli 2 3 year old more than tripl the price though much higher util\n"
          ]
        }
      ]
    },
    {
      "cell_type": "markdown",
      "source": [
        "##### After comparison of cleaned text with text pre-cleansing, we can be reasonably satisfied, all the necessary information to judge the tweet sentiment has been kept and unnecessary details which would confuse our learning models are removed. We shall also remove the 'text' column now"
      ],
      "metadata": {
        "id": "fvUKKdAxPsYr"
      }
    },
    {
      "cell_type": "code",
      "source": [
        "df = df.drop(['text'], axis=1)\n",
        "df.head()"
      ],
      "metadata": {
        "colab": {
          "base_uri": "https://localhost:8080/",
          "height": 206
        },
        "id": "lwkoF9qaRcsa",
        "outputId": "3e723033-5418-4ea1-a653-689cf3d2dad4"
      },
      "execution_count": null,
      "outputs": [
        {
          "output_type": "execute_result",
          "data": {
            "text/plain": [
              "   classification                                       cleaned_text\n",
              "0               1  whatif qwerti were modifi for programm so thin...\n",
              "1               1  she s get a new laptop when the one she ha one...\n",
              "2               2  as celebr it 40th anniversari bob faletra and ...\n",
              "3               0  your custom servic is horribl especi agent sye...\n",
              "4               1                      give the man what he paid for"
            ],
            "text/html": [
              "\n",
              "  <div id=\"df-0537ca68-e9b0-458e-85bf-706e707f2611\" class=\"colab-df-container\">\n",
              "    <div>\n",
              "<style scoped>\n",
              "    .dataframe tbody tr th:only-of-type {\n",
              "        vertical-align: middle;\n",
              "    }\n",
              "\n",
              "    .dataframe tbody tr th {\n",
              "        vertical-align: top;\n",
              "    }\n",
              "\n",
              "    .dataframe thead th {\n",
              "        text-align: right;\n",
              "    }\n",
              "</style>\n",
              "<table border=\"1\" class=\"dataframe\">\n",
              "  <thead>\n",
              "    <tr style=\"text-align: right;\">\n",
              "      <th></th>\n",
              "      <th>classification</th>\n",
              "      <th>cleaned_text</th>\n",
              "    </tr>\n",
              "  </thead>\n",
              "  <tbody>\n",
              "    <tr>\n",
              "      <th>0</th>\n",
              "      <td>1</td>\n",
              "      <td>whatif qwerti were modifi for programm so thin...</td>\n",
              "    </tr>\n",
              "    <tr>\n",
              "      <th>1</th>\n",
              "      <td>1</td>\n",
              "      <td>she s get a new laptop when the one she ha one...</td>\n",
              "    </tr>\n",
              "    <tr>\n",
              "      <th>2</th>\n",
              "      <td>2</td>\n",
              "      <td>as celebr it 40th anniversari bob faletra and ...</td>\n",
              "    </tr>\n",
              "    <tr>\n",
              "      <th>3</th>\n",
              "      <td>0</td>\n",
              "      <td>your custom servic is horribl especi agent sye...</td>\n",
              "    </tr>\n",
              "    <tr>\n",
              "      <th>4</th>\n",
              "      <td>1</td>\n",
              "      <td>give the man what he paid for</td>\n",
              "    </tr>\n",
              "  </tbody>\n",
              "</table>\n",
              "</div>\n",
              "    <div class=\"colab-df-buttons\">\n",
              "\n",
              "  <div class=\"colab-df-container\">\n",
              "    <button class=\"colab-df-convert\" onclick=\"convertToInteractive('df-0537ca68-e9b0-458e-85bf-706e707f2611')\"\n",
              "            title=\"Convert this dataframe to an interactive table.\"\n",
              "            style=\"display:none;\">\n",
              "\n",
              "  <svg xmlns=\"http://www.w3.org/2000/svg\" height=\"24px\" viewBox=\"0 -960 960 960\">\n",
              "    <path d=\"M120-120v-720h720v720H120Zm60-500h600v-160H180v160Zm220 220h160v-160H400v160Zm0 220h160v-160H400v160ZM180-400h160v-160H180v160Zm440 0h160v-160H620v160ZM180-180h160v-160H180v160Zm440 0h160v-160H620v160Z\"/>\n",
              "  </svg>\n",
              "    </button>\n",
              "\n",
              "  <style>\n",
              "    .colab-df-container {\n",
              "      display:flex;\n",
              "      gap: 12px;\n",
              "    }\n",
              "\n",
              "    .colab-df-convert {\n",
              "      background-color: #E8F0FE;\n",
              "      border: none;\n",
              "      border-radius: 50%;\n",
              "      cursor: pointer;\n",
              "      display: none;\n",
              "      fill: #1967D2;\n",
              "      height: 32px;\n",
              "      padding: 0 0 0 0;\n",
              "      width: 32px;\n",
              "    }\n",
              "\n",
              "    .colab-df-convert:hover {\n",
              "      background-color: #E2EBFA;\n",
              "      box-shadow: 0px 1px 2px rgba(60, 64, 67, 0.3), 0px 1px 3px 1px rgba(60, 64, 67, 0.15);\n",
              "      fill: #174EA6;\n",
              "    }\n",
              "\n",
              "    .colab-df-buttons div {\n",
              "      margin-bottom: 4px;\n",
              "    }\n",
              "\n",
              "    [theme=dark] .colab-df-convert {\n",
              "      background-color: #3B4455;\n",
              "      fill: #D2E3FC;\n",
              "    }\n",
              "\n",
              "    [theme=dark] .colab-df-convert:hover {\n",
              "      background-color: #434B5C;\n",
              "      box-shadow: 0px 1px 3px 1px rgba(0, 0, 0, 0.15);\n",
              "      filter: drop-shadow(0px 1px 2px rgba(0, 0, 0, 0.3));\n",
              "      fill: #FFFFFF;\n",
              "    }\n",
              "  </style>\n",
              "\n",
              "    <script>\n",
              "      const buttonEl =\n",
              "        document.querySelector('#df-0537ca68-e9b0-458e-85bf-706e707f2611 button.colab-df-convert');\n",
              "      buttonEl.style.display =\n",
              "        google.colab.kernel.accessAllowed ? 'block' : 'none';\n",
              "\n",
              "      async function convertToInteractive(key) {\n",
              "        const element = document.querySelector('#df-0537ca68-e9b0-458e-85bf-706e707f2611');\n",
              "        const dataTable =\n",
              "          await google.colab.kernel.invokeFunction('convertToInteractive',\n",
              "                                                    [key], {});\n",
              "        if (!dataTable) return;\n",
              "\n",
              "        const docLinkHtml = 'Like what you see? Visit the ' +\n",
              "          '<a target=\"_blank\" href=https://colab.research.google.com/notebooks/data_table.ipynb>data table notebook</a>'\n",
              "          + ' to learn more about interactive tables.';\n",
              "        element.innerHTML = '';\n",
              "        dataTable['output_type'] = 'display_data';\n",
              "        await google.colab.output.renderOutput(dataTable, element);\n",
              "        const docLink = document.createElement('div');\n",
              "        docLink.innerHTML = docLinkHtml;\n",
              "        element.appendChild(docLink);\n",
              "      }\n",
              "    </script>\n",
              "  </div>\n",
              "\n",
              "\n",
              "<div id=\"df-137605ce-cb44-4a92-be0d-305546ecdb5c\">\n",
              "  <button class=\"colab-df-quickchart\" onclick=\"quickchart('df-137605ce-cb44-4a92-be0d-305546ecdb5c')\"\n",
              "            title=\"Suggest charts\"\n",
              "            style=\"display:none;\">\n",
              "\n",
              "<svg xmlns=\"http://www.w3.org/2000/svg\" height=\"24px\"viewBox=\"0 0 24 24\"\n",
              "     width=\"24px\">\n",
              "    <g>\n",
              "        <path d=\"M19 3H5c-1.1 0-2 .9-2 2v14c0 1.1.9 2 2 2h14c1.1 0 2-.9 2-2V5c0-1.1-.9-2-2-2zM9 17H7v-7h2v7zm4 0h-2V7h2v10zm4 0h-2v-4h2v4z\"/>\n",
              "    </g>\n",
              "</svg>\n",
              "  </button>\n",
              "\n",
              "<style>\n",
              "  .colab-df-quickchart {\n",
              "      --bg-color: #E8F0FE;\n",
              "      --fill-color: #1967D2;\n",
              "      --hover-bg-color: #E2EBFA;\n",
              "      --hover-fill-color: #174EA6;\n",
              "      --disabled-fill-color: #AAA;\n",
              "      --disabled-bg-color: #DDD;\n",
              "  }\n",
              "\n",
              "  [theme=dark] .colab-df-quickchart {\n",
              "      --bg-color: #3B4455;\n",
              "      --fill-color: #D2E3FC;\n",
              "      --hover-bg-color: #434B5C;\n",
              "      --hover-fill-color: #FFFFFF;\n",
              "      --disabled-bg-color: #3B4455;\n",
              "      --disabled-fill-color: #666;\n",
              "  }\n",
              "\n",
              "  .colab-df-quickchart {\n",
              "    background-color: var(--bg-color);\n",
              "    border: none;\n",
              "    border-radius: 50%;\n",
              "    cursor: pointer;\n",
              "    display: none;\n",
              "    fill: var(--fill-color);\n",
              "    height: 32px;\n",
              "    padding: 0;\n",
              "    width: 32px;\n",
              "  }\n",
              "\n",
              "  .colab-df-quickchart:hover {\n",
              "    background-color: var(--hover-bg-color);\n",
              "    box-shadow: 0 1px 2px rgba(60, 64, 67, 0.3), 0 1px 3px 1px rgba(60, 64, 67, 0.15);\n",
              "    fill: var(--button-hover-fill-color);\n",
              "  }\n",
              "\n",
              "  .colab-df-quickchart-complete:disabled,\n",
              "  .colab-df-quickchart-complete:disabled:hover {\n",
              "    background-color: var(--disabled-bg-color);\n",
              "    fill: var(--disabled-fill-color);\n",
              "    box-shadow: none;\n",
              "  }\n",
              "\n",
              "  .colab-df-spinner {\n",
              "    border: 2px solid var(--fill-color);\n",
              "    border-color: transparent;\n",
              "    border-bottom-color: var(--fill-color);\n",
              "    animation:\n",
              "      spin 1s steps(1) infinite;\n",
              "  }\n",
              "\n",
              "  @keyframes spin {\n",
              "    0% {\n",
              "      border-color: transparent;\n",
              "      border-bottom-color: var(--fill-color);\n",
              "      border-left-color: var(--fill-color);\n",
              "    }\n",
              "    20% {\n",
              "      border-color: transparent;\n",
              "      border-left-color: var(--fill-color);\n",
              "      border-top-color: var(--fill-color);\n",
              "    }\n",
              "    30% {\n",
              "      border-color: transparent;\n",
              "      border-left-color: var(--fill-color);\n",
              "      border-top-color: var(--fill-color);\n",
              "      border-right-color: var(--fill-color);\n",
              "    }\n",
              "    40% {\n",
              "      border-color: transparent;\n",
              "      border-right-color: var(--fill-color);\n",
              "      border-top-color: var(--fill-color);\n",
              "    }\n",
              "    60% {\n",
              "      border-color: transparent;\n",
              "      border-right-color: var(--fill-color);\n",
              "    }\n",
              "    80% {\n",
              "      border-color: transparent;\n",
              "      border-right-color: var(--fill-color);\n",
              "      border-bottom-color: var(--fill-color);\n",
              "    }\n",
              "    90% {\n",
              "      border-color: transparent;\n",
              "      border-bottom-color: var(--fill-color);\n",
              "    }\n",
              "  }\n",
              "</style>\n",
              "\n",
              "  <script>\n",
              "    async function quickchart(key) {\n",
              "      const quickchartButtonEl =\n",
              "        document.querySelector('#' + key + ' button');\n",
              "      quickchartButtonEl.disabled = true;  // To prevent multiple clicks.\n",
              "      quickchartButtonEl.classList.add('colab-df-spinner');\n",
              "      try {\n",
              "        const charts = await google.colab.kernel.invokeFunction(\n",
              "            'suggestCharts', [key], {});\n",
              "      } catch (error) {\n",
              "        console.error('Error during call to suggestCharts:', error);\n",
              "      }\n",
              "      quickchartButtonEl.classList.remove('colab-df-spinner');\n",
              "      quickchartButtonEl.classList.add('colab-df-quickchart-complete');\n",
              "    }\n",
              "    (() => {\n",
              "      let quickchartButtonEl =\n",
              "        document.querySelector('#df-137605ce-cb44-4a92-be0d-305546ecdb5c button');\n",
              "      quickchartButtonEl.style.display =\n",
              "        google.colab.kernel.accessAllowed ? 'block' : 'none';\n",
              "    })();\n",
              "  </script>\n",
              "</div>\n",
              "    </div>\n",
              "  </div>\n"
            ]
          },
          "metadata": {},
          "execution_count": 86
        }
      ]
    },
    {
      "cell_type": "markdown",
      "source": [
        "### We can now split our data into train and test sets, also performing splitting of target labels and feature space."
      ],
      "metadata": {
        "id": "F3L3lIkSQx1a"
      }
    },
    {
      "cell_type": "code",
      "source": [
        "X = df['cleaned_text']\n",
        "y = df['classification']\n",
        "\n",
        "X_train, X_test, y_train, y_test = sklearn.model_selection.train_test_split(X,y, test_size=0.3,random_state=42)\n",
        "\n"
      ],
      "metadata": {
        "id": "EVT1nVRpRG-y"
      },
      "execution_count": null,
      "outputs": []
    },
    {
      "cell_type": "markdown",
      "source": [
        "### No, we move onto text vectorization using TF-IDF vectorization approach:"
      ],
      "metadata": {
        "id": "H3BCq67cSDBC"
      }
    },
    {
      "cell_type": "markdown",
      "source": [
        "##### The main task here is to represent the resultant preprocessed text from previous operations in the form of TF-IDF feature vectors."
      ],
      "metadata": {
        "id": "1m7ig483-IPj"
      }
    },
    {
      "cell_type": "code",
      "source": [
        "vectorizer = sklearn.feature_extraction.text.TfidfVectorizer(min_df=5)\n",
        "vectorizer.fit(X_train)\n",
        "\n",
        "X_train = vectorizer.transform(X_train).toarray()\n",
        "X_test = vectorizer.transform(X_test).toarray()\n",
        "\n",
        "print('Vectorized feature space for training set: ', X_train.shape)\n",
        "print('Vectorized feature space for test set: ', X_test.shape)"
      ],
      "metadata": {
        "colab": {
          "base_uri": "https://localhost:8080/"
        },
        "id": "LeriyepD8CBN",
        "outputId": "66fe33ed-3d82-4dab-bbb8-8ea47127d252"
      },
      "execution_count": null,
      "outputs": [
        {
          "output_type": "stream",
          "name": "stdout",
          "text": [
            "Vectorized feature space for training set:  (17479, 4099)\n",
            "Vectorized feature space for test set:  (7491, 4099)\n"
          ]
        }
      ]
    },
    {
      "cell_type": "markdown",
      "source": [
        "# Model Selection"
      ],
      "metadata": {
        "id": "gCMAUq1Um6vV"
      }
    },
    {
      "cell_type": "markdown",
      "source": [
        "#### Going with the traditional machine learning models to achieve our classification task, we will now run GridSearchCV for cross validation of the best hyperparameters on the different learning algorithms we want to use for our task of classification into our three classes. After comparing the scoring metrics for each algorithm's best hyperparameter combinations we will pick the one which performs the best and evaluate this model on the test set with the help of our chosen algorithm.\n",
        "#### In order to save time on computation as well as come up with a handy, quick and easily reproducible solution; we have shortlisted:\n",
        "#### 1) KNeighborsClassifier;\n",
        "#### 2) DecisionTreeClassifier;\n",
        "#### 3) RandomForestClassifier and;\n",
        "#### 4) LGBMClassifier;\n",
        "\n",
        "#### to evaluate our model on initially.\n",
        "#### We will be using f1_macro score for evaluation as it combines precision and recall metrics for classifiers. Since we are performing a multi-class classification task between three distinct classes ('negative', 'neutral' and 'positive'), it is important to use f1 score as our metric as we will get a proper representation of which model has performed the best in identifying the target labels on accuracy (how many of the instances are labelled correctly) and completeness (how many of the instances of each target label are captured)."
      ],
      "metadata": {
        "id": "FV3Jthn2m7k-"
      }
    },
    {
      "cell_type": "markdown",
      "source": [
        "## 1) KNeighborsClassifier:"
      ],
      "metadata": {
        "id": "7D75STx_pKud"
      }
    },
    {
      "cell_type": "code",
      "source": [
        "parameters_grid = {\n",
        "    \"n_neighbors\" : range(1,7,3),\n",
        "    \"metric\" : ['euclidean','cosine']\n",
        "}\n",
        "\n",
        "model_knn = sklearn.model_selection.GridSearchCV(sklearn.neighbors.KNeighborsClassifier(), parameters_grid, cv=5, scoring='f1_macro',n_jobs=-1)\n",
        "model_knn.fit(X_train, y_train)\n",
        "print(\"f1_macro score of the best K Nearest Neighbors Classifier is: \",model_knn.best_score_)\n",
        "print(\"Best Hyperparameters for training K Nearest Neighbors Classifier are: \",model_knn.best_params_)"
      ],
      "metadata": {
        "colab": {
          "base_uri": "https://localhost:8080/"
        },
        "id": "odN51TpzpPJt",
        "outputId": "4edffa04-12b1-47ab-e56b-fa98b9829f3b"
      },
      "execution_count": null,
      "outputs": [
        {
          "output_type": "stream",
          "name": "stdout",
          "text": [
            "f1_macro score of the best K Nearest Neighbors Classifier is:  0.6475787817461326\n",
            "Best Hyperparameters for training K Nearest Neighbors Classifier are:  {'metric': 'cosine', 'n_neighbors': 4}\n"
          ]
        }
      ]
    },
    {
      "cell_type": "markdown",
      "source": [
        "## 2) DecisionTreeClassifier:"
      ],
      "metadata": {
        "id": "T3bE96mRp-oR"
      }
    },
    {
      "cell_type": "code",
      "source": [
        "parameters_grid = {\n",
        "    \"criterion\" : [\"gini\",\"entropy\",\"log_loss\"],\n",
        "    \"max_depth\" : range(5,15,5),\n",
        "    \"min_samples_split\" : range(2,4,2)\n",
        "}\n",
        "model_dt = sklearn.model_selection.GridSearchCV(sklearn.tree.DecisionTreeClassifier(random_state=0, class_weight='balanced'), parameters_grid, cv=5, scoring='f1_macro',n_jobs=-1)\n",
        "model_dt.fit(X_train, y_train)\n",
        "print(\"f1_macro score of the best Decision Tree Classifier is: \",model_dt.best_score_)\n",
        "print(\"Best Hyperparameters for training Decision Tree Classifier are: \",model_dt.best_params_)"
      ],
      "metadata": {
        "colab": {
          "base_uri": "https://localhost:8080/"
        },
        "id": "8KBtOuWvqEiA",
        "outputId": "6a1463f9-6090-4aef-d2c4-0d5f5b7b6ae7"
      },
      "execution_count": null,
      "outputs": [
        {
          "output_type": "stream",
          "name": "stdout",
          "text": [
            "f1_macro score of the best Decision Tree Classifier is:  0.5075399145323132\n",
            "Best Hyperparameters for training Decision Tree Classifier are:  {'criterion': 'gini', 'max_depth': 10, 'min_samples_split': 2}\n"
          ]
        }
      ]
    },
    {
      "cell_type": "markdown",
      "source": [
        "#### The important hypeparameters to tune for Decision Tree Classifier are:\n",
        "#### a)criterion (The function to measure the quality of a split),\n",
        "#### b)max_depth (The maximum depth of the tree) and\n",
        "#### c)min_samples_split (the minimum number of samples required to split an internal node).\n",
        "#### As Decision Tree is a fast model to train, we have tried all the criterion available to us, i.e. gini, entropy and log_loss.\n",
        "#### We have iteratively tried a range from 5, 10 and 15 as max depth of our decision trees. The model chose 10 as the max depth.\n",
        "#### We used a range of 2 to 4, with a space of 2 to test number of samples that would give best results. The best model stuck to the minimum of 2 samples so we haven't tested further on this."
      ],
      "metadata": {
        "id": "OyxHFKva6_7r"
      }
    },
    {
      "cell_type": "markdown",
      "source": [
        "## 3) RandomForestClassifier:"
      ],
      "metadata": {
        "id": "kFPST5-BqPof"
      }
    },
    {
      "cell_type": "code",
      "source": [
        "parameters_grid = {\n",
        "    \"n_estimators\" : [50,100],\n",
        "    \"max_features\" : ['sqrt','log2']\n",
        "}\n",
        "\n",
        "model_rf = sklearn.model_selection.GridSearchCV(sklearn.ensemble.RandomForestClassifier(random_state=0, class_weight='balanced'), parameters_grid, cv=5, scoring='f1_macro',n_jobs=-1)\n",
        "model_rf.fit(X_train, y_train)\n",
        "print(\"f1_macro score of the best Random Forests Classifier is: \",model_rf.best_score_)\n",
        "print(\"Best Hyperparameters for training Random Forests Classifier are: \",model_rf.best_params_)"
      ],
      "metadata": {
        "colab": {
          "base_uri": "https://localhost:8080/"
        },
        "id": "QIq7frv8qXNH",
        "outputId": "e55e08ef-6894-46b7-ca5a-a6e0a044e190"
      },
      "execution_count": null,
      "outputs": [
        {
          "output_type": "stream",
          "name": "stdout",
          "text": [
            "f1_macro score of the best Random Forests Classifier is:  0.7178759742698544\n",
            "Best Hyperparameters for training Random Forests Classifier are:  {'max_features': 'log2', 'n_estimators': 100}\n"
          ]
        }
      ]
    },
    {
      "cell_type": "markdown",
      "source": [
        "#### The most important hyperparameters here are\n",
        "#### a)n_estimators (The number of trees in the forest) and\n",
        "#### b)max_features (The number of features to consider when looking for the best split).\n",
        "#### We iteratively worked around the default number of 100 trees as n_estimators and after a number of trials and errors, we found that the best combination accepted 100 no of trees and didnt go further to 150 or lower towards 50.\n",
        "#### We tested for both the methods of selecting the random number of features to select at each split."
      ],
      "metadata": {
        "id": "kXjx4z0u7vap"
      }
    },
    {
      "cell_type": "markdown",
      "source": [
        "## 4) LightGBM using gradient boosting:"
      ],
      "metadata": {
        "id": "E4ANQ8pqqX8m"
      }
    },
    {
      "cell_type": "code",
      "source": [
        "parameters_grid = {\n",
        "    \"n_estimators\" : [100,150],\n",
        "    \"learning_rate\" : [0.07,0.1],\n",
        "    \"num_leaves\" : [10,20]\n",
        "}\n",
        "\n",
        "model_lgbm = sklearn.model_selection.GridSearchCV(lightgbm.LGBMClassifier(objective='multiclass', force_col_wise=True, class_weight='balanced', random_state=0), parameters_grid, cv=5, scoring='f1_macro',n_jobs=-1)\n",
        "model_lgbm.fit(X_train, y_train)\n",
        "print(\"f1_macro score of the best LightGBM Classifier is: \",model_lgbm.best_score_)\n",
        "print(\"Best Hyperparameters for training LightGBM Classifier are: \",model_lgbm.best_params_)"
      ],
      "metadata": {
        "colab": {
          "base_uri": "https://localhost:8080/"
        },
        "id": "1PqGaesIqbuS",
        "outputId": "95bfc7da-b60d-4478-9a5d-c5c3f35fd5fe"
      },
      "execution_count": null,
      "outputs": [
        {
          "output_type": "stream",
          "name": "stdout",
          "text": [
            "[LightGBM] [Info] Total Bins 73008\n",
            "[LightGBM] [Info] Number of data points in the train set: 17479, number of used features: 1745\n",
            "[LightGBM] [Info] Start training from score -1.098612\n",
            "[LightGBM] [Info] Start training from score -1.098612\n",
            "[LightGBM] [Info] Start training from score -1.098612\n",
            "f1_macro score of the best LightGBM Classifier is:  0.7403166900876961\n",
            "Best Hyperparameters for training LightGBM Classifier are:  {'learning_rate': 0.1, 'n_estimators': 150, 'num_leaves': 20}\n"
          ]
        }
      ]
    },
    {
      "cell_type": "markdown",
      "source": [
        "#### The most important hyperparameters to tune are:\n",
        "#### a)n_estimators ( Number of boosted trees to fit),\n",
        "#### b)learning_rate (Boosting learning rate, how much the model learns from each iteratively boosted tree) and\n",
        "#### c)num_leaves (maximum number of leaves for each base learner tree)\n",
        "#### We tried different number of trees to boost around 100 (default) and the grid search kept picking 100 without converging towards 50 or 150 trees.\n",
        "#### we tried for learning rates of 0.07, 0.1 and 0.3. And through a number of tweaking runs on other parameters, the learning rate stuck to 0.1.\n",
        "#### Number of leaves have been chosen as a hyperparameter here rather than maximum depth of trees as LightGBMClassifier works on the principle of adding leaf nodes to trees based on the information gained from them irrespective of the maximum depth. We have chosen 20 leaves as with a combination of 10 and 20 leaves, the model converged to 20 and with a combination previously tried of 20 and 30 leaves also the model was converging towards 20 leaves."
      ],
      "metadata": {
        "id": "K4a_7dvH8s_3"
      }
    },
    {
      "cell_type": "markdown",
      "source": [
        "# Training and Testing the best model:"
      ],
      "metadata": {
        "id": "0yo1_N_I3A6B"
      }
    },
    {
      "cell_type": "code",
      "source": [
        "lgbm_clf = lightgbm.LGBMClassifier(n_estimators=150, learning_rate=0.1, num_leaves=20 ,objective='multiclass', class_weight='balanced', force_col_wise=True,random_state=0,header=True)\n",
        "lgbm_clf.fit(X_train, y_train)"
      ],
      "metadata": {
        "colab": {
          "base_uri": "https://localhost:8080/",
          "height": 196
        },
        "id": "S8zcHXio3BY0",
        "outputId": "76e3cba7-911b-4fc7-de4a-bda5fe65f25c"
      },
      "execution_count": null,
      "outputs": [
        {
          "output_type": "stream",
          "name": "stdout",
          "text": [
            "[LightGBM] [Info] Total Bins 73008\n",
            "[LightGBM] [Info] Number of data points in the train set: 17479, number of used features: 1745\n",
            "[LightGBM] [Info] Start training from score -1.098612\n",
            "[LightGBM] [Info] Start training from score -1.098612\n",
            "[LightGBM] [Info] Start training from score -1.098612\n"
          ]
        },
        {
          "output_type": "execute_result",
          "data": {
            "text/plain": [
              "LGBMClassifier(class_weight='balanced', force_col_wise=True, header=True,\n",
              "               n_estimators=150, num_leaves=20, objective='multiclass',\n",
              "               random_state=0)"
            ],
            "text/html": [
              "<style>#sk-container-id-2 {color: black;background-color: white;}#sk-container-id-2 pre{padding: 0;}#sk-container-id-2 div.sk-toggleable {background-color: white;}#sk-container-id-2 label.sk-toggleable__label {cursor: pointer;display: block;width: 100%;margin-bottom: 0;padding: 0.3em;box-sizing: border-box;text-align: center;}#sk-container-id-2 label.sk-toggleable__label-arrow:before {content: \"▸\";float: left;margin-right: 0.25em;color: #696969;}#sk-container-id-2 label.sk-toggleable__label-arrow:hover:before {color: black;}#sk-container-id-2 div.sk-estimator:hover label.sk-toggleable__label-arrow:before {color: black;}#sk-container-id-2 div.sk-toggleable__content {max-height: 0;max-width: 0;overflow: hidden;text-align: left;background-color: #f0f8ff;}#sk-container-id-2 div.sk-toggleable__content pre {margin: 0.2em;color: black;border-radius: 0.25em;background-color: #f0f8ff;}#sk-container-id-2 input.sk-toggleable__control:checked~div.sk-toggleable__content {max-height: 200px;max-width: 100%;overflow: auto;}#sk-container-id-2 input.sk-toggleable__control:checked~label.sk-toggleable__label-arrow:before {content: \"▾\";}#sk-container-id-2 div.sk-estimator input.sk-toggleable__control:checked~label.sk-toggleable__label {background-color: #d4ebff;}#sk-container-id-2 div.sk-label input.sk-toggleable__control:checked~label.sk-toggleable__label {background-color: #d4ebff;}#sk-container-id-2 input.sk-hidden--visually {border: 0;clip: rect(1px 1px 1px 1px);clip: rect(1px, 1px, 1px, 1px);height: 1px;margin: -1px;overflow: hidden;padding: 0;position: absolute;width: 1px;}#sk-container-id-2 div.sk-estimator {font-family: monospace;background-color: #f0f8ff;border: 1px dotted black;border-radius: 0.25em;box-sizing: border-box;margin-bottom: 0.5em;}#sk-container-id-2 div.sk-estimator:hover {background-color: #d4ebff;}#sk-container-id-2 div.sk-parallel-item::after {content: \"\";width: 100%;border-bottom: 1px solid gray;flex-grow: 1;}#sk-container-id-2 div.sk-label:hover label.sk-toggleable__label {background-color: #d4ebff;}#sk-container-id-2 div.sk-serial::before {content: \"\";position: absolute;border-left: 1px solid gray;box-sizing: border-box;top: 0;bottom: 0;left: 50%;z-index: 0;}#sk-container-id-2 div.sk-serial {display: flex;flex-direction: column;align-items: center;background-color: white;padding-right: 0.2em;padding-left: 0.2em;position: relative;}#sk-container-id-2 div.sk-item {position: relative;z-index: 1;}#sk-container-id-2 div.sk-parallel {display: flex;align-items: stretch;justify-content: center;background-color: white;position: relative;}#sk-container-id-2 div.sk-item::before, #sk-container-id-2 div.sk-parallel-item::before {content: \"\";position: absolute;border-left: 1px solid gray;box-sizing: border-box;top: 0;bottom: 0;left: 50%;z-index: -1;}#sk-container-id-2 div.sk-parallel-item {display: flex;flex-direction: column;z-index: 1;position: relative;background-color: white;}#sk-container-id-2 div.sk-parallel-item:first-child::after {align-self: flex-end;width: 50%;}#sk-container-id-2 div.sk-parallel-item:last-child::after {align-self: flex-start;width: 50%;}#sk-container-id-2 div.sk-parallel-item:only-child::after {width: 0;}#sk-container-id-2 div.sk-dashed-wrapped {border: 1px dashed gray;margin: 0 0.4em 0.5em 0.4em;box-sizing: border-box;padding-bottom: 0.4em;background-color: white;}#sk-container-id-2 div.sk-label label {font-family: monospace;font-weight: bold;display: inline-block;line-height: 1.2em;}#sk-container-id-2 div.sk-label-container {text-align: center;}#sk-container-id-2 div.sk-container {/* jupyter's `normalize.less` sets `[hidden] { display: none; }` but bootstrap.min.css set `[hidden] { display: none !important; }` so we also need the `!important` here to be able to override the default hidden behavior on the sphinx rendered scikit-learn.org. See: https://github.com/scikit-learn/scikit-learn/issues/21755 */display: inline-block !important;position: relative;}#sk-container-id-2 div.sk-text-repr-fallback {display: none;}</style><div id=\"sk-container-id-2\" class=\"sk-top-container\"><div class=\"sk-text-repr-fallback\"><pre>LGBMClassifier(class_weight=&#x27;balanced&#x27;, force_col_wise=True, header=True,\n",
              "               n_estimators=150, num_leaves=20, objective=&#x27;multiclass&#x27;,\n",
              "               random_state=0)</pre><b>In a Jupyter environment, please rerun this cell to show the HTML representation or trust the notebook. <br />On GitHub, the HTML representation is unable to render, please try loading this page with nbviewer.org.</b></div><div class=\"sk-container\" hidden><div class=\"sk-item\"><div class=\"sk-estimator sk-toggleable\"><input class=\"sk-toggleable__control sk-hidden--visually\" id=\"sk-estimator-id-2\" type=\"checkbox\" checked><label for=\"sk-estimator-id-2\" class=\"sk-toggleable__label sk-toggleable__label-arrow\">LGBMClassifier</label><div class=\"sk-toggleable__content\"><pre>LGBMClassifier(class_weight=&#x27;balanced&#x27;, force_col_wise=True, header=True,\n",
              "               n_estimators=150, num_leaves=20, objective=&#x27;multiclass&#x27;,\n",
              "               random_state=0)</pre></div></div></div></div></div>"
            ]
          },
          "metadata": {},
          "execution_count": 67
        }
      ]
    },
    {
      "cell_type": "code",
      "source": [
        "y_pred = lgbm_clf.predict(X_test)"
      ],
      "metadata": {
        "id": "DYHCrvLD3Kre"
      },
      "execution_count": null,
      "outputs": []
    },
    {
      "cell_type": "markdown",
      "source": [
        "## Checking our predictions on various metrics of performance:"
      ],
      "metadata": {
        "id": "heRQHs4n3TQR"
      }
    },
    {
      "cell_type": "markdown",
      "source": [
        "### Classification report:"
      ],
      "metadata": {
        "id": "zGWEf2fv3T_v"
      }
    },
    {
      "cell_type": "code",
      "source": [
        "clf_report = sklearn.metrics.classification_report(y_test, y_pred)\n",
        "print(clf_report)"
      ],
      "metadata": {
        "colab": {
          "base_uri": "https://localhost:8080/"
        },
        "id": "rQzJWwnl3WdR",
        "outputId": "390ee9bf-a7ed-41ca-8a92-f04247b5bf20"
      },
      "execution_count": null,
      "outputs": [
        {
          "output_type": "stream",
          "name": "stdout",
          "text": [
            "              precision    recall  f1-score   support\n",
            "\n",
            "           0       0.84      0.80      0.82      3101\n",
            "           1       0.63      0.73      0.68      2168\n",
            "           2       0.79      0.72      0.76      2222\n",
            "\n",
            "    accuracy                           0.76      7491\n",
            "   macro avg       0.75      0.75      0.75      7491\n",
            "weighted avg       0.77      0.76      0.76      7491\n",
            "\n"
          ]
        }
      ]
    },
    {
      "cell_type": "markdown",
      "source": [
        "#### In our classification report we can see a strong predictive result for the negative sentiment class 0 in terms of all metrics. This may also be a result of the biasedness of our dataset towards this class."
      ],
      "metadata": {
        "id": "78VHuzWQEyvs"
      }
    },
    {
      "cell_type": "markdown",
      "source": [
        "### Confusion Matrix (A visual representation):"
      ],
      "metadata": {
        "id": "Lfw7GSVW3asY"
      }
    },
    {
      "cell_type": "code",
      "source": [
        "c_matrix = sklearn.metrics.confusion_matrix(y_test, y_pred)\n",
        "c_matrix_data_view = pd.DataFrame(data=c_matrix, columns=['Predicted Negative:0', 'Predicted Neutral:1', 'Predicted Positive:2'],\n",
        "                                  index=['Negative:0', 'Neutral:1', 'Positive:2'])\n",
        "sns.heatmap(c_matrix_data_view, annot=True, fmt='d', cmap='rocket_r')"
      ],
      "metadata": {
        "colab": {
          "base_uri": "https://localhost:8080/",
          "height": 578
        },
        "id": "LNJiZLN83bUw",
        "outputId": "c6578ae6-dfb7-46a5-c5b3-eefa84972ec2"
      },
      "execution_count": null,
      "outputs": [
        {
          "output_type": "execute_result",
          "data": {
            "text/plain": [
              "<Axes: >"
            ]
          },
          "metadata": {},
          "execution_count": 70
        },
        {
          "output_type": "display_data",
          "data": {
            "text/plain": [
              "<Figure size 640x480 with 2 Axes>"
            ],
            "image/png": "[encoded data removed]"
          },
          "metadata": {}
        }
      ]
    },
    {
      "cell_type": "markdown",
      "source": [
        "#### The above result shown in the classification report can also be visually seen in the confusion matrix."
      ],
      "metadata": {
        "id": "z6psKnfmFIej"
      }
    },
    {
      "cell_type": "markdown",
      "source": [
        "# Discussion:"
      ],
      "metadata": {
        "id": "YizEMnDR9Z1G"
      }
    },
    {
      "cell_type": "markdown",
      "source": [
        "### Strengths of the solution used:"
      ],
      "metadata": {
        "id": "7kkfJqqs9dX5"
      }
    },
    {
      "cell_type": "markdown",
      "source": [
        "#### 1) As our dataset didn't have many null values, the clear structure of textual representations could be worked out well and without many complications. The simplicity of LightGBM as a gradient boosting ensemble learning algorithm also gives an added advantage in terms of widespread application.\n",
        "#### 2) The dataset imbalance was worked around by using class_weights parameter and setting it to balanced, which automatically gives inverse weights to classes compared to their input frequency.\n",
        "#### 3) As LightGBMClassifier works exceptionally fast for its computational ability, our model can be applied in real time and updated in a routine fashion for the customer input and review department to further analyse resulting tweets on the basis of importance and pertinence of sentiment.\n",
        "#### 4) The f1, precision and recall scores of our model are excellent on the 0 class, i.e. the negative sentiment tweets. This is important as any manufacturing or servicing concern would like to quickly get through and analyse negative feedback on its services and products and improve.\n"
      ],
      "metadata": {
        "id": "zVvIVIBy9hJy"
      }
    },
    {
      "cell_type": "markdown",
      "source": [
        "### Weaknesses of the solution used:\n"
      ],
      "metadata": {
        "id": "fSs4FtsxBZn3"
      }
    },
    {
      "cell_type": "markdown",
      "source": [
        "#### 1) We have not factored for the columns 'emotion', 'emotion_score' and 'sentiment_score' which might add an extra layer of effectiveness to our model in terms of predictions.\n",
        "#### 2) Our model gives poor recall score in predicting the neutral sentiment class '1' and to a lower extent for the positive sentiment class '2'. This could be an issue as the company may also want to analyse positive feedback more effectively in order to analyse the success of strategies employed for furthering customer satisfaction.\n",
        "#### 3) LightGBM works very fast and captures a lot of information from features, however, in practice, working with huge datasets such as tweets and reviews of customers that split into thousands of features post vectorization may be a task much better suited to modern neural network architectures and popular data transformers. Giving more effective ad efficient results."
      ],
      "metadata": {
        "id": "6a7LNrQMBczS"
      }
    },
    {
      "cell_type": "markdown",
      "source": [
        "## Recommendations:"
      ],
      "metadata": {
        "id": "5waDO-hnDiRN"
      }
    },
    {
      "cell_type": "markdown",
      "source": [
        "#### I would recommend using this model in real time for sentiment analysis of tweets, comments and other review formats accessed by customers over the internet and targetting the following:\n",
        "#### 1) Using the segregated texts for further analysis by further classification of the texts into segmental issues pointed out (customer service, hardware quality etc.).\n",
        "#### 2) Quick response mechanisms such as the use of AI to reach disgruntled customers can also be employed by targetting negative sentiment comments for further action.\n",
        "#### 3) The model may also be employed to see what segment of customers are the most disgruntled by the services and products offered and subsequently the company may decide to improve on the customer segment or concentrate its resources elsewhere depending on its marketing strategy."
      ],
      "metadata": {
        "id": "9US5WumoDjD6"
      }
    }
  ]
}